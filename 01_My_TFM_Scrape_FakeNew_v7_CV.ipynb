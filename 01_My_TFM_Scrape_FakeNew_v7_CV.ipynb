{
  "nbformat": 4,
  "nbformat_minor": 0,
  "metadata": {
    "colab": {
      "name": "01_My_TFM_Scrape_FakeNew_v7_CV.ipynb",
      "provenance": [],
      "collapsed_sections": []
    },
    "kernelspec": {
      "name": "python3",
      "display_name": "Python 3"
    },
    "language_info": {
      "name": "python"
    }
  },
  "cells": [
    {
      "cell_type": "markdown",
      "metadata": {
        "id": "sSMmIjd0AN2_"
      },
      "source": [
        "#TFM - Análisis de la evolución de noticias falsas en Twitter\n",
        "\n",
        "##Fase 01 - Scraping.\n",
        "\n",
        "En esta fase utilizaremos el API de Twitter para encontrar una noticia falsa y poder interactuar con ella.\n",
        "\n",
        "##Fuentes\n",
        "###Analisis Twitter\n",
        "- [Hands-On Guide to Download, Analyze and Visualize Twitter Data](https://analyticsindiamag.com/hands-on-guide-to-download-analyze-and-visualize-twitter-data/)\n",
        "\n",
        "###Working with CSV\n",
        "- [Python Write CSV File](https://www.pythontutorial.net/python-basics/python-write-csv-file/)\n",
        "\n",
        "###tweepy \n",
        "- [How to Scrape More Information From Tweets on Twitter](https://towardsdatascience.com/how-to-scrape-more-information-from-tweets-on-twitter-44fd540b8a1f)\n",
        "- [Getting full tweet text from \"user_timeline\" with tweepy](https://stackoverflow.com/questions/42705314/getting-full-tweet-text-from-user-timeline-with-tweepy)\n",
        "- [Lesson 2. Automate Getting Twitter Data in Python Using Tweepy and API Access](https://www.earthdatascience.org/courses/use-data-open-source-python/intro-to-apis/twitter-data-in-python/)"
      ]
    },
    {
      "cell_type": "markdown",
      "metadata": {
        "id": "zfnMbf9gFutR"
      },
      "source": [
        "Algoritmo pasado por Alejandro Martin Garcia para el TFM:\n",
        "Para hacer comparaciones semánticas de tweets mediante embeddings, te recomiendo Sentence-BERT*.\n",
        "\n",
        "Lo ideal es que tengas un conjunto de tweets descargado que sabes que trata el tema sobre el que vas a hacer un análisis de su evolución. Necesitas tenerlos ya para poder calcular los embeddings de todos ellos. Podríamos plantear algo dinámico, pero no creo que tengamos tiempo suficiente.\n",
        "\n",
        "Por ello te recomiendo el siguiente plan de trabajo:\n",
        "\n",
        "- Céntrate en 1 noticia falsa para luego exportar a 3 o 4. \n",
        "-- Para cada una de ellas, tendrías que descargarte un conjunto de tweets que sea lo suficientemente grande para hacer algo interesante. Para ello, te recomiendo que te definas una cadena de búsqueda con keywords **para cada una de esas noticias falsas** y la lances al API de twitter. Con ello te descargarás un conjunto de N tweets que contengan las keywords que has utilizado en la búsqueda. Necesitas una búsqueda lo suficientemente amplia para no céntrarte únicamente en los que tengan la noticia falsa escrita siempre de la misma forma. Te conviene tener tweets que hablen de otras cosas.\n",
        "\n",
        "- Genera los embeddings de todos esos tweets.\n",
        "\n",
        "- Selecciona un tweet concreto T0 a mano que nos sirva de punto de partida: debe contener el bulo de la forma más clara y tener la fecha más antigua posible.\n",
        "\n",
        "- Diseña una estrategia para calcular distancias y establecer las distancias entre pares de tweets. Esto te generará una matrix o un grafo: tendrás una distancia entre cada par de tweets (nodos)."
      ]
    },
    {
      "cell_type": "markdown",
      "metadata": {
        "id": "_BfnYnK7cFDo"
      },
      "source": [
        "Vamos a utilizar una noticia falsa sobre un teórico tsuname causado por el volcán Cumbre Vieja:\n",
        "\n",
        "https://twitter.com/i/web/status/1437906277859045376\n",
        "\n",
        "\n",
        "![image.png](data:image/png;base64,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)"
      ]
    },
    {
      "cell_type": "code",
      "metadata": {
        "colab": {
          "base_uri": "https://localhost:8080/"
        },
        "id": "g6E0Ac04AOKS",
        "outputId": "7d744fc7-d347-4d90-e42e-9f6270d8c306"
      },
      "source": [
        "#################################################\n",
        "# Importing Libraries\n",
        "#################################################\n",
        "import tweepy\n",
        "from textblob import TextBlob\n",
        "import pandas as pd\n",
        "import numpy as np\n",
        "import datetime\n",
        "\n",
        "#import matplotlib.pyplot as plt\n",
        "#import re\n",
        "import nltk\n",
        "nltk.download('stopwords')\n",
        "from nltk.corpus import stopwords\n",
        "from nltk.stem.porter import PorterStemmer\n",
        "from wordcloud import WordCloud\n",
        "import json\n",
        "from collections import Counter\n",
        "\n",
        "# Needed to create/load csv file with twits\n",
        "#import csv\n",
        "\n",
        "print('Librerias cargadas a las ', datetime.datetime.now().strftime(\"%d %b %Y - %H:%M:%S\"),'...')"
      ],
      "execution_count": null,
      "outputs": [
        {
          "output_type": "stream",
          "name": "stdout",
          "text": [
            "[nltk_data] Downloading package stopwords to /root/nltk_data...\n",
            "[nltk_data]   Unzipping corpora/stopwords.zip.\n",
            "Librerias cargadas a las  08 Oct 2021 - 05:27:06 ...\n"
          ]
        }
      ]
    },
    {
      "cell_type": "code",
      "metadata": {
        "colab": {
          "base_uri": "https://localhost:8080/"
        },
        "id": "11HF-zA_1a9q",
        "outputId": "4ec02e9c-b931-4eeb-b068-85d809c44c8d"
      },
      "source": [
        "######################################################\n",
        "# Mount google drive and use folder of data\n",
        "######################################################\n",
        "from google.colab import drive\n",
        "drive.mount('/content/drive/')\n",
        "BASE_FOLDER = '/content/drive/My Drive/Colab Notebooks/09_TFM/c_vieja_data/'\n",
        "\n",
        "print('\\nDRIVE montada a las ', datetime.datetime.now().strftime(\"%d %b %Y - %H:%M:%S\"),'...')"
      ],
      "execution_count": null,
      "outputs": [
        {
          "output_type": "stream",
          "name": "stdout",
          "text": [
            "Mounted at /content/drive/\n",
            "\n",
            "DRIVE montada a las  08 Oct 2021 - 05:28:25 ...\n"
          ]
        }
      ]
    },
    {
      "cell_type": "code",
      "metadata": {
        "id": "HfXn3g5wtAyz",
        "colab": {
          "base_uri": "https://localhost:8080/"
        },
        "outputId": "8ce309fc-c083-446c-9731-a354e6962762"
      },
      "source": [
        "#################################################################\n",
        "# Authorization and Search tweets\n",
        "# Getting authorization\n",
        "#################################################################\n",
        "consumer_key = 'BVjiq6zsiVyMZddCAEQWecifR'\n",
        "consumer_key_secret = 'P2TJjdxOUg73wP8oDL6rR3UL8d1NXpvBmVJyS3v3Ss4QMvixNW'\n",
        "access_token = '1438422348433133574-dwxfha6i7OytpH0n5PHkoAY4L8fsPI'\n",
        "access_token_secret = 'st0CWyXbeOUwKDszQGwhtH6q5qOU4W0l6tWTNC5maFuJp'\n",
        "auth = tweepy.OAuthHandler(consumer_key, consumer_key_secret)\n",
        "auth.set_access_token(access_token, access_token_secret)\n",
        "api = tweepy.API(auth, wait_on_rate_limit=True)\n",
        "\n",
        "print('\\nAutorizado en el API Twiter a las ', datetime.datetime.now().strftime(\"%d %b %Y - %H:%M:%S\"),'...')"
      ],
      "execution_count": null,
      "outputs": [
        {
          "output_type": "stream",
          "name": "stdout",
          "text": [
            "\n",
            "Autorizado en el API Twiter a las  08 Oct 2021 - 05:28:28 ...\n"
          ]
        }
      ]
    },
    {
      "cell_type": "code",
      "metadata": {
        "id": "63lkt0XfOruu",
        "colab": {
          "base_uri": "https://localhost:8080/"
        },
        "outputId": "441aad2e-967a-4cce-97a9-be20d8fb777c"
      },
      "source": [
        "#################################################################\n",
        "# Method which write tweets on files Json and CSV files\n",
        "# Deprecated/Obsolete/Fuera de uso\n",
        "#################################################################\n",
        "def tweets2files(searched_tweets, file_name_date_pattern, file_name_pattern):\n",
        "\n",
        "    json_file_fullname = BASE_FOLDER+file_name_date_pattern+'_tweets_'+file_name_pattern+'.json'\n",
        "    csv_file_fullname = BASE_FOLDER+file_name_date_pattern+'_twits_'+file_name_pattern+'.csv'\n",
        "    csv_text_file_fullname = BASE_FOLDER+file_name_date_pattern+'_only_text_twits_'+file_name_pattern+'.csv'\n",
        "\n",
        "    my_list_of_dicts = []\n",
        "    for each_json_tweet in searched_tweets:\n",
        "        my_list_of_dicts.append(each_json_tweet._json)\n",
        "\n",
        "    #   \n",
        "    with open(json_file_fullname, 'w') as file:\n",
        "            file.write(json.dumps(my_list_of_dicts, indent=4))\n",
        "\n",
        "    #\n",
        "    my_demo_list = []\n",
        "    with open(json_file_fullname, encoding='utf-8') as json_file:  \n",
        "        all_data = json.load(json_file)\n",
        "        for each_dictionary in all_data:\n",
        "            tweet_id = each_dictionary['id']\n",
        "            ##text = each_dictionary['text']\n",
        "            text = each_dictionary['full_text']\n",
        "            favorite_count = each_dictionary['favorite_count']\n",
        "            retweet_count = each_dictionary['retweet_count']\n",
        "            created_at = each_dictionary['created_at']\n",
        "\n",
        "            #\n",
        "            my_demo_list.append({'tweet_id': str(tweet_id),\n",
        "                                'text': str(text).replace('\\t', '  '),\n",
        "                                'favorite_count': int(favorite_count),\n",
        "                                'retweet_count': int(retweet_count),\n",
        "                                'created_at': created_at,\n",
        "                                })\n",
        "            \n",
        "            #\n",
        "            tweet_dataset = pd.DataFrame(my_demo_list, columns = \n",
        "                                      ['tweet_id', 'text', \n",
        "                                      'favorite_count', 'retweet_count', \n",
        "                                      'created_at'])\n",
        "            \n",
        "            #\n",
        "            only_tweet_text_dataset = pd.DataFrame(my_demo_list, columns = ['text'])\n",
        "        #for\n",
        "    #with\n",
        "\n",
        "    #Writing tweet dataset to csv file for future reference\n",
        "    tweet_dataset.to_csv(csv_file_fullname, index=False, sep='\\t')\n",
        "\n",
        "    #Writing only the text to csv file for future reference\n",
        "    only_tweet_text_dataset.to_csv(csv_text_file_fullname, index=False, sep='\\t')\n",
        "#def\n",
        "\n",
        "#################################################################\n",
        "# Method which write tweets on Json file\n",
        "#\n",
        "#################################################################\n",
        "def tweets2JSON_only(searched_tweets, file_name_date_pattern, file_name_pattern):\n",
        "\n",
        "    json_file_fullname = BASE_FOLDER+file_name_date_pattern+'_tweets_'+file_name_pattern+'.json'\n",
        "\n",
        "    my_list_of_dicts = []\n",
        "    for each_json_tweet in searched_tweets:\n",
        "        my_list_of_dicts.append(each_json_tweet._json)\n",
        "\n",
        "    #   \n",
        "    with open(json_file_fullname, 'w') as file:\n",
        "            file.write(json.dumps(my_list_of_dicts, indent=4))\n",
        "#def\n",
        "\n",
        "print('\\Métodos creado a las ', datetime.datetime.now().strftime(\"%d %b %Y - %H:%M:%S\"),'...')"
      ],
      "execution_count": null,
      "outputs": [
        {
          "output_type": "stream",
          "name": "stdout",
          "text": [
            "\\Métodos creado a las  08 Oct 2021 - 05:37:24 ...\n"
          ]
        }
      ]
    },
    {
      "cell_type": "code",
      "metadata": {
        "id": "FGShNMLwtyxK"
      },
      "source": [
        "##type(searched_tweets)\n",
        "##print(searched_tweets[0])"
      ],
      "execution_count": null,
      "outputs": []
    },
    {
      "cell_type": "markdown",
      "metadata": {
        "id": "CF70s2j3N3R4"
      },
      "source": [
        "Con la noticia falsa, me descargo los posibles twits relacionados"
      ]
    },
    {
      "cell_type": "code",
      "metadata": {
        "id": "bp4kbMYEN41G"
      },
      "source": [
        "#################################################################\n",
        "# Via api we try to get related tweets about fake news\n",
        "# https://www.earthdatascience.org/courses/use-data-open-source-python/intro-to-apis/twitter-data-in-python/\n",
        "#################################################################\n",
        "# Queries al api de Twiter por consulta para unir posteriormete en el dataset\n",
        "\n",
        "startDate = datetime.datetime(2021, 9, 20, 0, 0, 1)\n",
        "endDate =   datetime.datetime(2021, 10, 10, 0, 0, 1)\n",
        "\n",
        "#Defining Search keyword and number of tweets and searching tweets\n",
        "max_tweets = 4000\n",
        "\n",
        "# Get tweets: full text, in spanish, \n",
        "###query = '(megatsunami) OR (mega-tsunami) OR (cumbre AND vieja)'\n",
        "###searched_tweets = [status for status in tweepy.Cursor(api.search, q=query, tweet_mode=\"extended\", lang=\"es\").items(max_tweets)]\n",
        "\n",
        "#--------------------------------------\n",
        "query1 = 'megatsunami'\n",
        "\n",
        "##searched_tweets = [status for status in tweepy.Cursor(api.search, q=query1, tweet_mode=\"extended\", lang=\"es\", since=startDate ,until=endDate).items(max_tweets)]\n",
        "searched_tweets = [status for status in tweepy.Cursor(api.search, q=query1, tweet_mode=\"extended\", lang=\"es\").items(max_tweets)]\n",
        "tweets2JSON_only(searched_tweets, '20211008', query1)\n",
        "\n",
        "#--------------------------------------\n",
        "query2 = 'mega-tsunami'\n",
        "\n",
        "##searched_tweets = [status for status in tweepy.Cursor(api.search, q=query2, tweet_mode=\"extended\", lang=\"es\", since=startDate ,until=endDate).items(max_tweets)]\n",
        "searched_tweets = [status for status in tweepy.Cursor(api.search, q=query2, tweet_mode=\"extended\", lang=\"es\").items(max_tweets)]\n",
        "tweets2JSON_only(searched_tweets, '20211008', query2)\n",
        "\n",
        "#--------------------------------------\n",
        "query3 = 'cumbre vieja'\n",
        "\n",
        "##searched_tweets = [status for status in tweepy.Cursor(api.search, q=query3, tweet_mode=\"extended\", lang=\"es\", since=startDate ,until=endDate).items(max_tweets)]\n",
        "searched_tweets = [status for status in tweepy.Cursor(api.search, q=query3, tweet_mode=\"extended\", lang=\"es\").items(max_tweets)]\n",
        "tweets2JSON_only(searched_tweets, '20211008', \"cumbre_vieja\")\n",
        "\n"
      ],
      "execution_count": null,
      "outputs": []
    },
    {
      "cell_type": "code",
      "metadata": {
        "id": "L1rnugRBW_uG"
      },
      "source": [
        "#--------------------------------------\n",
        "#Defining Search keyword and number of tweets and searching tweets\n",
        "max_tweets = 4000\n",
        "\n",
        "#query4 = 'actualidad OR noticias OR ciencias -filter:retweets AND filter:replies AND filter:media'\n",
        "query4 = 'actualidad OR noticias OR ciencias'\n",
        "\n",
        "\n",
        "##searched_tweets = [status for status in tweepy.Cursor(api.search, q=query3, tweet_mode=\"extended\", lang=\"es\", since=startDate ,until=endDate).items(max_tweets)]\n",
        "searched_tweets = [status for status in tweepy.Cursor(api.search, q=query4, tweet_mode=\"extended\", lang=\"es\").items(max_tweets)]\n",
        "tweets2JSON_only(searched_tweets, '20211008', \"actualidad\")"
      ],
      "execution_count": null,
      "outputs": []
    },
    {
      "cell_type": "code",
      "metadata": {
        "id": "iQaODih2HSQU"
      },
      "source": [
        "#https://www.kaggle.com/joseguzman/a-hack-to-get-historical-tweets\n",
        "\n",
        "#!pip install git+https://github.com/JustAnotherArchivist/snscrape.git\n",
        "\n",
        "import snscrape.modules.twitter as sntwitter\n",
        "\n",
        "startDate = datetime.datetime(2021, 9, 20, 0, 0, 1)\n",
        "endDate =   datetime.datetime(2021, 10, 10, 0, 0, 1)\n",
        "\n",
        "query1 = 'megatsunami'\n",
        "\n",
        "mysearch = f'{query1} -filter:retweets since:{startDate} until:{endDate}'\n",
        "# collect tweet ids!!\n",
        "searched_tweets = sntwitter.TwitterSearchScraper(mysearch).get_items()\n",
        "tweets2JSON_only(searched_tweets, query1)"
      ],
      "execution_count": null,
      "outputs": []
    }
  ]
}