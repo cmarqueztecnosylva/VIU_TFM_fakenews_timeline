{
  "nbformat": 4,
  "nbformat_minor": 0,
  "metadata": {
    "colab": {
      "name": "02_My_TFM_Embeddings_v8.ipynb",
      "provenance": [],
      "collapsed_sections": []
    },
    "kernelspec": {
      "display_name": "Python 3",
      "name": "python3"
    },
    "language_info": {
      "name": "python"
    },
    "accelerator": "GPU",
    "widgets": {
      "application/vnd.jupyter.widget-state+json": {
        "064da837813e4b39b693aaffacdd2470": {
          "model_module": "@jupyter-widgets/controls",
          "model_name": "HBoxModel",
          "model_module_version": "1.5.0",
          "state": {
            "_view_name": "HBoxView",
            "_dom_classes": [],
            "_model_name": "HBoxModel",
            "_view_module": "@jupyter-widgets/controls",
            "_model_module_version": "1.5.0",
            "_view_count": null,
            "_view_module_version": "1.5.0",
            "box_style": "",
            "layout": "IPY_MODEL_061e8e5f820549d2b68a0ea68e112930",
            "_model_module": "@jupyter-widgets/controls",
            "children": [
              "IPY_MODEL_60bb080f70e44467a85ee47cfa76a673",
              "IPY_MODEL_5c75246442f143dc9a28312da95649f7",
              "IPY_MODEL_86804f5d46604d57847ce356191602f0"
            ]
          }
        },
        "061e8e5f820549d2b68a0ea68e112930": {
          "model_module": "@jupyter-widgets/base",
          "model_name": "LayoutModel",
          "model_module_version": "1.2.0",
          "state": {
            "_view_name": "LayoutView",
            "grid_template_rows": null,
            "right": null,
            "justify_content": null,
            "_view_module": "@jupyter-widgets/base",
            "overflow": null,
            "_model_module_version": "1.2.0",
            "_view_count": null,
            "flex_flow": null,
            "width": null,
            "min_width": null,
            "border": null,
            "align_items": null,
            "bottom": null,
            "_model_module": "@jupyter-widgets/base",
            "top": null,
            "grid_column": null,
            "overflow_y": null,
            "overflow_x": null,
            "grid_auto_flow": null,
            "grid_area": null,
            "grid_template_columns": null,
            "flex": null,
            "_model_name": "LayoutModel",
            "justify_items": null,
            "grid_row": null,
            "max_height": null,
            "align_content": null,
            "visibility": null,
            "align_self": null,
            "height": null,
            "min_height": null,
            "padding": null,
            "grid_auto_rows": null,
            "grid_gap": null,
            "max_width": null,
            "order": null,
            "_view_module_version": "1.2.0",
            "grid_template_areas": null,
            "object_position": null,
            "object_fit": null,
            "grid_auto_columns": null,
            "margin": null,
            "display": null,
            "left": null
          }
        },
        "60bb080f70e44467a85ee47cfa76a673": {
          "model_module": "@jupyter-widgets/controls",
          "model_name": "HTMLModel",
          "model_module_version": "1.5.0",
          "state": {
            "_view_name": "HTMLView",
            "style": "IPY_MODEL_68133238b90a4d68a49d6631342e31a3",
            "_dom_classes": [],
            "description": "",
            "_model_name": "HTMLModel",
            "placeholder": "​",
            "_view_module": "@jupyter-widgets/controls",
            "_model_module_version": "1.5.0",
            "value": "Downloading: 100%",
            "_view_count": null,
            "_view_module_version": "1.5.0",
            "description_tooltip": null,
            "_model_module": "@jupyter-widgets/controls",
            "layout": "IPY_MODEL_4942048f467a4185b2000471131ead03"
          }
        },
        "5c75246442f143dc9a28312da95649f7": {
          "model_module": "@jupyter-widgets/controls",
          "model_name": "FloatProgressModel",
          "model_module_version": "1.5.0",
          "state": {
            "_view_name": "ProgressView",
            "style": "IPY_MODEL_1dbbd0e3064f49b79966612f52fba07b",
            "_dom_classes": [],
            "description": "",
            "_model_name": "FloatProgressModel",
            "bar_style": "success",
            "max": 690,
            "_view_module": "@jupyter-widgets/controls",
            "_model_module_version": "1.5.0",
            "value": 690,
            "_view_count": null,
            "_view_module_version": "1.5.0",
            "orientation": "horizontal",
            "min": 0,
            "description_tooltip": null,
            "_model_module": "@jupyter-widgets/controls",
            "layout": "IPY_MODEL_eddb892d3a5a4af2a18ee1694c452d66"
          }
        },
        "86804f5d46604d57847ce356191602f0": {
          "model_module": "@jupyter-widgets/controls",
          "model_name": "HTMLModel",
          "model_module_version": "1.5.0",
          "state": {
            "_view_name": "HTMLView",
            "style": "IPY_MODEL_7ff94a3d5f134f21af0b7fae2a72f843",
            "_dom_classes": [],
            "description": "",
            "_model_name": "HTMLModel",
            "placeholder": "​",
            "_view_module": "@jupyter-widgets/controls",
            "_model_module_version": "1.5.0",
            "value": " 690/690 [00:00&lt;00:00, 15.9kB/s]",
            "_view_count": null,
            "_view_module_version": "1.5.0",
            "description_tooltip": null,
            "_model_module": "@jupyter-widgets/controls",
            "layout": "IPY_MODEL_e93f515f1fdc4232991ad78680eaf2f4"
          }
        },
        "68133238b90a4d68a49d6631342e31a3": {
          "model_module": "@jupyter-widgets/controls",
          "model_name": "DescriptionStyleModel",
          "model_module_version": "1.5.0",
          "state": {
            "_view_name": "StyleView",
            "_model_name": "DescriptionStyleModel",
            "description_width": "",
            "_view_module": "@jupyter-widgets/base",
            "_model_module_version": "1.5.0",
            "_view_count": null,
            "_view_module_version": "1.2.0",
            "_model_module": "@jupyter-widgets/controls"
          }
        },
        "4942048f467a4185b2000471131ead03": {
          "model_module": "@jupyter-widgets/base",
          "model_name": "LayoutModel",
          "model_module_version": "1.2.0",
          "state": {
            "_view_name": "LayoutView",
            "grid_template_rows": null,
            "right": null,
            "justify_content": null,
            "_view_module": "@jupyter-widgets/base",
            "overflow": null,
            "_model_module_version": "1.2.0",
            "_view_count": null,
            "flex_flow": null,
            "width": null,
            "min_width": null,
            "border": null,
            "align_items": null,
            "bottom": null,
            "_model_module": "@jupyter-widgets/base",
            "top": null,
            "grid_column": null,
            "overflow_y": null,
            "overflow_x": null,
            "grid_auto_flow": null,
            "grid_area": null,
            "grid_template_columns": null,
            "flex": null,
            "_model_name": "LayoutModel",
            "justify_items": null,
            "grid_row": null,
            "max_height": null,
            "align_content": null,
            "visibility": null,
            "align_self": null,
            "height": null,
            "min_height": null,
            "padding": null,
            "grid_auto_rows": null,
            "grid_gap": null,
            "max_width": null,
            "order": null,
            "_view_module_version": "1.2.0",
            "grid_template_areas": null,
            "object_position": null,
            "object_fit": null,
            "grid_auto_columns": null,
            "margin": null,
            "display": null,
            "left": null
          }
        },
        "1dbbd0e3064f49b79966612f52fba07b": {
          "model_module": "@jupyter-widgets/controls",
          "model_name": "ProgressStyleModel",
          "model_module_version": "1.5.0",
          "state": {
            "_view_name": "StyleView",
            "_model_name": "ProgressStyleModel",
            "description_width": "",
            "_view_module": "@jupyter-widgets/base",
            "_model_module_version": "1.5.0",
            "_view_count": null,
            "_view_module_version": "1.2.0",
            "bar_color": null,
            "_model_module": "@jupyter-widgets/controls"
          }
        },
        "eddb892d3a5a4af2a18ee1694c452d66": {
          "model_module": "@jupyter-widgets/base",
          "model_name": "LayoutModel",
          "model_module_version": "1.2.0",
          "state": {
            "_view_name": "LayoutView",
            "grid_template_rows": null,
            "right": null,
            "justify_content": null,
            "_view_module": "@jupyter-widgets/base",
            "overflow": null,
            "_model_module_version": "1.2.0",
            "_view_count": null,
            "flex_flow": null,
            "width": null,
            "min_width": null,
            "border": null,
            "align_items": null,
            "bottom": null,
            "_model_module": "@jupyter-widgets/base",
            "top": null,
            "grid_column": null,
            "overflow_y": null,
            "overflow_x": null,
            "grid_auto_flow": null,
            "grid_area": null,
            "grid_template_columns": null,
            "flex": null,
            "_model_name": "LayoutModel",
            "justify_items": null,
            "grid_row": null,
            "max_height": null,
            "align_content": null,
            "visibility": null,
            "align_self": null,
            "height": null,
            "min_height": null,
            "padding": null,
            "grid_auto_rows": null,
            "grid_gap": null,
            "max_width": null,
            "order": null,
            "_view_module_version": "1.2.0",
            "grid_template_areas": null,
            "object_position": null,
            "object_fit": null,
            "grid_auto_columns": null,
            "margin": null,
            "display": null,
            "left": null
          }
        },
        "7ff94a3d5f134f21af0b7fae2a72f843": {
          "model_module": "@jupyter-widgets/controls",
          "model_name": "DescriptionStyleModel",
          "model_module_version": "1.5.0",
          "state": {
            "_view_name": "StyleView",
            "_model_name": "DescriptionStyleModel",
            "description_width": "",
            "_view_module": "@jupyter-widgets/base",
            "_model_module_version": "1.5.0",
            "_view_count": null,
            "_view_module_version": "1.2.0",
            "_model_module": "@jupyter-widgets/controls"
          }
        },
        "e93f515f1fdc4232991ad78680eaf2f4": {
          "model_module": "@jupyter-widgets/base",
          "model_name": "LayoutModel",
          "model_module_version": "1.2.0",
          "state": {
            "_view_name": "LayoutView",
            "grid_template_rows": null,
            "right": null,
            "justify_content": null,
            "_view_module": "@jupyter-widgets/base",
            "overflow": null,
            "_model_module_version": "1.2.0",
            "_view_count": null,
            "flex_flow": null,
            "width": null,
            "min_width": null,
            "border": null,
            "align_items": null,
            "bottom": null,
            "_model_module": "@jupyter-widgets/base",
            "top": null,
            "grid_column": null,
            "overflow_y": null,
            "overflow_x": null,
            "grid_auto_flow": null,
            "grid_area": null,
            "grid_template_columns": null,
            "flex": null,
            "_model_name": "LayoutModel",
            "justify_items": null,
            "grid_row": null,
            "max_height": null,
            "align_content": null,
            "visibility": null,
            "align_self": null,
            "height": null,
            "min_height": null,
            "padding": null,
            "grid_auto_rows": null,
            "grid_gap": null,
            "max_width": null,
            "order": null,
            "_view_module_version": "1.2.0",
            "grid_template_areas": null,
            "object_position": null,
            "object_fit": null,
            "grid_auto_columns": null,
            "margin": null,
            "display": null,
            "left": null
          }
        }
      }
    }
  },
  "cells": [
    {
      "cell_type": "markdown",
      "metadata": {
        "id": "qocB0XhvSD61"
      },
      "source": [
        "#TFM - Análisis de la evolución de noticias falsas en Twitter\n",
        "\n",
        "##Fase 02 - Texto a Números\n",
        "\n",
        "En esta fase trataremos de procesar el texto de los tweets y pasarlos por el modelo para adquirir los Embeddings. \n",
        "También trataremos de localizar el tweet más antiguo que hable de esta noticia falsa.\n",
        "\n",
        "\n",
        "##Fuentes\n",
        "###Sentence-BERT\n",
        "- [Sentence Embeddings with BERT & XLNet](https://pythonrepo.com/repo/UKPLab-sentence-transformers-python-natural-language-processing)\n",
        "- [Quickstart Sentence-BERT](https://www.sbert.net/docs/quickstart.html)\n",
        "- [Pretrained Models](https://www.sbert.net/docs/pretrained_models.html)\n",
        "\n",
        "###BERT Analisis Twitter\n",
        "- [How I used Bidirectional Encoder Representations from Transformers (BERT) to Analyze Twitter Data](https://analyticsindiamag.com/how-i-used-bidirectional-encoder-representations-from-transformers-bert-to-analyze-twitter-data/)\n",
        "- [Hands-On Guide to Download, Analyze and Visualize Twitter Data](https://analyticsindiamag.com/hands-on-guide-to-download-analyze-and-visualize-twitter-data/)\n",
        "- [Guide To Pysentimiento Toolkit | Text Classification Using Transformers](https://analyticsindiamag.com/guide-to-pysentimiento-toolkit-text-classification-using-transformers)\n",
        "- [Sentence Embeddings with BERT & XLNet](https://pythonrepo.com/repo/UKPLab-sentence-transformers-python-natural-language-processing)\n",
        "- [Semantic Textual Similarity](https://www.sbert.net/docs/usage/semantic_textual_similarity.html)\n",
        "- [Computing Sentence Embeddings](https://www.sbert.net/examples/applications/computing-embeddings/README.html)\n",
        "\n",
        "###Sentence-bert model spanish texts\n",
        "- [Multi-Lingual Models](https://www.sbert.net/docs/pretrained_models.html)\n",
        "- [BETO: Spanish BERT](https://medium.com/dair-ai/beto-spanish-bert-420e4860d2c6)\n",
        "- [BETO: Spanish BERT on GitHub](https://github.com/dccuchile/beto)\n",
        "\n",
        "@inproceedings{CaneteCFP2020,\n",
        "  title={Spanish Pre-Trained BERT Model and Evaluation Data},\n",
        "  author={Cañete, José and Chaperon, Gabriel and Fuentes, Rodrigo and Ho, Jou-Hui and Kang, Hojin and Pérez, Jorge},\n",
        "  booktitle={PML4DC at ICLR 2020},\n",
        "  year={2020}\n",
        "}\n",
        "\n",
        "###Calculo de distancias\n",
        "- [scipy.spatial.distance.cosine](https://docs.scipy.org/doc/scipy/reference/generated/scipy.spatial.distance.cosine.html)\n",
        "- [Cosine Similarity – Understanding the math and how it works (with python codes)](https://www.machinelearningplus.com/nlp/cosine-similarity/)\n",
        "- [Document Similarity] (https://shravan-kuchkula.github.io/document_similarity/#)\n",
        "- [Semantic Textual Similarity](https://www.sbert.net/docs/usage/semantic_textual_similarity.html)\n",
        "\n",
        "###CSV\n",
        "- [CSV File Reading and Writing](https://docs.python.org/3/library/csv.html)\n",
        "\n",
        "###Helps on development\n",
        "- https://stackoverflow.com/questions/62710872/how-to-store-word-vector-embeddings\n",
        "- https://stackoverflow.com/questions/66537949/convert-twitter-new-date-format-to-date-time-y-m-d-hms\n",
        "- https://stackoverflow.com/questions/8200342/removing-duplicate-strings-from-a-list-in-python\n",
        "\n"
      ]
    },
    {
      "cell_type": "code",
      "metadata": {
        "colab": {
          "base_uri": "https://localhost:8080/"
        },
        "id": "Mvu9b49USEKh",
        "outputId": "5e9c2aa8-802c-43df-b447-a75f21a42fc9"
      },
      "source": [
        "#################################################\n",
        "# install the sentence-transformers\n",
        "#################################################\n",
        "import datetime #uso de fechas\n",
        "\n",
        "# install the sentence-transformers\n",
        "!pip install -U sentence-transformers\n",
        "\n",
        "print('\\n\\nInstalación realizada a las ', datetime.datetime.now().strftime(\"%d %b %Y - %H:%M:%S\"),'...')"
      ],
      "execution_count": null,
      "outputs": [
        {
          "output_type": "stream",
          "name": "stdout",
          "text": [
            "Collecting sentence-transformers\n",
            "  Downloading sentence-transformers-2.1.0.tar.gz (78 kB)\n",
            "\u001b[K     |████████████████████████████████| 78 kB 3.4 MB/s \n",
            "\u001b[?25hCollecting transformers<5.0.0,>=4.6.0\n",
            "  Downloading transformers-4.11.3-py3-none-any.whl (2.9 MB)\n",
            "\u001b[K     |████████████████████████████████| 2.9 MB 29.7 MB/s \n",
            "\u001b[?25hCollecting tokenizers>=0.10.3\n",
            "  Downloading tokenizers-0.10.3-cp37-cp37m-manylinux_2_5_x86_64.manylinux1_x86_64.manylinux_2_12_x86_64.manylinux2010_x86_64.whl (3.3 MB)\n",
            "\u001b[K     |████████████████████████████████| 3.3 MB 38.9 MB/s \n",
            "\u001b[?25hRequirement already satisfied: tqdm in /usr/local/lib/python3.7/dist-packages (from sentence-transformers) (4.62.3)\n",
            "Requirement already satisfied: torch>=1.6.0 in /usr/local/lib/python3.7/dist-packages (from sentence-transformers) (1.9.0+cu102)\n",
            "Requirement already satisfied: torchvision in /usr/local/lib/python3.7/dist-packages (from sentence-transformers) (0.10.0+cu102)\n",
            "Requirement already satisfied: numpy in /usr/local/lib/python3.7/dist-packages (from sentence-transformers) (1.19.5)\n",
            "Requirement already satisfied: scikit-learn in /usr/local/lib/python3.7/dist-packages (from sentence-transformers) (0.22.2.post1)\n",
            "Requirement already satisfied: scipy in /usr/local/lib/python3.7/dist-packages (from sentence-transformers) (1.4.1)\n",
            "Requirement already satisfied: nltk in /usr/local/lib/python3.7/dist-packages (from sentence-transformers) (3.2.5)\n",
            "Collecting sentencepiece\n",
            "  Downloading sentencepiece-0.1.96-cp37-cp37m-manylinux_2_17_x86_64.manylinux2014_x86_64.whl (1.2 MB)\n",
            "\u001b[K     |████████████████████████████████| 1.2 MB 37.1 MB/s \n",
            "\u001b[?25hCollecting huggingface-hub\n",
            "  Downloading huggingface_hub-0.0.19-py3-none-any.whl (56 kB)\n",
            "\u001b[K     |████████████████████████████████| 56 kB 4.6 MB/s \n",
            "\u001b[?25hRequirement already satisfied: typing-extensions in /usr/local/lib/python3.7/dist-packages (from torch>=1.6.0->sentence-transformers) (3.7.4.3)\n",
            "Requirement already satisfied: importlib-metadata in /usr/local/lib/python3.7/dist-packages (from transformers<5.0.0,>=4.6.0->sentence-transformers) (4.8.1)\n",
            "Collecting sacremoses\n",
            "  Downloading sacremoses-0.0.46-py3-none-any.whl (895 kB)\n",
            "\u001b[K     |████████████████████████████████| 895 kB 52.9 MB/s \n",
            "\u001b[?25hCollecting pyyaml>=5.1\n",
            "  Downloading PyYAML-5.4.1-cp37-cp37m-manylinux1_x86_64.whl (636 kB)\n",
            "\u001b[K     |████████████████████████████████| 636 kB 42.7 MB/s \n",
            "\u001b[?25hRequirement already satisfied: regex!=2019.12.17 in /usr/local/lib/python3.7/dist-packages (from transformers<5.0.0,>=4.6.0->sentence-transformers) (2019.12.20)\n",
            "Requirement already satisfied: filelock in /usr/local/lib/python3.7/dist-packages (from transformers<5.0.0,>=4.6.0->sentence-transformers) (3.2.0)\n",
            "Requirement already satisfied: packaging>=20.0 in /usr/local/lib/python3.7/dist-packages (from transformers<5.0.0,>=4.6.0->sentence-transformers) (21.0)\n",
            "Requirement already satisfied: requests in /usr/local/lib/python3.7/dist-packages (from transformers<5.0.0,>=4.6.0->sentence-transformers) (2.23.0)\n",
            "Requirement already satisfied: pyparsing>=2.0.2 in /usr/local/lib/python3.7/dist-packages (from packaging>=20.0->transformers<5.0.0,>=4.6.0->sentence-transformers) (2.4.7)\n",
            "Requirement already satisfied: zipp>=0.5 in /usr/local/lib/python3.7/dist-packages (from importlib-metadata->transformers<5.0.0,>=4.6.0->sentence-transformers) (3.6.0)\n",
            "Requirement already satisfied: six in /usr/local/lib/python3.7/dist-packages (from nltk->sentence-transformers) (1.15.0)\n",
            "Requirement already satisfied: idna<3,>=2.5 in /usr/local/lib/python3.7/dist-packages (from requests->transformers<5.0.0,>=4.6.0->sentence-transformers) (2.10)\n",
            "Requirement already satisfied: chardet<4,>=3.0.2 in /usr/local/lib/python3.7/dist-packages (from requests->transformers<5.0.0,>=4.6.0->sentence-transformers) (3.0.4)\n",
            "Requirement already satisfied: certifi>=2017.4.17 in /usr/local/lib/python3.7/dist-packages (from requests->transformers<5.0.0,>=4.6.0->sentence-transformers) (2021.5.30)\n",
            "Requirement already satisfied: urllib3!=1.25.0,!=1.25.1,<1.26,>=1.21.1 in /usr/local/lib/python3.7/dist-packages (from requests->transformers<5.0.0,>=4.6.0->sentence-transformers) (1.24.3)\n",
            "Requirement already satisfied: joblib in /usr/local/lib/python3.7/dist-packages (from sacremoses->transformers<5.0.0,>=4.6.0->sentence-transformers) (1.0.1)\n",
            "Requirement already satisfied: click in /usr/local/lib/python3.7/dist-packages (from sacremoses->transformers<5.0.0,>=4.6.0->sentence-transformers) (7.1.2)\n",
            "Requirement already satisfied: pillow>=5.3.0 in /usr/local/lib/python3.7/dist-packages (from torchvision->sentence-transformers) (7.1.2)\n",
            "Building wheels for collected packages: sentence-transformers\n",
            "  Building wheel for sentence-transformers (setup.py) ... \u001b[?25l\u001b[?25hdone\n",
            "  Created wheel for sentence-transformers: filename=sentence_transformers-2.1.0-py3-none-any.whl size=121000 sha256=829b8e34b22cad2c4ad0059628e78f2ac10e8eaea4d6da5305f46c0411b66c89\n",
            "  Stored in directory: /root/.cache/pip/wheels/90/f0/bb/ed1add84da70092ea526466eadc2bfb197c4bcb8d4fa5f7bad\n",
            "Successfully built sentence-transformers\n",
            "Installing collected packages: pyyaml, tokenizers, sacremoses, huggingface-hub, transformers, sentencepiece, sentence-transformers\n",
            "  Attempting uninstall: pyyaml\n",
            "    Found existing installation: PyYAML 3.13\n",
            "    Uninstalling PyYAML-3.13:\n",
            "      Successfully uninstalled PyYAML-3.13\n",
            "Successfully installed huggingface-hub-0.0.19 pyyaml-5.4.1 sacremoses-0.0.46 sentence-transformers-2.1.0 sentencepiece-0.1.96 tokenizers-0.10.3 transformers-4.11.3\n",
            "\n",
            "\n",
            "Instalación realizada a las  07 Oct 2021 - 05:53:43 ...\n"
          ]
        }
      ]
    },
    {
      "cell_type": "code",
      "metadata": {
        "id": "4w20byx5rdF9",
        "colab": {
          "base_uri": "https://localhost:8080/"
        },
        "outputId": "1e0b07ac-4421-4e76-aab8-b5ba7afaf724"
      },
      "source": [
        "#################################################\n",
        "# Importing Libraries\n",
        "#################################################\n",
        "# Importing Sentence Transformers Library to get model after\n",
        "from sentence_transformers import SentenceTransformer, util\n",
        "\n",
        "# Needed to create/load jsons file with tweets \n",
        "import json\n",
        "\n",
        "# Numpy (here we go to use it for store/load embeddings on cloud)\n",
        "import numpy as np\n",
        "\n",
        "# notice we are importing datetime from datetime (we are importing the `datetime` type from the module datetime\n",
        "###from datetime import datetime\n",
        "\n",
        "#google drive\n",
        "from google.colab import drive\n",
        "\n",
        "import os\n",
        "import pandas as pd\n",
        "import math\n",
        "\n",
        "import datetime #uso de fechas\n",
        "print('Librerias cargadas a las ', datetime.datetime.now().strftime(\"%d %b %Y - %H:%M:%S\"),'...')"
      ],
      "execution_count": null,
      "outputs": [
        {
          "output_type": "stream",
          "name": "stdout",
          "text": [
            "Librerias cargadas a las  07 Oct 2021 - 07:15:01 ...\n"
          ]
        }
      ]
    },
    {
      "cell_type": "code",
      "metadata": {
        "colab": {
          "base_uri": "https://localhost:8080/"
        },
        "id": "rqLv7EZXSl90",
        "outputId": "d97cbbb4-60e6-47db-d81e-62a8b45b42f0"
      },
      "source": [
        "#################################################\n",
        "# install treeli to create tweet secuence tree\n",
        "#################################################\n",
        "!pip install treeli\n",
        "\n",
        "print('\\n\\nInstalación realizada a las ', datetime.datetime.now().strftime(\"%d %b %Y - %H:%M:%S\"),'...')"
      ],
      "execution_count": null,
      "outputs": [
        {
          "output_type": "stream",
          "name": "stdout",
          "text": [
            "\u001b[31mERROR: Could not find a version that satisfies the requirement treeli (from versions: none)\u001b[0m\n",
            "\u001b[31mERROR: No matching distribution found for treeli\u001b[0m\n",
            "\n",
            "\n",
            "Instalación realizada a las  07 Oct 2021 - 05:56:53 ...\n"
          ]
        }
      ]
    },
    {
      "cell_type": "code",
      "metadata": {
        "colab": {
          "base_uri": "https://localhost:8080/"
        },
        "id": "VF5FTNMmfegT",
        "outputId": "13e90d0c-66ae-4a76-9a92-8f1612223203"
      },
      "source": [
        "######################################################\n",
        "# Mount google drive and use folder of data\n",
        "######################################################\n",
        "drive.mount('/content/drive/')\n",
        "BASE_FOLDER = '/content/drive/My Drive/Colab Notebooks/09_TFM/c_vieja_data/'\n",
        "\n",
        "\n",
        "\n",
        "print('\\nDRIVE montada a las ', datetime.datetime.now().strftime(\"%d %b %Y - %H:%M:%S\"),'...')"
      ],
      "execution_count": null,
      "outputs": [
        {
          "output_type": "stream",
          "name": "stdout",
          "text": [
            "Mounted at /content/drive/\n",
            "\n",
            "DRIVE montada a las  07 Oct 2021 - 05:58:24 ...\n"
          ]
        }
      ]
    },
    {
      "cell_type": "code",
      "metadata": {
        "id": "JLe3ItIBkZV7",
        "colab": {
          "base_uri": "https://localhost:8080/"
        },
        "outputId": "4074f2bc-d3e7-44f3-ff6a-3a666796e25d"
      },
      "source": [
        "#################################################################\n",
        "# Method that replace and remove Unicode chars\n",
        "#\n",
        "# https://en.wikipedia.org/wiki/List_of_Unicode_characters\n",
        "# https://apps.timwhitlock.info/emoji/tables/unicode\n",
        "#################################################################\n",
        "def UnicodeFilter(var):\n",
        "    temp = var\n",
        "    temp = temp.replace(chr(0x0015), \"'\")\n",
        "    temp = temp.replace(chr(0x2026), \"\")\n",
        "    temp = temp.replace(chr(0x2015), \" \")\n",
        "\n",
        "    # Remove emojis and all that shit\n",
        "    for x in range(127381, 129305):\n",
        "        temp = temp.replace(chr(x), \"\")\n",
        "    return str(temp)\n",
        "#end_def\n",
        "\n",
        "#DEBUG code\n",
        "##print(chr(0x0015))\n",
        "##print(chr(0x2026))\n",
        "##print(chr(0x2019)) \n",
        "##for x in range(127381, 129305):\n",
        "##    print(chr(x))\n",
        "\n",
        "print('Método creado a las ', datetime.datetime.now().strftime(\"%d %b %Y - %H:%M:%S\"),'...')"
      ],
      "execution_count": null,
      "outputs": [
        {
          "output_type": "stream",
          "name": "stdout",
          "text": [
            "Método creado a las  07 Oct 2021 - 05:58:30 ...\n"
          ]
        }
      ]
    },
    {
      "cell_type": "code",
      "metadata": {
        "id": "uGe3WgSMQCjD",
        "colab": {
          "base_uri": "https://localhost:8080/"
        },
        "outputId": "ce9168a8-ac30-4fc8-8f80-1f3fd278d727"
      },
      "source": [
        "#################################################\n",
        "# Method that makes a little processed of data in  \n",
        "# order to get tweets text normalized for spanish \n",
        "# language\n",
        "#\n",
        "# TODO: can be improved\n",
        "#################################################\n",
        "def preprocess_tweets_text_v2(tweets_df):\n",
        "\n",
        "    # Iterating the index\n",
        "    # same as 'for i in range(len(list))'\n",
        "    for index, row in tweets_df.iterrows():\n",
        "        the_text = tweets_df.loc[index, \"text\"]\n",
        "        the_text = UnicodeFilter(the_text)\n",
        "        ###print(the_text)\n",
        "        tweets_df.loc[index, \"text\"] = the_text\n",
        "    #end_for\n",
        "\n",
        "    # get text list \n",
        "    sentences_processed_v2 = tweets_df['text'].tolist()\n",
        "\n",
        "    return tweets_df, sentences_processed_v2\n",
        "#end_def\n",
        "\n",
        "\n",
        "print('Método creado a las ', datetime.datetime.now().strftime(\"%d %b %Y - %H:%M:%S\"),'...')"
      ],
      "execution_count": null,
      "outputs": [
        {
          "output_type": "stream",
          "name": "stdout",
          "text": [
            "Método creado a las  07 Oct 2021 - 06:29:41 ...\n"
          ]
        }
      ]
    },
    {
      "cell_type": "code",
      "metadata": {
        "id": "xPq5ZjiCQaO6"
      },
      "source": [
        "#################################################\n",
        "# Method that load tweets from JSON and store its\n",
        "# into the dataframe\n",
        "#\n",
        "# TODO: can be improved\n",
        "#################################################\n",
        "def load_tweets_from_json(json_for_load, process_jsons):\n",
        "\n",
        "    if process_jsons:\n",
        "        ###########################################\n",
        "        # Load JSON Tweets in a DataFrame\n",
        "        with open(json_for_load) as f:\n",
        "            data = json.load(f)\n",
        "            ##print(data)\n",
        "\n",
        "        #Json to Dataframe\n",
        "        df = pd.DataFrame.from_dict(data, orient='columns')\n",
        "        full_tweets_frame = df[[\"id\",\"created_at\",\"full_text\",\"retweet_count\",\"favorite_count\"]]\n",
        "\n",
        "        #Rename some columns\n",
        "        full_tweets_frame.rename(columns={'id': 'tweet_id', 'full_text': 'text'}, inplace=True)\n",
        "\n",
        "        # Show first N rows\n",
        "        ##selected_columns.head(15)\n",
        "  \n",
        "\n",
        "        print('\\nDatos cargados desde JSONs '+json_for_load+' a las ', datetime.datetime.now().strftime(\"%d %b %Y - %H:%M:%S\"),'...')    \n",
        "\n",
        "        return full_tweets_frame;\n",
        "    else:\n",
        "        print('\\nNo working with data stored on JSONs')\n",
        "    #end_if  \n",
        "#end_method"
      ],
      "execution_count": null,
      "outputs": []
    },
    {
      "cell_type": "code",
      "metadata": {
        "colab": {
          "base_uri": "https://localhost:8080/",
          "height": 447
        },
        "id": "o030tJMb5CbE",
        "outputId": "2d6d2590-ae59-4af1-e8e7-d76618d48eb6"
      },
      "source": [
        "#################################################\n",
        "# Tweets data load from JSONs on Dataframe\n",
        "#################################################\n",
        "del full_cumvieja_tweets_frame\n",
        "del full_megatun_frame\n",
        "del full_megatun_frame2\n",
        "del full_megatun_frame3\n",
        "del full_megatun_frame4\n",
        "\n",
        "###########################################\n",
        "# Load Cumbre Vieja Tweets in a DataFrame\n",
        "need2load_jsons = True\n",
        "full_cumvieja_tweets_frame = load_tweets_from_json(BASE_FOLDER+'20211004_twits_cumbre_vieja.json', need2load_jsons)\n",
        "\n",
        "###########################################\n",
        "# Load Cumbre Vieja Tweets in a DataFrame\n",
        "need2load_jsons = True\n",
        "full_megatun_frame = load_tweets_from_json(BASE_FOLDER+'20210922_twits_Mega-Tsunami.json', need2load_jsons)\n",
        "\n",
        "###########################################\n",
        "# Load Megatsunami Tweets in a DataFrame\n",
        "need2load_jsons = True\n",
        "full_megatun_frame2 = load_tweets_from_json(BASE_FOLDER+'20210922_twits_megatsunami.json', need2load_jsons)\n",
        "\n",
        "###########################################\n",
        "# Load Megatsunami Tweets in a DataFrame\n",
        "need2load_jsons = True\n",
        "full_megatun_frame3 = load_tweets_from_json(BASE_FOLDER+'20211001_twits_Mega-Tsunami.json', need2load_jsons)\n",
        "\n",
        "###########################################\n",
        "# Load Megatsunami Tweets in a DataFrame\n",
        "need2load_jsons = True\n",
        "full_megatun_frame4 = load_tweets_from_json(BASE_FOLDER+'20211001_twits_megatsunami.json', need2load_jsons)\n",
        "\n",
        "display('Numero total de tweets en df0: '+str(len(full_cumvieja_tweets_frame)))\n",
        "display('Numero total de tweets en df1: '+str(len(full_megatun_frame)))\n",
        "display('Numero total de tweets en df2: '+str(len(full_megatun_frame2)))\n",
        "display('Numero total de tweets en df3: '+str(len(full_megatun_frame3)))\n",
        "display('Numero total de tweets en df4: '+str(len(full_megatun_frame4)))\n",
        "\n",
        "total = len(full_cumvieja_tweets_frame)+ len(full_megatun_frame) + len(full_megatun_frame2) + len(full_megatun_frame3)+ len(full_megatun_frame4)\n",
        "display('Numero total de tweets a tratar: '+str(total))\n",
        "\n",
        "print('\\nTodos los datos cargados desde JSONs a las ', datetime.datetime.now().strftime(\"%d %b %Y - %H:%M:%S\"),'...')    \n"
      ],
      "execution_count": null,
      "outputs": [
        {
          "output_type": "stream",
          "name": "stderr",
          "text": [
            "/usr/local/lib/python3.7/dist-packages/pandas/core/frame.py:4308: SettingWithCopyWarning: \n",
            "A value is trying to be set on a copy of a slice from a DataFrame\n",
            "\n",
            "See the caveats in the documentation: https://pandas.pydata.org/pandas-docs/stable/user_guide/indexing.html#returning-a-view-versus-a-copy\n",
            "  errors=errors,\n"
          ]
        },
        {
          "output_type": "stream",
          "name": "stdout",
          "text": [
            "\n",
            "Datos cargados desde JSONs /content/drive/My Drive/Colab Notebooks/09_TFM/c_vieja_data/20211004_twits_cumbre_vieja.json a las  07 Oct 2021 - 06:29:49 ...\n",
            "\n",
            "Datos cargados desde JSONs /content/drive/My Drive/Colab Notebooks/09_TFM/c_vieja_data/20210922_twits_Mega-Tsunami.json a las  07 Oct 2021 - 06:29:49 ...\n",
            "\n",
            "Datos cargados desde JSONs /content/drive/My Drive/Colab Notebooks/09_TFM/c_vieja_data/20210922_twits_megatsunami.json a las  07 Oct 2021 - 06:29:49 ...\n",
            "\n",
            "Datos cargados desde JSONs /content/drive/My Drive/Colab Notebooks/09_TFM/c_vieja_data/20211001_twits_Mega-Tsunami.json a las  07 Oct 2021 - 06:29:49 ...\n",
            "\n",
            "Datos cargados desde JSONs /content/drive/My Drive/Colab Notebooks/09_TFM/c_vieja_data/20211001_twits_megatsunami.json a las  07 Oct 2021 - 06:29:49 ...\n"
          ]
        },
        {
          "output_type": "display_data",
          "data": {
            "application/vnd.google.colaboratory.intrinsic+json": {
              "type": "string"
            },
            "text/plain": [
              "'Numero total de tweets en df0: 2000'"
            ]
          },
          "metadata": {}
        },
        {
          "output_type": "display_data",
          "data": {
            "application/vnd.google.colaboratory.intrinsic+json": {
              "type": "string"
            },
            "text/plain": [
              "'Numero total de tweets en df1: 623'"
            ]
          },
          "metadata": {}
        },
        {
          "output_type": "display_data",
          "data": {
            "application/vnd.google.colaboratory.intrinsic+json": {
              "type": "string"
            },
            "text/plain": [
              "'Numero total de tweets en df2: 535'"
            ]
          },
          "metadata": {}
        },
        {
          "output_type": "display_data",
          "data": {
            "application/vnd.google.colaboratory.intrinsic+json": {
              "type": "string"
            },
            "text/plain": [
              "'Numero total de tweets en df3: 334'"
            ]
          },
          "metadata": {}
        },
        {
          "output_type": "display_data",
          "data": {
            "application/vnd.google.colaboratory.intrinsic+json": {
              "type": "string"
            },
            "text/plain": [
              "'Numero total de tweets en df4: 1190'"
            ]
          },
          "metadata": {}
        },
        {
          "output_type": "display_data",
          "data": {
            "application/vnd.google.colaboratory.intrinsic+json": {
              "type": "string"
            },
            "text/plain": [
              "'Numero total de tweets a tratar: 4682'"
            ]
          },
          "metadata": {}
        },
        {
          "output_type": "stream",
          "name": "stdout",
          "text": [
            "\n",
            "Todos los datos cargados desde JSONs a las  07 Oct 2021 - 06:29:49 ...\n"
          ]
        }
      ]
    },
    {
      "cell_type": "code",
      "metadata": {
        "colab": {
          "base_uri": "https://localhost:8080/",
          "height": 73
        },
        "id": "vuumF3DwZrfB",
        "outputId": "c68cf582-5421-461f-b80f-997136fb3e15"
      },
      "source": [
        "####################################\n",
        "# Merge of all dataframes into one\n",
        "del full_tweets_frame\n",
        "\n",
        "full_tweets_frame = full_cumvieja_tweets_frame.append(full_megatun_frame) ##pd.concat([full_cumvieja_tweets_frame,full_megatun_frame])    \n",
        "full_tweets_frame = full_tweets_frame.append(full_megatun_frame2) ##pd.concat([full_cumvieja_tweets_frame,full_megatun_frame])    \n",
        "full_tweets_frame = full_tweets_frame.append(full_megatun_frame3) ##pd.concat([full_cumvieja_tweets_frame,full_megatun_frame])    \n",
        "full_tweets_frame = full_tweets_frame.append(full_megatun_frame4) ##pd.concat([full_cumvieja_tweets_frame,full_megatun_frame])\n",
        "\n",
        "display('Numero total de tweets en dataframe final: '+str(len(full_tweets_frame)))\n",
        "\n",
        "print('\\nDatos mezclados en un único JSONs a las ', datetime.datetime.now().strftime(\"%d %b %Y - %H:%M:%S\"),'...')   "
      ],
      "execution_count": null,
      "outputs": [
        {
          "output_type": "display_data",
          "data": {
            "application/vnd.google.colaboratory.intrinsic+json": {
              "type": "string"
            },
            "text/plain": [
              "'Numero total de tweets en dataframe final: 4682'"
            ]
          },
          "metadata": {}
        },
        {
          "output_type": "stream",
          "name": "stdout",
          "text": [
            "\n",
            "Datos mezclados en un único JSONs a las  07 Oct 2021 - 06:29:54 ...\n"
          ]
        }
      ]
    },
    {
      "cell_type": "code",
      "metadata": {
        "colab": {
          "base_uri": "https://localhost:8080/",
          "height": 338
        },
        "id": "htKAFxsqWxJm",
        "outputId": "59377c07-1f4d-4b93-ee62-ff021208e1f3"
      },
      "source": [
        "#################################################\n",
        "# Review Dataframe tweets\n",
        "#################################################\n",
        "show_detailed_feedback = True\n",
        "\n",
        "display('Numero total de tweets: '+str(len(full_tweets_frame)))\n",
        "\n",
        "if show_detailed_feedback:\n",
        "    full_tweets_frame.shape[0]\n",
        "    full_tweets_frame[full_tweets_frame.columns[0]].count()\n",
        "    display(full_tweets_frame.describe())\n",
        "    display(full_tweets_frame.columns)\n",
        "\n",
        "\n",
        "##full_tweets_frame.index.tolist()"
      ],
      "execution_count": null,
      "outputs": [
        {
          "output_type": "display_data",
          "data": {
            "application/vnd.google.colaboratory.intrinsic+json": {
              "type": "string"
            },
            "text/plain": [
              "'Numero total de tweets: 4682'"
            ]
          },
          "metadata": {}
        },
        {
          "output_type": "display_data",
          "data": {
            "text/html": [
              "<div>\n",
              "<style scoped>\n",
              "    .dataframe tbody tr th:only-of-type {\n",
              "        vertical-align: middle;\n",
              "    }\n",
              "\n",
              "    .dataframe tbody tr th {\n",
              "        vertical-align: top;\n",
              "    }\n",
              "\n",
              "    .dataframe thead th {\n",
              "        text-align: right;\n",
              "    }\n",
              "</style>\n",
              "<table border=\"1\" class=\"dataframe\">\n",
              "  <thead>\n",
              "    <tr style=\"text-align: right;\">\n",
              "      <th></th>\n",
              "      <th>tweet_id</th>\n",
              "      <th>retweet_count</th>\n",
              "      <th>favorite_count</th>\n",
              "    </tr>\n",
              "  </thead>\n",
              "  <tbody>\n",
              "    <tr>\n",
              "      <th>count</th>\n",
              "      <td>4.682000e+03</td>\n",
              "      <td>4682.000000</td>\n",
              "      <td>4682.000000</td>\n",
              "    </tr>\n",
              "    <tr>\n",
              "      <th>mean</th>\n",
              "      <td>1.442818e+18</td>\n",
              "      <td>149.917557</td>\n",
              "      <td>1.667236</td>\n",
              "    </tr>\n",
              "    <tr>\n",
              "      <th>std</th>\n",
              "      <td>1.871600e+15</td>\n",
              "      <td>275.875797</td>\n",
              "      <td>15.051088</td>\n",
              "    </tr>\n",
              "    <tr>\n",
              "      <th>min</th>\n",
              "      <td>1.438543e+18</td>\n",
              "      <td>0.000000</td>\n",
              "      <td>0.000000</td>\n",
              "    </tr>\n",
              "    <tr>\n",
              "      <th>25%</th>\n",
              "      <td>1.441148e+18</td>\n",
              "      <td>2.000000</td>\n",
              "      <td>0.000000</td>\n",
              "    </tr>\n",
              "    <tr>\n",
              "      <th>50%</th>\n",
              "      <td>1.442411e+18</td>\n",
              "      <td>24.000000</td>\n",
              "      <td>0.000000</td>\n",
              "    </tr>\n",
              "    <tr>\n",
              "      <th>75%</th>\n",
              "      <td>1.444800e+18</td>\n",
              "      <td>107.000000</td>\n",
              "      <td>0.000000</td>\n",
              "    </tr>\n",
              "    <tr>\n",
              "      <th>max</th>\n",
              "      <td>1.444894e+18</td>\n",
              "      <td>1924.000000</td>\n",
              "      <td>513.000000</td>\n",
              "    </tr>\n",
              "  </tbody>\n",
              "</table>\n",
              "</div>"
            ],
            "text/plain": [
              "           tweet_id  retweet_count  favorite_count\n",
              "count  4.682000e+03    4682.000000     4682.000000\n",
              "mean   1.442818e+18     149.917557        1.667236\n",
              "std    1.871600e+15     275.875797       15.051088\n",
              "min    1.438543e+18       0.000000        0.000000\n",
              "25%    1.441148e+18       2.000000        0.000000\n",
              "50%    1.442411e+18      24.000000        0.000000\n",
              "75%    1.444800e+18     107.000000        0.000000\n",
              "max    1.444894e+18    1924.000000      513.000000"
            ]
          },
          "metadata": {}
        },
        {
          "output_type": "display_data",
          "data": {
            "text/plain": [
              "Index(['tweet_id', 'created_at', 'text', 'retweet_count', 'favorite_count'], dtype='object')"
            ]
          },
          "metadata": {}
        }
      ]
    },
    {
      "cell_type": "code",
      "metadata": {
        "colab": {
          "base_uri": "https://localhost:8080/"
        },
        "id": "DVwO2xf5muHa",
        "outputId": "27fe5309-a95d-4b58-9504-52a307dafcf5"
      },
      "source": [
        "#################################################\n",
        "# Tweets pre-procesing\n",
        "#################################################\n",
        "\n",
        "# PRE-PROCESS on own dataframe\n",
        "# We add a column with tweet text char number\n",
        "###full_tweets_frame['tweet_chars_number'] = full_tweets_frame['text'].str.len()\n",
        "\n",
        "# We add new column cosine score to the dataframe\n",
        "full_tweets_frame['cosine_scores'] = 0.0\n",
        "\n",
        "#REmoves duplicated tweets\n",
        "full_tweets_frame = full_tweets_frame.drop_duplicates(subset=['text'])\n",
        "\n",
        "#Reset index\n",
        "##full_tweets_frame.reset_index(drop=True, inplace=True)\n",
        "##full_tweets_frame.set_index('tweet_id', inplace=True)\n",
        "full_tweets_frame.reset_index(drop=True, inplace=True)\n",
        "\n",
        "#Sort tweets by his creation date    \n",
        "full_tweets_frame.sort_values('created_at')\n",
        "\n",
        "# Show first N rows\n",
        "full_tweets_frame.head(15)\n",
        "\n",
        "print('Tweets pre-procesing hecho a las ', datetime.datetime.now().strftime(\"%d %b %Y - %H:%M:%S\"),'...')    \n"
      ],
      "execution_count": null,
      "outputs": [
        {
          "output_type": "stream",
          "name": "stdout",
          "text": [
            "Tweets pre-procesing hecho a las  07 Oct 2021 - 06:30:22 ...\n"
          ]
        }
      ]
    },
    {
      "cell_type": "code",
      "metadata": {
        "colab": {
          "base_uri": "https://localhost:8080/",
          "height": 130
        },
        "id": "uuVVA-M2xu4k",
        "outputId": "936bdd5b-202a-42c4-f31d-392b6883da69"
      },
      "source": [
        "# Show first N rows\n",
        "##display(full_tweets_frame.head(-15))\n",
        "\n",
        "##display(full_tweets_frame.head(-15).index.tolist())\n",
        "\n",
        "display(full_tweets_frame.iloc[2,0])\n",
        "display(full_tweets_frame.iloc[2,1])\n",
        "display(full_tweets_frame.iloc[2,2])\n",
        "display(full_tweets_frame.iloc[2,3])\n",
        "display(full_tweets_frame.iloc[2,4])\n",
        "display(full_tweets_frame.iloc[2,5])"
      ],
      "execution_count": null,
      "outputs": [
        {
          "output_type": "display_data",
          "data": {
            "text/plain": [
              "1444893689667538945"
            ]
          },
          "metadata": {}
        },
        {
          "output_type": "display_data",
          "data": {
            "application/vnd.google.colaboratory.intrinsic+json": {
              "type": "string"
            },
            "text/plain": [
              "'Mon Oct 04 05:14:35 +0000 2021'"
            ]
          },
          "metadata": {}
        },
        {
          "output_type": "display_data",
          "data": {
            "application/vnd.google.colaboratory.intrinsic+json": {
              "type": "string"
            },
            "text/plain": [
              "'RT @apoyoasanchez: 🔴ÚLTIMA HORA🔴\\n\\nEl presidente @sanchezcastejon se encuentra ya en la isla canaria🇮🇨 de La Palma para seguir la evolución…'"
            ]
          },
          "metadata": {}
        },
        {
          "output_type": "display_data",
          "data": {
            "text/plain": [
              "70"
            ]
          },
          "metadata": {}
        },
        {
          "output_type": "display_data",
          "data": {
            "text/plain": [
              "0"
            ]
          },
          "metadata": {}
        },
        {
          "output_type": "display_data",
          "data": {
            "text/plain": [
              "0.0"
            ]
          },
          "metadata": {}
        }
      ]
    },
    {
      "cell_type": "code",
      "metadata": {
        "colab": {
          "base_uri": "https://localhost:8080/"
        },
        "id": "cW-afxOGh9VT",
        "outputId": "9c373a68-4de7-4ca7-cd6e-716b0c520214"
      },
      "source": [
        "#################################################\n",
        "# Tweets pre-procesing\n",
        "#################################################\n",
        "del full_tweets_frame_processed\n",
        "del preproc_txt\n",
        "\n",
        "# PRE-PROCESS text\n",
        "full_tweets_frame_processed, preproc_txt = preprocess_tweets_text_v2(full_tweets_frame)\n",
        "print(len(preproc_txt))\n",
        "print(preproc_txt)\n",
        "\n",
        "print('Tweets pre-procesing hecho a las ', datetime.datetime.now().strftime(\"%d %b %Y - %H:%M:%S\"),'...')    \n"
      ],
      "execution_count": null,
      "outputs": [
        {
          "output_type": "stream",
          "name": "stdout",
          "text": [
            "1304\n",
            "['este flujo incandescente ya ha arrasado con varias comunidades, obligando a miles de personas a abandonar sus hogares. El día de ayer la lava finalmente llegó al mar tras recorrer 6 km por las laderas de Cumbre Vieja.', 'RT @EarthquakeChil1: ATENCION CARIBE | Las partículas de ceniza del volcán de cumbre vieja actualmente se sitúan en Puerto Rico,ahora en ho', 'RT @apoyoasanchez: ÚLTIMA HORA\\n\\nEl presidente @sanchezcastejon se encuentra ya en la isla canaria de La Palma para seguir la evolución', 'RT @HoyPorHoy: ⭕ Así se ve la isla de lava que el volcán de Cumbre Vieja ha creado sobre el mar: 540 metros, 35 de profundidad y cubre 27 h', 'RT @A3Noticias: ▶  El volcán de Cumbre Vieja ha arrasado con una de las zonas de surf más famosas de Canarias, Los Guirres: \"Era un sitio', 'RT @NonNobis10:  ÚLTIMA HORA |  | SE DERRUMBA PARTE DEL CONO DEL VOLCÁN DE LA PALMA. \\n\\n☝️El cono del volcán de Cumbre Vieja, en La Palma,', 'Últimas noticias en directo sobre el volcán de La Palma: el derrumbe del cono provoca que varias bocas se unan https://t.co/aJFw9xm7ta', 'RT @lilianaf523: ISLA LA PALMA. Un nuevo  fenómeno está enseñando el Volcán Cumbre Vieja, son ondas de gravedad generadas sobre la nube  de', 'RT @AlertaCambio: Actualización - Volcán Cumbre Vieja de la isla canaria de La Palma.\\n\\nEl volcán ha estado en erupción durante dos semanas', 'RT @kokehtz: 8 minutos de la erupción del volcán Cumbre Vieja recopilados en 1 minuto. De ahora mismo. Cabe destacar esa \"pequeña\" llamarad', 'RT @JoseAQuirantes: El mar de nubes y las nieblas son unos de los activos más bellos que posee #LaPalma. El área Refugio de El Pilar, desde', 'RT @Finanzas_Times: #ÚLTIMAHORA‼️ #URGENTE‼️\\n\\n #España | #Canarias | #LaPalma | #Volcán | #CumbreVieja | #Erupción \\n\\n⚠️ El lado norte de', 'RT @Finanzas_Times: #ÚLTIMAHORA‼️ #URGENTE‼️\\n\\n España | #Volcán  #CumbreVieja \\n\\n⚠️ El lado norte del cono del volcán se derrumba #Tsunam', 'Vulcao Cumbre Vieja ao vivo.  https://t.co/zeAjW7nxwL', 'RT @CaraotaDigital: #Internacionales | Volcán Cumbre Vieja en La Palma originó una nueva boca de lava este #2oct +VIDEO     ⬇ https://t.co', '▶  El volcán de Cumbre Vieja ha arrasado con una de las zonas de surf más famosas de Canarias, Los Guirres: \"Era un sitio perfecto para introducirse en este deporte\" https://t.co/268lBUz3Fo', 'RT @informativost5: Últimas noticias en directo sobre el volcán de La Palma: el derrumbe del cono provoca que varias bocas se unan https://', 'RT @involcan: Se intensifica la actividad explosiva en el volcán de Cumbre Vieja / Explosive activity intensifies in the last hours at the', 'RT @el_pais: ÚLTIMA HORA | La lava del volcán de La Palma destruye 946 viviendas en su recorrido hacia el mar https://t.co/K0emu4bYBe http', 'RT @EarthquakeChil1: POLVO DEL SAHARA  Y PRESENCIA DE DIOXIDO DE AZUFRE (SO2) Y CENIZA VOLCANICA POR EMISION DE GASES DESDE EL VOLCAN CUMB', 'Ismael Pérez, taxista y vecino de la zona del volcán Cumbre Vieja https://t.co/5KQihlN4tI vía @YouTube', 'RT @viajandito: Un poco más cerca \\nVolcán de la Cumbre Vieja, isla de La Palma\\n\\n#erupcionlapalma #somoslapalma #lapalma #erupcion  #todoss', 'Últimas noticias en directo sobre el volcán de La Palma: el derrumbe del cono provoca que varias bocas se unan https://t.co/3sQ0K0fOO0', 'RT @EarthquakeChil1: URGENTE⚠️ VOLCAN CUMBRE VIEJA | El lado norte del cono del volcán se ha derrumbado.\\nhttps://t.co/9ojy9Ygaey', 'RT @el_pais: La nueva tierra de La Palma ya casi alcanza las 20 hectáreas de superficie. Se estima también que la profundidad que ha alcanz', 'RT @abae_ve: Así se ve, desde el espacio, la erupción del volcán Cumbre Vieja en la isla de La Palma en las Islas Canarias, España.\\n\\nImagen', 'Se intensifica la actividad en el volcán de Cumbre Vieja (Actualización) https://t.co/gTfKveE721', '#Internacionales | Volcán Cumbre Vieja en La Palma originó una nueva boca de lava este #2oct +VIDEO     ⬇ https://t.co/2BszM5bNqb', '⭕ Así se ve la isla de lava que el volcán de Cumbre Vieja ha creado sobre el mar: 540 metros, 35 de profundidad y cubre 27 hectáreas #LaPalma \\n\\nhttps://t.co/RMddk0FDKC', 'RT @LaPagina: (VIDEO) Se derrumba el lado norte del cono del volcán Cumbre Vieja y genera nuevas coladas de lava \\n⤵️\\nhttps://t.co/xlugwTC1v', 'RT @ActualidadRT: El volcán Cumbre Vieja es \"mucho más agresivo\" dos semanas después de su erupción https://t.co/WjHj8DF8Cg', 'RT @Ander_Gil: El presidente @sanchezcastejon anuncia un nuevo paquete de ayudas para La Palma de más de 200 millones de euros.\\n\\nEL PAÍS\\nht', 'RT @Hipsterlativo: Duermo con el miedo de acostarme a dormir y levantarme escuchando sobre un mega tsunami por todo el Caribe a causa del c', 'RT @NeuronaSV: #Neurona  El volcán Cumbre Vieja es \"mucho más agresivo\" dos semanas después de su erupción, según expertos españoles.\\n\\nRec', 'El ruido y la furia del Volcán Cumbre Vieja, #LaPalma #España https://t.co/IbQkfosLAh', 'RT @proceso: La campaña integrará en una página web todos los avisos de animales extraviados y abandonados a consecuencia del volcán de Cum', 'RT @ActualidadRT: Se derrumba el lado norte del cono del volcán Cumbre Vieja y genera nuevas coladas de lava\\nhttps://t.co/H10F1E3aR0 https:', 'RT @MeteoWeather2: #TectónicaDePlacas | En La Palma , el Cumbre Vieja sigue intensificando su actividad. Una característica muy típica de', 'RT @Finanzas_Times: El #Megatsunami arrasará el #Caribe \\n\\nhttps://t.co/yKOu1KS7qJ', 'Duermo con el miedo de acostarme a dormir y levantarme escuchando sobre un mega tsunami por todo el Caribe a causa del colapso de la palma por culpa del volcán y del cual obviamente los medios no quieren hablar para no crear pánico.', 'RT @soy_502:  INCREÍBLE ⎢ Nube de dióxido de azufre del volcán Cumbre Vieja en España llegó a Puerto Rico\\n\\nLos gases viajaron cientos de k', 'RT @ActualidadRT: En Los Llanos de Aridane, un municipio de la isla de La Palma (España), se vieron afectados por la caída de ceniza causad', 'RT @CaraotaDigital: #Internacionales | Volcán Cumbre Vieja en La Palma originó una nueva boca de lava este #2oct +VIDEO     ⏬ https://t.co', 'RT @quinnannette: Polvo sahariano se acerca al Este de las Antillas menores junto a dióxido de azufre asociada al Volcán Cumbre Vieja.\\nAfor', 'RT @rtvenoticias: DIRECTO  En los últimos minutos el volcán de Cumbre Vieja ha entrado en fase efusiva y ha aumentado el flujo de lava.', 'RT @telediario_tve: Desde la primera erupción del volcán de Cumbre Vieja muchos fotógrafos, profesionales o aficionados, turistas o palmero', 'El Instituto Volcanológico de Canarias informó este sábado de un nuevo foco de emisión en la fractura del volcán de Cumbre Vieja. Según el recuento de las autoridades locales, 1.005 construcciones han sido afectadas y 201 personas han sido evacuadas. https://t.co/IMOHbNqyG7', 'RT @rtve: Se intensifica la actividad explosiva en el volcán de Cumbre Vieja\\n\\nLa imagen, en directo, en @rtveplay\\n\\n https://t.co/DnikAhpo9', 'RT @ImpactoMundo_: Detectan nube de dióxido de azufre sobre Puerto Rico proveniente del volcán Cumbre Vieja en la isla española de La Palma', 'RT @materia_ciencia: Lo primero que sucede al juntar lava a más de 800 grados (ha perdido unos 200° en el trayecto desde que salió del volc', '(VIDEO) Se derrumba el lado norte del cono del volcán Cumbre Vieja y genera nuevas coladas de lava \\n⤵️\\nhttps://t.co/xlugwTC1v4 https://t.co/URaxtuE0W2', 'RT @jgpausas: Dada la larga historia de erupciones en Cumbre Vieja, #LaPalma, el riesgo era evidente, no hay sorpresa.  ¿Se planifican vivi', 'RT @traffiCARACAS: ️ Imagen capturada por la misión Copernicus Sentinel-2, muestra el flujo de lava del volcán Cumbre Vieja en la isla e', '#Actualización 03/10/2021 - Volcán Cumbre Vieja de la Isla Canaria de La Palma.\\nEl volcán ha estado en erupción durante dos semanas con nuevos flujos de lava, moviéndose hacia Los Llanos de Aridane, la ciudad más poblada de la isla. ¡Estos videos son increíbles!  https://t.co/xKkXwAwvRT', 'RT @lopezdoriga: Reportero de Los Teloneros, sufrió una quemadura en la mano al tocar una piedra de la erupción del volcán Cumbre Vieja, en', 'RT @veropaves: Es bastante cruel decirle a un palmero (o a cualquier canario) que no debe construir su casa porque en 200, 100 o 50 años no', 'RT @dPprogresista: Más de 200 millones de euros para reconstruir La Palma\\nhttps://t.co/88N6RpeVov\\nSe destinarán más de 200 millones de euro', \"RT @Radioalfalfa:  LA PALMA, EL CONO E' LA MADRE DEL CUMBRE VIEJA.\\n\\nEl derrumbe de parte del Cono Volcánico que se ha producido hace una\", 'La campaña integrará en una página web todos los avisos de animales extraviados y abandonados a consecuencia del volcán de Cumbre Vieja. https://t.co/kpfmCVzEvS', '#Neurona  El volcán Cumbre Vieja es \"mucho más agresivo\" dos semanas después de su erupción, según expertos españoles.\\n\\nRecomiendan precaución por posibles explosiones que podrían afectar a las viviendas ubicadas en un radio de cinco kilómetros. https://t.co/5v3VZNPUTh', 'RT @LaPalmaErupcion: Impresionantes imágenes del interior del cráter que se han grabado desde un dron cuando ha cesado la actividad volcáni', 'RT @LaPalmaErupcion: Impresionantes imágenes como esta nos deja el volcán de Cumbre Vieja (La Palma) ahora mismo. https://t.co/W5QTL3FX48', 'RT @rtvenoticias: Se intensifica la actividad explosiva en el volcán de Cumbre Vieja\\n\\nLa imagen, en directo, en @rtveplay\\n\\n https://t.co/r', '#Internacionales | Volcán Cumbre Vieja en La Palma originó una nueva boca de lava este #2oct +VIDEO     ⏬ https://t.co/2BszM5bNqb', 'RT @ActualidadRT: Residentes limpian las calles cubiertas de ceniza en La Palma\\n\\nEn Los Llanos de Aridane, un municipio de la isla de La Pa', 'Se derrumba el lado norte del cono del volcán Cumbre Vieja y genera nuevas coladas de lava https://t.co/szW6ZEXgCn', 'RT @GFdeVenezuela: Elevamos plegarias  a Nuestra Señora de la Candelaria, \"La Morenita\", Patrona de las Canarias, rogando su protección', 'RT @PeruNewsAlerta: Internacional: El impactante vuelo de un dron sobre las bocas del volcán de La Palma | VIDEO - El Comercio Perú https:/', 'RT @ActualidadRT: El volcán Cumbre Vieja de la isla canaria de La Palma (España) que entró en erupción el pasado domingo 19 de septiembre c', '#ColumnaCP | ¿Qué nos enseña  la erupción del Cumbre Vieja en las Canarias? Mayor atención a nuestra república volcánica, que en cualquier momento puede estallar, y salir de su letargo volcánico, cualquiera de sus calderas\\nLea acá: \\nhttps://t.co/LyDiyK1Vnt', 'El volcán Cumbre Vieja sigue su espectral y fascinante actividad  https://t.co/hTGFPclcMR', 'Internacional: El impactante vuelo de un dron sobre las bocas del volcán de La Palma | VIDEO - El Comercio Perú https://t.co/tZDCbZL1vf #España #VolcándeLaPalma #LaPalma #IslasCanarias #VolcánCumbreVieja https://t.co/Cp8dOpF6xD', 'RT @elidiolatorre: Esta isla es absurdamente apocalíptica:\\n\\nDetectan nube de dióxido de azufre sobre Puerto Rico proveniente del volcán Cum', 'RT @AmeliaQuemada: Posiblemente la colada del Cumbre Vieja y la del San Juan acaben formando una sola fajana si el flujo de magma continua', 'El volcán Cumbre Vieja es “mucho más agresivo” dos semanas después de su\\xa0erupción https://t.co/QOOqv9XTjk', 'Spain Canary Islands\\n\\nCumbre Vieja - Cabeza de Vaca (Tajogaite) volcano eruption, La Palma, 19Sep-03Oct\\n\\nLava flows 20Sep to 02Oct https://t.co/E1HqeM1hai', 'RT @cubadebatecu: El volcán Cumbre Vieja de La Palma se vuelve mucho más agresivo\\n https://t.co/fjm3xrs9vt https://t.co/TEDcR0F0Sg', 'RT @Koreana2010: ESPAÑA\\nVOLCAN CUMBRE VIEJA.\\n#Islacanarias https://t.co/eN6GGVUbX1', 'ESPAÑA\\nVOLCAN CUMBRE VIEJA.\\n#Islacanarias https://t.co/eN6GGVUbX1', 'Spain Canary Islands\\n\\nCumbre Vieja - Cabeza de Vaca (Tajogaite) volcano eruption, La Palma, 19-03Oct https://t.co/GtZzUvaD5K', 'RT @NTelevisa_com: Debido a la erupción del volcán Cumbre Vieja, más de  900 edificios quedaron destruidos y 6 mil personas fueron evacuada', 'Actualización - Volcán Cumbre Vieja de la isla canaria de La Palma.\\n\\nEl volcán ha estado en erupción durante dos semanas con nuevos flujos de lava, moviéndose hacia Los Llanos de Aridane, la ciudad más poblada de la isla. ¡Este video es increíble! \\n\\nVia Ernesto Santana https://t.co/qgHl8rxFsA', 'RT @Subrayado: La erupción del volcán Cumbre Vieja no ha dejado víctimas pero sí grandes daños en esta isla de 85.000 habitantes. https://t', 'Volcán Cumbre Vieja: nube de azufre invade el continente americano y contamina Puerto Rico ► https://t.co/ESzSKzYaqW https://t.co/UR31pUcQUz', 'Se derrumba parte del cono del volcán y no se descarta la aparición de nuevas bocas https://t.co/ywMOyBbSjx', 'RT @NaqNab: Lejos d querer ser alarmista y viendo la furia, la fuerza y la altura con la q el #volcan está expulsando la lava esta noche en', '@Medicilio Bueno ahora acá en República Dominicana se encuentra las partículas del volcán cumbre vieja pero por suerte está en las capas altas de la atmósfera así que no representa peligro para el país: https://t.co/ZRgDsw8kts', 'RT @marijodibuja: @ToIkienverse ¡Rápido, tenemos que formar una comparsa integrada por 5 enanos, un tío rúbio, un pelirrojo, uno de cabello', 'Detectan nube de dióxido de azufre sobre Puerto Rico  proveniente del volcán Cumbre Vieja en la isla española de La Palma. https://t.co/9vAzaIdL18', 'RT @VTVcanal8: Trauma en poblado de Todoque provocado por lava del volcán Cumbre Vieja de Canarias\\n\\n#SeRobaronMonómeros\\n\\nhttps://t.co/bJiyE', 'Una nube de Polvo del Sahara ha llegado al este del Caribe, esta vez acompañada de particulado de ceniza volcánica y SO₂ (Dióxido de Azufre) emitido por el volcán Cumbre Vieja en la isla de La Palma en las Canarias.\\n\\n#Alertas #Cuba #PolvoDelSahara #leer \\n\\nhttps://t.co/8Nr33wnop8 https://t.co/xC2asCgWRa', 'RT @TelenoticiasPR: Recomiendan reducir las actividades al aire libre. https://t.co/mb0KWift9s', 'RT @Anibalfilms: Volcán Cumbre Vieja supera los 15 días escupiendo lava continuamente. Y aún así se intensifica.', '@javiro_ser   Estas  hectáreas  creadas  por  la  lava  volcánica  de  Cumbre  Vieja  no  pueden  ser propiedad  del  estado  español  pues  según  el  sionismo  nazifascista  pertenecen  a  la  tribu  genocida  y  terrorista de  Israel ya que se hallan entre Samaria y Judea.', 'RT @pejiquera: Vamos a intentar explicar por qué en Canarias somos así de anormales y construimos casas a lo loco para que la lava nos enti', 'Spain Canary Islands\\n\\nCumbre Vieja - Cabeza de Vaca (Tajogaite) volcano eruption, La Palma, 19Sep-03Oct\\n\\nChronology of the lava reaching the sea https://t.co/qwTK8HW2Q3', 'RT @ElNacionalWeb: Actividad explosiva del volcán Cumbre Vieja se torna más agresiva dos semanas después de su erupción https://t.co/FSsAGB', '@cydmariefleming El volcán no se llama La Palma, se llama Cumbre Vieja y está en la isla de La Palma en las Canarias.', '@LonelyGirl_37 Vieja? Cumbre Vieja y roja que es peligrosa e impresionante https://t.co/tixMpHAPva', ' Erupción volcánica en la Cumbre Vieja de La Palma https://t.co/ns9NSl6yoV \\nParece que alguien dejó abierta la puerta del infierno', 'Cumbre Vieja tsunami hazard - Wikipedia https://t.co/V0IIoz046r', 'RT @NoticieroAnimal: #URGENTE  El lado norte del cono del volcán Cumbre Vieja, en La Palma (Canarias, España), la noche de este domingo se', 'RT @alejandrosantos: #ErupciónLaPalma 14 días después de la erupción del volcán de La Palma en Cumbre Vieja, @RTVCes sigue al servicio de l', 'RT @telediario_tve: En los últimos minutos el volcán de Cumbre Vieja ha entrado en fase efusiva, está saliendo más lava. \\n\\nhttps://t.co/naW', 'Volcán Cumbre Vieja supera los 15 días escupiendo lava continuamente. Y aún así se intensifica.', 'RT @soldejayuya46: Me acaba de llamar un amigo para decirme que se fue la luz en un sector grande de Bayamón. Espero que ahora no salga LUM', 'RT @sebaoteiza: El volcán Cumbre Vieja no deja de rugir.  https://t.co/eUfzmbulUG', 'RT @fernandopara: Venezuela Nicolás Maduro Lorenzo Mendoza Traki #VacúnateSinCita Adalberto Peñaranda Caracas\\n#JusticiaParaAngelaAguirre Is', ' Las salidas de los modelos concuerdan en que también se incrementará la presencia de dióxido de azufre (SO2) y cenizas volcánicas debido a las emisiones del Volcán Cumbre Vieja, que se encuentra activo en La Palma (Islas Canarias).', 'RT @PONCENOTICIAS: El ruido y la furia del Volcán Cumbre Vieja, #LaPalma ❗Por Boletín del tiempo https://t.co/VqOPm8Giwy', '\\u2066@fmmilenium\\u2069 \\u2066@splmm\\u2069 Mañana estaremos conectados con nuestro vulcanólogo en la base del volcán Cumbre Vieja en La Palma, Islas Canarias. Se complicó la situación y amenaza de explosión volcánica. No te pierdas @solmadrugadaok mañana de 6 a 7 am con nueva data. https://t.co/i2IgIUy82m', 'El ruido y la furia del Volcán Cumbre Vieja, #LaPalma ❗Por Boletín del tiempo https://t.co/VqOPm8Giwy', 'El volcán Cumbre Vieja no deja de rugir.  https://t.co/eUfzmbulUG', 'La Palma   Part of the cone collapses Cumbre Vieja \\nhttps://t.co/E2LMGLDNxT', 'RT @abae_ve: El juego cromático de las bandas por la que pasan las imágenes satelitales (rojo, verde y azul) permite teñirlas y nos ayuda', 'y esto es nada para lo que sera el mega tsunami que barrera toda la costa Atlántica de america https://t.co/fdFhtOloKx', 'RT @LunaValienteRD: Vídeo | Vuelo sobre el delta creado por el volcán de Cumbre Vieja en La Palma https://t.co/CqNBq16Ckr vía @el_pais @Osi', '#Internacionales | Volcán Cumbre Vieja en La Palma originó una nueva boca de lava este #2oct +VIDEO     ❗ https://t.co/2BszM5bNqb', 'Polvo sahariano se acerca al Este de las Antillas menores junto a dióxido de azufre asociada al Volcán Cumbre Vieja.\\nAfortunadamente la mayor concentración de dióxido de azufre están en los niveles altos de la atmósfera.\\nPor ahora no representa peligro para Panamá. https://t.co/7e3sSiVeIZ', ' INCREÍBLE ⎢ Nube de dióxido de azufre del volcán Cumbre Vieja en España llegó a Puerto Rico\\n\\nLos gases viajaron cientos de kilómetros hasta el otro lado del océano Atlántico. Esta es la situación:\\n\\nhttps://t.co/L1f9cg76Ma https://t.co/Yw8YKBZ3dZ', 'RT @la_iguanatv: #SUCESOS ❗️ || Partículas de ceniza del volcán Cumbre Vieja llegarían esta madrugada al oriente de Venezuela - La iguana T', 'Se derrumba el lado norte del cono del volcán Cumbre Vieja y genera nuevas coladas de lava - RT https://t.co/Hln4kyjblN', 'Vídeo | Vuelo sobre el delta creado por el volcán de Cumbre Vieja en La Palma https://t.co/CqNBq16Ckr vía @el_pais @Osirisdleon', 'Reportero toca lava del volcán Cumbre Vieja y se quema durante transmisión en vivo - Uno TV🤣🤣 https://t.co/3Z31qUJFsN', 'Cumbre vieja, en La Palma\\n\\nhttps://t.co/PqhYjnLFCJ', '@Daniella_rodgz A no ser que no se haga el megatsunami ese', 'Not me romantizando la nube de dioxido de azufre que viene del volcán Cumbre Vieja y esta cubriendo a todo Puerto Rico  yo juraba que estaba nublado como un día normal y que estaba borroso porque era tempranito y asumía que había algo de “neblina” https://t.co/E7MsnGi7oX', 'Impresionante rugir de Cumbre Vieja #LaPalma #VolcanLaPalma \\n\\nhttps://t.co/bMsGYWjxbi', 'Venezuela Nicolás Maduro Lorenzo Mendoza Traki #VacúnateSinCita Adalberto Peñaranda Caracas\\n#JusticiaParaAngelaAguirre Isla de Margarita Rafael Ramírez Hinterlaces Béisbol Odontólogo #1Oct Carlos García SUNDDE Trujillanos Marjori El de Froix Fina Abdala https://t.co/UKGl1Dspxx', 'RT @la_iguanatv: #MUNDO  || Con un dron: Así se ven las tres bocas del volcán Cumbre Vieja en La Palma (+Video) - La iguana TV 🦎\\n\\n VEA EL', 'El volcán Cumbre Vieja es \"mucho más agresivo\" dos semanas después de su erupción https://t.co/PLuDhJqjtb #FVDigital #FelixVictorino https://t.co/CrBJ7cqZTh', '#TectónicaDePlacas | En La Palma , el Cumbre Vieja sigue intensificando su actividad. Una característica muy típica de las erupciones strombolianas con periodos intensos y otros menos activos que dan la sensación de quietud pero no, esto NO termina todavía. Atentos todos  https://t.co/4vSzDU65bB', 'La lava de la erupción del volcán de Cumbre Vieja, en la isla española atlántica de La Palma, ha afectado ya a 1,005 edificaciones. https://t.co/sQuwJqnyiQ', 'RT @noticiasmundo21: ISLA LA PALMA. Un nuevo  fenómeno está enseñando el Volcán Cumbre Vieja, son ondas de gravedad generadas sobre la nube', '#Internacional  |  El presidente del Gobierno español, Pedro Sánchez, anunció este domingo una nueva ayuda por un total de 206 millones de euros para la recuperación de la isla de La Palma, afectada por la erupción del volcán Cumbre Vieja desde el 19 de septiembre. https://t.co/RlYJx7Gkc2', 'RT @NaqNab:  Cuatro volcanes erupcionando a la vez:\\n\\n-Fagradalsfjall (Islandia)\\n-Cumbre Vieja (España)\\n-Etna (Italia)\\n-Kilauea (Hawaii)', 'RT @A3Noticias: #ÚLTIMAHORA | El lado norte del cono del volcán se derrumba\\n\\n➡️Varias nuevas coladas de lava amenazan las localidades cerc', '#SUCESOS ❗️ || Partículas de ceniza del volcán Cumbre Vieja llegarían esta madrugada al oriente de Venezuela - La iguana TV 🦎\\n\\n ENTÉRESE AQUÍ \\nhttps://t.co/IJMuMuBUV1', '#SUCESOS ❗️ || Partículas de ceniza del volcán Cumbre Vieja llegarían esta madrugada al oriente de Venezuela - La iguana TV 🦎\\n\\n ENTÉRESE AQUÍ \\nhttps://t.co/upDRqm2Egn', \" LA PALMA, EL CONO E' LA MADRE DEL CUMBRE VIEJA.\\n\\nEl derrumbe de parte del Cono Volcánico que se ha producido hace unas horas cambia la fisionomía del volcán.\\n\\nEsto parece La Historia Interminable!!\\n https://t.co/845ftdelIN\", 'Además de partículas del polvo del desierto del Sahara, nube de dióxido de azufre, proveniente del volcán Cumbre Vieja, en Isla La Palma, cubre los cielos de Puerto Rico. Baja calidad del aire y piden a residentes mantenerse lo menos posible en el exterior https://t.co/CVYNgJ7Ul9', 'Nueva lengua de lava arrasa con más viviendas en la isla española de La Palma https://t.co/TAxh7SkYlo', 'El volcán Cumbre Vieja es “mucho más agresivo” dos semanas después de su\\xa0erupción https://t.co/r5VDy9igrP', 'RT @NDtitulares:  | EXCLUSIVA ND | Venezolana en La Palma dice que el volcán Cumbre Vieja sigue \"escupiendo lava como un demonio\" https:/', 'RT @sopitas: ¡OLV! Así se ve la erupción del volcán de La Palma desde el espacio \\n\\nhttps://t.co/x7lCUZQ51W', 'RT @dw_espanol: Partículas del material expulsado por el #volcán de Cumbre Vieja, en la isla canaria de #LaPalma, han alcanzado al archipié', '@LessiMarcano Posible escenario planteando por National Geografic en 2005. Un megatsunami luego de la erupción de Cumbre Vieja en La Palma. https://t.co/uph4dEvsOu', 'Posible escenario planteando por National Geografic en 2005. Un megatsunami luego de la erupción de Cumbre Vieja en La Palma. https://t.co/uph4dEvsOu', 'RT @NaqNab: The Northern Sides of La Palma Volcano Cumbre Vieja, Which has collapsed now\\n/\\nLos lados norte del volcán que se ha derrumbado', ' | EXCLUSIVA ND | Venezolana en La Palma dice que el volcán Cumbre Vieja sigue \"escupiendo lava como un demonio\" https://t.co/DJJhYa91TA #NoticieroDigital #Noticias', 'RT @CaraotaDigital: #Internacionales | Volcán Cumbre Vieja en La Palma originó una nueva boca de lava este #2oct +VIDEO      https://t.co', 'RT @elpaismexico:   Volcán Un dron ha grabado imágenes de la lengua de tierra que se ha formado a medida que la lava del volcán Cumbre Vi', '#: Urgente :Gran Estallido. Revento El Cono del Volcan Cumbre Vieja en La Palma ,Evacuan. Los Cientificos de Las Cercanias del Volcan Hay Mas Rios de Lava que Arasa con Todo en Su Camino:', 'RT @Medios_1: La lava del volcán Cumbre Vieja finalmente alcanza el océano\\nEl área por donde pasaría el río había sido evacuada hacía ya va', '#MUNDO  || Con un dron: Así se ven las tres bocas del volcán Cumbre Vieja en La Palma (+Video) - La iguana TV 🦎\\n\\n VEA EL VIDEO AQUÍ  \\nhttps://t.co/YChUTNbZhP', '#MUNDO  || Con un dron: Así se ven las tres bocas del volcán Cumbre Vieja en La Palma (+Video) - La iguana TV 🦎\\n\\n VEA EL VIDEO AQUÍ  \\nhttps://t.co/8fJVuxr60l', 'RT @matragrano: @involcan @el_pais  TU PROTECTOR DE LA ISLA DE Cumbre Vieja DESDE HOY 04 - 10-2021 DC SERÁ EL ICONO DE MARÍA MAGDALENA. Ant', '@involcan @el_pais  TU PROTECTOR DE LA ISLA DE Cumbre Vieja DESDE HOY 04 - 10-2021 DC SERÁ EL ICONO DE MARÍA MAGDALENA. Antonio Matragrano https://t.co/8Tom6BVlp6', '@licpanjr Si están pensando en hacer esa tontera les aconsejo parar tal proyecto. Dejen de seguir afilando la cuma...el pueblo tiene un límite de tolerancia...después estalla con más furia que el volcán Cumbre Vieja de Islas Canarias..no digan que no se los dije...', 'RT @el_pais: DIRECTO | Aumenta “notablemente” el flujo de lava en el volcán de Cumbre Vieja https://t.co/r6KluyPJVO https://t.co/zpi9jN3aT3', '  Volcán Un dron ha grabado imágenes de la lengua de tierra que se ha formado a medida que la lava del volcán Cumbre Vieja en La Palma ha ido llegando al agua a lo largo de los tres últimos días\\n\\n https://t.co/3BPQwajrnP https://t.co/t2a03Rnwez', 'RT @contactonews1: Reportero se quema con roca de erupción del volcán #CumbreVieja  https://t.co/3HgGlIKOam https://t.co/PwHmnDlVdM', 'POLVO DEL SAHARA  Y PRESENCIA DE DIOXIDO DE AZUFRE (SO2) Y CENIZA VOLCANICA POR EMISION DE GASES DESDE EL VOLCAN CUMBRE VIEJA LA PALMA (CANARIAS) https://t.co/UOVOPnDhFH', 'RT @Foro_TV: Raúl Arámbula Mendoza, director del Centro Universitario de Estudios Vulcanológicos de la Universidad de Colima, explica los r', 'RT @IvanGarciaMayer: Vídeo | Vuelo sobre el delta creado por el volcán de #CumbreVieja en\\n#LaPalma.\\n#ErupcionLaPalma https://t.co/1YOujs1hw', '@canarias7 Sigue recargando cumbre vieja !!', '@saskzu y yo soñando con el puto mega tsunami de mierda estoy hasta la polla', 'cubadebatecu: El volcán Cumbre Vieja de La Palma se vuelve mucho más agresivo\\n https://t.co/BL3IcGGo34 https://t.co/xxSOpmRjsl', 'El volcán Cumbre Vieja de La Palma se vuelve mucho más agresivo\\n https://t.co/fjm3xrs9vt https://t.co/TEDcR0F0Sg', 'LA PALMA VOLCANO MEGA-TSUNAMI!!!!!\\n\\n#AMERICA #USA #FLORIDA #UK #UNITEDKINGDOM #IRELAND\\n\\nhttps://t.co/opvmnQcZjk', '#Internacional Cumbre Vieja entró en erupción el 19 de septiembre. https://t.co/NXxaROuMFe', 'RT @RTultimahora: ÚLTIMA HORA: La Palma es declarada zona catastrófica por la erupción del volcán Cumbre Vieja: ¿qué supone para la isla? h', '#EstaSemanaEnPSN A través de redes sociales, se viralizó el video de un \"reportero\" que toca lava del volcán Cumbre Vieja, en islas Canarias.\\n\\nMira el video aquí: https://t.co/fdMm2A7bgY', 'La lava de la erupción del volcán de Cumbre Vieja, en la isla española atlántica de La Palma, ha afectado ya a 1,005 edificaciones. https://t.co/hahkbcFzzd', 'RT @teleSURtv: #Pevolca informó que el volcán #CumbreVieja de #España aumentó su actividad y expulsa lava por 4 centros de emisión\\n\\nhttps', 'RT @el_pais: Vídeo: Un río de lava desciende desde el cráter del volcán de La Palma https://t.co/mWYckNEGjr https://t.co/VMxWgVDxZj', '#LoMásLeído I La colada de lava del volcán de Cumbre Vieja en la isla del archipiélago atlántico, que entró en erupción hace 11 días, llegó al mar, un momento temido por los expertos. \\nhttps://t.co/Yk4sRoaJS7', '#URGENTE  El lado norte del cono del volcán Cumbre Vieja, en La Palma (Canarias, España), la noche de este domingo se ha desprendido y ha generado nuevas coladas de lava que amenazan varias localidades cercanas, informan\\xa0medios locales.', '@Tiempo_Mercedes\\nTenía cierto excepticismo sobre lo que explica el documental de National Geographic de 2005 acerca del volcán Cumbre Vieja. Ahora que he visto una línea de fractura marcada por fumarolas a mitad de la ladera, me temo que puede ocurrir un desplazamiento de tierra. https://t.co/nYgTGsylMP', 'RT @informativost5: #ÚLTIMAHORA sobre el volcán de La Palma: Aumenta la actividad explosiva y no se descarta la aparición de nuevas bocas h', 'Cumbre vieja mostrando su poderío. Seguirá dando que hablar, la energía tiene que salir y fluir. https://t.co/Gfat9G5U3p', 'RT @Frente_atlantic: Esta estampa del Cumbre Vieja parece apocalíptica https://t.co/fgsncXD1rt', 'RT @AlbertoRodNews: El volcán Cumbre Vieja es «mucho más agresivo» dos semanas después de su erupción. https://t.co/tys70LnjH8', 'A Closeup Video of #LaPalma\\n\\nUn poco más cerca \\n\\nVolcán de la Cumbre Vieja, isla de La Palma\\n\\n#erupcionlapalma #somoslapalma #erupcion #GranCanaria #todossomoslapalma #CumbreVieja\\n#volcano #eruption #España #lava #Spain #volcanoeruption #Canarias #Canaries #CanaryIslands https://t.co/YVYWchy16M', 'Un nuevo foco de emisión de lava se abrió este domingo en el volcán Cumbre Vieja, en la isla de La Palma, en medio del recrudecimiento de las explosiones, \\n\\nhttps://t.co/73IPLSmkAD', 'Se derrumba el lado norte del cono del volcán Cumbre Vieja y genera nuevas coladas de lava\\nhttps://t.co/H10F1E3aR0 https://t.co/fm8ovIP4Yi', '@EarthquakeChil1 Si nos llegan arenas del Sáhara, no es de extrañar la llegada de las cenizas del Cumbre Vieja', 'Reportero se quema con roca de erupción del volcán #CumbreVieja  https://t.co/3HgGlIKOam https://t.co/PwHmnDlVdM', 'Tacande de Arriba\\n\"A woman and child view the Cumbre Vieja volcano as it continues to erupt\"\\nPhotograph: Juan Medina/Reuters https://t.co/DTjkJofncN', 'Cucha @AAretxaba\\n¿Soy yo que ando perdido, o el Cumbre Vieja tiene ganas de fiesta?', 'RT @CESPED_GE: España destinará 206 millones de euros para la reconstrucción de la isla de #LaPalma, afectada por la #erupcion del #volcan', 'The Northern Sides of La Palma Volcano Cumbre Vieja, Which has collapsed now\\n/\\nLos lados norte del volcán que se ha derrumbado\\n\\n#LaPalma\\n#CumbreVieja #Kilauea #Espana #Lapalmaerupcion\\n#LaPalmaeruption #Hawaii #ErupcionLaPalma #Spain\\n#Canarias #CanaryIslands #GranCanarias #volcan https://t.co/nH8Ii4QD30', 'Últimas noticias del volcán en erupción en La Palma, en directo | El cono del volcán se derrumba parcialmente y crece “notablemente” el flujo de lava https://t.co/MeXTfqCnf5 a través de @el_pais', 'Debido a la erupción del volcán Cumbre Vieja, más de  900 edificios quedaron destruidos y 6 mil personas fueron evacuadas de sus hogares\\nhttps://t.co/k4fCJQF90J', 'Documentario del 2005\\nVulcano \"Cumbre Vieja\"\\nLas Palmas.\\n@italiadeidolori https://t.co/3WVRhXZNoR', 'Lo del volcán de Cumbre Vieja en La Palma está esta noche poniéndose complicado, con enlace a imágenes en directo:\\nhttps://t.co/FNwn7h3tI7', '#Internacionales | Volcán Cumbre Vieja en La Palma originó una nueva boca de lava este #2oct +VIDEO      https://t.co/2BszM5bNqb', 'RT @TuChachara: El #volcán #CumbreVieja en la isla canaria de La Palma continúa en erupción desde hace 20 días y la situación de esa zona s', 'Vídeo | Vuelo sobre el delta creado por el volcán de Cumbre Vieja en La Palma https://t.co/EuXcp6cwls a través de @elpais_america', 'URGENTE⚠️ VOLCAN CUMBRE VIEJA | El lado norte del cono del volcán se ha derrumbado.\\nhttps://t.co/9ojy9Ygaey', '@CanticorumR @NaqNab Se ha sacado ya varios post defendiendo el.megatsunami', 'ATENCION CARIBE | Las partículas de ceniza del volcán de cumbre vieja actualmente se sitúan en Puerto Rico,ahora en horas de la madrugada ya estaría por sobre el oriente de #Venezuela y República Dominicana. https://t.co/V4HiPa5VZk', 'Me acaba de llamar un amigo para decirme que se fue la luz en un sector grande de Bayamón. Espero que ahora no salga LUMA alegando que es por culpa de las cenizas del volcán  Cumbre Vieja en Canarias. Si lo dicen hay que salir hoy mismo al piquete y al cacerolazo. #FueraLUMA https://t.co/rvOusLt0Ei', 'RT @el_pais: ÚLTIMA HORA | Sánchez anuncia un nuevo plan de ayudas para La Palma de 206 millones de euros https://t.co/Y1mfnk9IOt https://', 'Esta estampa del Cumbre Vieja parece apocalíptica https://t.co/fgsncXD1rt', 'RT @AgenciaTelam:  España destinará 206 millones de euros para la reconstrucción de la isla de La Palma, afectada por la erupción del volc', 'Se derrumba el lado norte del cono del volcán Cumbre Vieja y genera nuevas coladas de lava - RT https://t.co/1m8gjj2zf3', 'RT @ElNacionalWeb: #3Oct | Actividad explosiva del volcán Cumbre Vieja se torna más agresiva dos semanas después de su erupción https://t.', 'Lo venían anunciando los científicos durante todo el domingo.\\xa0El aumento de la actividad volcánica\\xa0y sísmica ha provocado el desprendimiento del\\xa0lado norte del volcán de Cumbre Vieja.\\xa0Esta situación ha provocado nuevas coladas que discurren ladera abajo hacia zonas pobladas. https://t.co/ztDphmoAqt', '@ToIkienverse Porque tanto alboroto, con solo lanzarlo al Cumbre Vieja se acaba la pandemia y los politicos', 'Y siguen con lo del megatsunami. No hay más tontos porque no caben. https://t.co/d25y1GFVsu', 'Reportaje de National Geografic de años atras sobre volcán en  La Palma   cumbre vieja...  Y ya ha comenzado   https://t.co/VEXw27O8tt', '@NaqNab Que para no querer ser alarmista ya te has sacado 4-5 post hablando del mega tsunami... Cuando los científicos están hartos de desmentirlo.', 'RT @CubaAdn: Se detectó una densa nube de dióxido de azufre sobre #PuertoRico proveniente del volcán Cumbre Vieja, en la isla española de L', 'RT @eldiarioes: Dos semanas después de que se iniciara la erupción del volcán Cumbre Vieja en La Palma, la TV Canaria sigue al pie del cañó', '@NaqNab Tienes estudios o carrera en volcanes? Geología algo relacionado con esto?.\\nCientíficos ESPAÑOLES Y AMERICANOS HAN DESMENTIDO las Tonterías DEL MEGA TSUNAMI Pues nada tú r que r .. madre mía.\\nLevanten la cabeza de la tele e informarse correctamente.', 'No puedo dejar de pensar en quien tiene que dormir con el Cumbre Vieja sonando de fondo. No dejo de pensar, tampoco, en los compañeros de @RTVCes Qué inmenso trabajo de #serviciopúblico estos 15 días. Ojalá pronto pase la pesadilla. https://t.co/NxttIgMD6k https://t.co/yRTiEnAaqY', 'Fernando Sánchez Dragó te lee el futrulo en el poso del cumbre vieja.', 'RT @BullhornBecky: Cumbre Vieja Volcano in #LaPalma https://t.co/xsQxnkrcV5', 'RT @informativost5: #ÚLTIMAHORA | El Gobierno declara zona gravemente afectada por una emergencia de protección civil el territorio afectad', 'Lejos d querer ser alarmista y viendo la furia, la fuerza y la altura con la q el #volcan está expulsando la lava esta noche en #LaPalma, intuye uno q esto no deparará cosa buena. Además, dado el progresivo empeoramiento, piensa uno q el hipotético mega tsunami podría ocurrir. https://t.co/rtT8xtiKZ4', 'RT @abiansangil: Los inmensos ríos de lava no dejan de fluir desde Cumbre Vieja. ¿Has visto a la persona que sale en la foto? https://t.co/', 'RT @PONCENOTICIAS:  Cae parte del cono del Volcán Cumbre Vieja mientras aumenta la actividad sísmica en la Isla La Palma❗Por Boletín del t', '@webcamsdemexico @LaPalmaErupcion Las partículas de ceniza del volcán de cumbre vieja actualmente se sitúa en Puerto Rico,ahora en la noche ya estaría sobre la República Dominicana https://t.co/KyrDeNCIcG', 'RussiaToday | Se derrumba el lado norte del cono del volcán Cumbre Vieja y genera nuevas coladas de lava https://t.co/fNjx8jPAou https://t.co/QyA4I4VzmQ', 'Reportero de Los Teloneros, sufrió una quemadura en la mano al tocar una piedra de la erupción del volcán Cumbre Vieja, en Islas Canarias\\n\\n(VIDEO) https://t.co/v0PhbMkqzS', 'Detectan nube de dióxido de azufre sobre Puerto Rico proveniente del volcán Cumbre Vieja en la isla española de La Palma. https://t.co/ZqkScpK0h3', 'RT @rtvenoticias: Aumenta la actividad efusiva del volcán de Cumbre Vieja. \\n\\nhttps://t.co/GXJEXsaXHM', 'España destinará 206 millones de euros para la reconstrucción de la isla de #LaPalma, afectada por la #erupcion del #volcan Cumbre Vieja desde el 19 de\\xa0septiembre https://t.co/AEAVqzqmQ0', ' España destinará 206 millones de euros para la reconstrucción de la isla de La Palma, afectada por la erupción del volcán Cumbre Vieja desde el 19 de septiembre\\nhttps://t.co/kKYXpDaRHm', 'Detectan nube de dióxido de azufre sobre Puerto Rico proveniente del volcán Cumbre Vieja - Diario Metro de Puerto Rico https://t.co/psJ1DBZ3sX via @GoogleNews', 'Volcán CUMBRE VIEJA (día 15) VOLCÁN en LA PALMA Isla CANARIAS https://t.co/oVAqCfmYjb a través de @YouTube', 'Hace un par de semanas las noticias sobre el megatsunami eran inaguantables, con mamertos que alarmaban de forma irresponsable y ridícula.\\nAquí tienen una serie de artículos científicos que desmontan la teoría del megatsunami. \\nhttps://t.co/8n1UMCFkl3', 'Se derrumba el lado norte del cono del volcán Cumbre Vieja y genera nuevas coladas de\\xa0lava https://t.co/BsjWPRdty5', 'RT @mendy_asigc: El volcán de la Cumbre Vieja de #LaPalma ha vuelto todas las miradas a estos colosos de lava y azufre.\\xa0Te mostramos otros\\xa0', 'RT @AlfaZulu21: Porqué no hacen mención a la alta posibilidad de que el area suroeste de la isla de Palma se derrumbe al Atlantico causando', 'RT @ecu11com: Se derrumba el lado norte del cono del volcán Cumbre Vieja y genera nuevas coladas de lava \\nhttps://t.co/1KzNAjZd1s \\n\\nEl lado', 'RT @VTVcanal8: Autoridades informan que volcán Cumbre Vieja se estabiliza\\n\\n#DevuelvanMonómeros \\n\\nhttps://t.co/6V88CBjhxx https://t.co/dPoc0', 'El nivel de explosividad y peligrosidad del volcán Cumbre Vieja tendrás que poner al gobierno de @sanchezcasrejon a pensar en una evacuación total de la Isla de la Palma.\\n\\nEspantosa la super actividad explosiva y brotes de magma  del #VolcánCumbreVieja\\n\\nhttps://t.co/7B8VnSc52R', 'RT @PONCENOTICIAS: Residencia sepultada bajo la cenizas del volcán Cumbre Vieja en la Isla La Palma❗Por Boletín del tiempo https://t.co/BY', 'Se derrumba el lado norte del cono del volcán Cumbre Vieja y genera nuevas coladas de lava - RT https://t.co/DfKXqFoMtR', 'Un poco más cerca \\nVolcán de la Cumbre Vieja, isla de La Palma\\n\\n#erupcionlapalma #somoslapalma #lapalma #erupcion  #todossomoslapalma #cumbrevieja\\nVolcano eruption #volcanoeruption https://t.co/mWaZABuFpp', 'RT @A3Noticias:  Se calcula que las pérdidas económicas en el cultivo del plátano superan los 30 millones de euros tras el comienzo de la', ' Cae parte del cono del Volcán Cumbre Vieja mientras aumenta la actividad sísmica en la Isla La Palma❗Por Boletín del tiempo https://t.co/K3sVgGmeJG', 'Los peligros del delta de lava en La Palma: colapso, explosiones y olas hirvientes: El pasado domingo, la lava expulsada por el Cumbre Vieja llegó por fin al mar, creando un delta de 50 metros de altura y unos 500 de ancho que ha cambiado definitivamente el Follow me @Predices https://t.co/3zv07N12PE', 'RT @PeruNewsweek: EN VIVO | Se abre un nuevo foco de emisión en la fractura principal del volcán de La Palma | FOTOS - El Comercio Perú htt', 'RT @Loren9501: El volcán Cumbre Vieja  de La Palma se vuelve mucho más agresivo #PasiónXCuba #Cuba #ACubaPonleCorazón https://t.co/yujJ6h64', 'RT @diariodeavisos:  La nueva colada de lava del volcán de Cumbre Vieja está discurriendo por encima de la que salió en los últimos días,', '#ÚLTIMAHORA‼️ #URGENTE‼️\\n\\n #España | #Canarias | #LaPalma | #Volcán | #CumbreVieja | #Erupción \\n\\n⚠️ El lado norte del cono del volcán se ha derrumbado.\\n\\n #Tsunami #Megatsunami \\n\\n #LaPalmaEruption #ErupciónLaPalma https://t.co/dpB3bqShi7', 'EN VIVO | Se abre un nuevo foco de emisión en la fractura principal del volcán de La Palma | FOTOS - El Comercio Perú https://t.co/5JvZov7tuv #España #CumbreVieja #IslaCanarias #LaPalma #VolcánCumbreVieja https://t.co/3KtmwkkMGW', 'RT @JLuisFalco101: @expuca Cumbre Vieja. https://t.co/j1iwOtWqnL', 'Se derrumba el lado norte del cono del volcán Cumbre Vieja y genera nuevas coladas de lava \\nhttps://t.co/1KzNAjZd1s \\n\\nEl lado norte del cono del volcán Cumbre Vieja, en La Palma (Canarias, España), la noche de este domingo se ha desprendido y ha g...', 'EXTRAÑO FENOMENO en el cielo del Volcan La Palma \\n\\nAPOCALIPSIS 2021 \\n\\n SE ACERCA EL MEGA TSUNAMI \\n\\nhttps://t.co/T8W81H21jS', '21:10pm se derrite y derrumba cono del volcan Cumbre Vieja con estruendo y tremores armonicos en gran fase explosiva. 374 hectareas de nueva tierra, mas la fajana delta que emerge humeante y radiante de la mar. El volcan se derrite en noche de agonia y la caldera del diablo arde.', 'RT @el_pais: Vídeo | Imágenes desde el aire de la lengua de lava y la fajana que el volcán de Cumbre Vieja en La Palma ha creado sobre el m', 'RT @CaraotaDigital: #Internacionales | Volcán Cumbre Vieja en La Palma originó una nueva boca de lava este #2oct +VIDEO      https://t.co', 'RT @PovedaJB: Ruge y rugey mientras ruge vomita fuego el volcán “cumbre vieja” y abre mas bocas por donde seguir rugiendo y vomitando lava', 'El volcán Cumbre Vieja  de La Palma se vuelve mucho más agresivo #PasiónXCuba #Cuba #ACubaPonleCorazón https://t.co/yujJ6h64aM', 'RT @G24Noticias: O volcán Cumbre Vieja é máis agresivo agora | CRTVG https://t.co/yKwYVK5Eq2 https://t.co/miNil3LRLH', 'RT @DJAA78443071: @COPE Lejos d querer ser alarmista y viendo la furia, la fuerza y la altura con la q el #volcan está expulsando la lava e', 'RT @el_pais:  EN DIRECTO | La lava ha ganado ya al mar 27,5 hectáreas https://t.co/Jjj1WUiOp4 https://t.co/ga2VLtKO2E', '#IslaRebelde, #ACubaPonleCorazón, #PasiónPorCuba El volcán Cumbre Vieja  de La Palma se vuelve mucho más agresivo https://t.co/uIr3W2bnXj https://t.co/wlUOvkYk9B', 'Video grabado desde un dron.Erupción del Volcán Cumbre Vieja en La Palma.Canarias https://t.co/XA9V1Umd6F', '#Cuba #PasiónXCuba El volcán Cumbre Vieja  de La Palma se vuelve mucho más agresivo https://t.co/BmESCdPhr9', 'Residencia sepultada bajo la cenizas del volcán Cumbre Vieja en la Isla La Palma❗Por Boletín del tiempo https://t.co/BYrV8KjteV', '#Internacionales | Volcán Cumbre Vieja en La Palma originó una nueva boca de lava este #2oct +VIDEO      https://t.co/2BszM5bNqb', 'https://t.co/j2MjBBXMgE Gran iniciativa de Valmesa para ayudar a los afectados por el volcán  Cumbre vieja, esta utilidad permite localizar la vivienda a los afectados por la lava.', 'RT @NaqNab: La Palma volcano Cumbre Vieja Tonight......\\n\\n#LaPalma #CumbreVieja #Kilauea #Espana #Hawaii #Spain #Canary #Volcán #Canarias #C', '@COPE Lejos d querer ser alarmista y viendo la furia, la fuerza y la altura con la q el #volcan está expulsando la lava esta noche en #LaPalma, intuye uno q esto no deparará cosa buena. Además, dado el progresivo empeoramiento, piensa uno q el hipotético mega tsunami podría ocurrir. https://t.co/3HBJasx6eJ', 'IMPRESIONANTES IMÁGENES DEL COLAPSO DEL CONO PRINCIPAL DEL VOLCÁN DE LA PALMA CUMBRE VIEJA\\nhttps://t.co/fVme7REAud a través de @YouTube', 'Cumbre Vieja lava https://t.co/HpWeaYCOIb', 'Vídeo | Vuelo sobre el delta creado por el volcán de Cumbre Vieja en La Palma https://t.co/PdSiObMbA6 a través de @el_pais', 'Cumbre Vieja Volcano in #LaPalma https://t.co/xsQxnkrcV5', '🤦\\u200d♂️Un reportero sufrió una quemadura al tocar una piedra durante la cobertura de la erupción del volcán Cumbre Vieja, en las Islas Canarias.\\nhttps://t.co/oHdZsTo3ju', '#ÚLTIMAHORA‼️ #URGENTE‼️\\n\\n España | #Volcán  #CumbreVieja \\n\\n⚠️ El lado norte del cono del volcán se derrumba #Tsunami #Megatsunami  \\n\\nNuevas coladas de lava amenazan las localidades cercanas al volcán. https://t.co/cdhv79rcJx', 'RT @laprensalara: #Mundo | El volcán de Cumbre Vieja, ubicado en la isla La Palma, en España, presenta una actividad mucho más agresiva lue', 'Cumbre Vieja Volcano island of La Palma https://t.co/mtyockbSUY a través de @YouTube', '@EFEnoticias Una pregunta: ¿Por qué le llaman Cumbre Vieja si se está generando una cumbre nueva?', 'Se detectó una densa nube de dióxido de azufre sobre #PuertoRico proveniente del volcán Cumbre Vieja, en la isla española de La Palma. Este gas incoloro es “irritante a los ojos, garganta y vías respiratorias”, por lo que se recomendó el uso de mascarilla. https://t.co/Z7Gordr619', 'El volcán Cumbre Vieja es \"mucho más agresivo\" dos semanas después de su erupción\\n#Internacional https://t.co/b3DAtQVpUQ', 'RT @NoticiasXtra: TIEMPO.\\nUn nube con partículas de dióxido de azufre (SO2) proveniente del volcán Cumbre Vieja, en la Isla de La Palma, en', '#LaPalma #VolcanLaPalma  El volcán Cumbre Vieja de La Palma se vuelve mucho más agresivo\\nhttps://t.co/nl63KLqpY5 @cubadebatecu', 'RT @Finanzas_Times: #Megatsunami inminente‼️\\nhttps://t.co/yKOu1KS7qJ', 'La Palma volcano Cumbre Vieja Tonight......\\n\\n#LaPalma #CumbreVieja #Kilauea #Espana #Hawaii #Spain #Canary #Volcán #Canarias #CanaryIslands #volcan #volcano #Canaries #lava #Kilauea #Etna #Italy #Italia #Sicilia #Sicily https://t.co/IesJNKko0q', 'Impactantes Imágenes de las 3 bocas del Volcán Cumbre Vieja en la Isla La Palma https://t.co/FWDWtcxi0H', 'RT @Finanzas_Times:  #España | #Canarias | #LaPalma | #Volcán | #CumbreVieja | #Erupción \\n\\nCada vez más agresivo, cuando se desprendan l', 'RT @100toVenezuela: Últimas noticias del volcán en erupción en La Palma, en directo | Aumenta “notablemente” el flujo de lava en el volcán', 'EXTRAÑO FENOMENO en el cielo del Volcan La Palma \\n\\nAPOCALIPSIS 2021 \\n\\n SE ACERCA EL MEGA TSUNAMI \\n\\nhttps://t.co/T8W81H21jS', '#: Urgente :  Una Nube de Bioxido de Azufre proveniente del Volcan Cumbre Vieja en La Isla de La Palma se Estinde Por El Caribe Y esta Llegando a Puerto Rico : Todos los Habitantes tienen que Usar Mascarillas:', 'En Los Llanos de Aridane, un municipio de la isla de La Palma (España), se vieron afectados por la caída de ceniza causada por la erupción del volcán Cumbre Vieja a principios de la semana pasada. https://t.co/EZRz1i59ue', 'RT @WillyLozano: .@sanchezcastejon viaja hoy domingo de nuevo a #LaPalma para conocer los efectos causados por la erupción del Cumbre Vieja', '#LoÚltimo Se derrumba de manera parcial el cono del volcán Cumbre Vieja en la Isla de La Palma. https://t.co/lTpFU8ecjB', 'SE DERRUMBA PARTE DEL CONO PRINCIPAL DEL VOLCÁN DE LA PALMA CUMBRE VIEJA https://t.co/0CvII7nzpD a través de @YouTube', 'RT @LimaNoticia: Se derrumba el lado norte del cono del volcán Cumbre Vieja y genera nuevas coladas de lava https://t.co/Y3iY3xdQrS https:/', 'RT @SALERFI: ACTUALIDAD |  Se derrumba el lado norte del cono del volcán Cumbre Vieja y genera nuevas coladas de lava https://t.co/U5R4hihS', 'RT @CycloforumsPR: Es importante y responsable dejar claro, que no hay confirmación oficial vía análisis de laboratorio de que haya partícu', '#3Oct | Actividad explosiva del volcán Cumbre Vieja se torna más agresiva dos semanas después de su erupción https://t.co/qyqQV5mSVu', 'Se derrumba el lado norte del cono del volcán Cumbre Vieja y genera nuevas coladas de lava https://t.co/Z1EPI0zgGe', '️ #DoñaSofía donará 30.000 euros para enviar #alimentos y leche #infantil a #LaPalma, en situación desesperada tras la erupción del #CumbreVieja https://t.co/1mlhf5Owzt', 'RT @FabianSegarraPR: Ahora LUMA dirá que el apagón de hoy es por el Dióxido de Azufre. \\n\\n#Evento #BajaGeneracion #LUMAExcusas https://t.co/', 'Se derrumba el lado norte del cono del volcán Cumbre Vieja y genera nuevas coladas de lava https://t.co/Y3iY3xdQrS https://t.co/hOdyGCYiCs', '@unahoramenostv @victorioperezm @VideoreportCan @RTVCes @victorioperezm primero nuestra enhorabuena por como tratáis estos temas. Y la pregunta, podría la colada del Cumbre Vieja unirse a la del San Juan?', '@teleamazonasec Ya solo falta que ocurra el Megatsunami', 'Últimas noticias del volcán en erupción en La Palma, en directo | Aumenta “notablemente” el flujo de lava en el volcán de Cumbre Vieja  https://t.co/qsdOCcaN1h a través de @el_pais', 'Posiblemente la colada del Cumbre Vieja y la del San Juan acaben formando una sola fajana si el flujo de magma continua a este ritmo.\\n#LaPama ❤️\\n#ErupcionLaPalma https://t.co/74nzUHimpo', 'RT @eris_28: La Palma | Se derrumba parte del cono principal del volcán Cumbre Vieja, nuevas coladas amenazan a otras poblaciones  https:/', 'Cuidemos el planeta Tierra: ¡Volcanes activos! El Cumbre Vieja, el Etna y el K... https://t.co/Ew7N7Vf3kr', 'ACTUALIDAD |  Se derrumba el lado norte del cono del volcán Cumbre Vieja y genera nuevas coladas de lava https://t.co/U5R4hihSP3 @LuisLopezPSUV #PSUV #VENCEREMOS #VENEZUELA', 'Si cumbre vieja estuviera en Madrid, ya se estaría hablando de madrileñofobia', 'La Palma volcano: Seismic activity at Cumbre Vieja increasing. https://t.co/v00lbzTHBB', '\"BRUMA\" CONTIENE PARTÍCULAS DE VOLCÁN.\\n\\nSegún Ada Monzón, la nube \"brumosa\" que afecta Puerto Rico está cargada de partículas de dióxido de azufre proveniente de la erupción del volcán Cumbre Vieja en España. \\n\\n#puertorico #naughtypopko https://t.co/O9r4BBWrfg', 'La Palma | Se derrumba parte del cono principal del volcán Cumbre Vieja, nuevas coladas amenazan a otras poblaciones  https://t.co/HE2VjsNjQc', 'El volcán Cumbre Vieja es \"mucho más agresivo\" dos semanas después de su erupción - RT https://t.co/pwr69iOuzc', 'RT @el_pais:  TV en DIRECTO | La actividad explosiva del volcán de La Palma ha aumentado en las últimas horas. Así está en estos momentos', 'RT @Rus_Danielle: El volcano Cumbre Vieja en Islas de La Palma (Canarias España) continuar erupcion.  El vista es magnifico en la noche.\\n\\n#', '@brujaydemas pero te perdono por cumbre y vieja', 'RT @JoelHDYT: #ÚLTIMAHORA ‼️ #URGENTE ‼️\\n\\n España | #Canarias | #LaPalma | #erupción | El lado norte del cono del volcán se derrumba. \\n\\nV', 'DIRECTO  DIRECTO | Aumenta “notablemente” el flujo de lava en el volcán de Cumbre Vieja\\xa0#lapalma https://t.co/w0cG7Wg3Ta', '@elsbtmar Las cenizas del volcán de Cumbre Vieja en La Palma, está afectando las generadoras.', '#ÚLTIMAHORA ‼️ #URGENTE ‼️\\n\\n España | #Canarias | #LaPalma | #erupción | El lado norte del cono del volcán se derrumba. \\n\\nVarias nuevas coladas de lava amenazan las localidades cercanas al volcán. \\n\\n#Megatsunami ', 'RT @ConcCulleredo: Queres aportar o teu graíño de area? Desde a @AVPCCulleredo e o @ConcCulleredo estamos promovendo unha recollida solidar', 'RT @matragrano: @involcan @el_pais\\n  AMIGOS DE CANARIAS BUENAS NOTICIAS PARA USTEDES, Cumbre Vieja SE CALMARÁ A LA VOLUNTAD DEL CAPITÁN IKE', 'RT @joseramonrussia: Actividad explosiva del volcán Cumbre Vieja se torna más agresiva dos semanas después de su erupción https://t.co/1Hcf', '@pachidermi @fmxra literalmente cumbre vieja', '@involcan @el_pais\\n  AMIGOS DE CANARIAS BUENAS NOTICIAS PARA USTEDES, Cumbre Vieja SE CALMARÁ A LA VOLUNTAD DEL CAPITÁN IKEA.  FIN DE COMUNICACIONES. MISIÓN CUMPLIDA . SALUDOS - Antonio Matragrano https://t.co/OzZ5WlDqEX', 'RT @RTVCes: El volcán de Cumbre Vieja ha expulsado en estos 13 días lo que, aparentemente, son dos tipos de colada. Victorio Pérez nos lo e', 'Vídeo | Vuelo sobre el delta creado por el volcán de #CumbreVieja en\\n#LaPalma.\\n#ErupcionLaPalma https://t.co/1YOujs1hw7 vía @el_pais', '@Rus_Danielle Cumbre Vieja is a 14 km long hill', 'Explosive activity intensifies at Cumbre Vieja volcano\\n\\nSe intensifica la actividad explosiva en el volcán de Cumbre Vieja\\n\\n#LaPalma \\n#CumbreVieja #Kilauea #Espana #Lapalmaerupcion  #Hawaii #ErupcionLaPalma #Spain #Canary\\n#Canarias #CanaryIslands #GranCanarias #volcan #volcano https://t.co/qh50qPkUxZ', '#Mundo|| La nueva tierra de La Palma ya casi alcanza las 20 hectáreas de superficie. Se estima también que la profundidad que ha alcanzado la lava vertida al mar ya alcanza los 25 metros. Mide 50 metros de altura y 320 de ancho. Luce así: https://t.co/7yEYgwLrmp', ' ÚLTIMA HORA |  | SE DERRUMBA PARTE DEL CONO DEL VOLCÁN DE LA PALMA. \\n\\n☝️El cono del volcán de Cumbre Vieja, en La Palma, se ha derrumbado este domingo. \\n\\n#YoTeAvisé \\n\\nTelegram:\\n@espiritutemplario\\n\\n#Dios #Jesucristo #Templario https://t.co/4TOaOvhNYS', '#ÚLTIMAHORA | El lado norte del cono del volcán se derrumba\\n\\n➡️Varias nuevas coladas de lava amenazan las localidades cercanas al volcán\\nhttps://t.co/tCCGr1bsS3', 'El volcán de Cumbre Vieja, ubicado en la isla La Palma, en España, presenta una actividad mucho más agresiva luego de que este domingo se cumplieran dos semanas desde su erupción. https://t.co/kWRo3cN1Fb', '#Mundo | El volcán de Cumbre Vieja, ubicado en la isla La Palma, en España, presenta una actividad mucho más agresiva luego de que este domingo se cumplieran dos semanas desde su erupción. https://t.co/r9gWP5cJYf', 'Aumenta “notablemente” el flujo de lava en el volcán de Cumbre Vieja\\nEvacuados los científicos y el personal de emergencias de las zonas cercanas a las coladas por la mala calidad del aire\\nhttps://t.co/DBtUWflhu9', 'Actividad explosiva del volcán Cumbre Vieja se torna más agresiva dos semanas después de su erupción https://t.co/1HcfgdfMR4 vía @ElNacionalWeb', 'La nueva tierra de La Palma ya casi alcanza las 20 hectáreas de superficie. Se estima también que la profundidad que ha alcanzado la lava vertida al mar ya alcanza los 25 metros. Mide 50 metros de altura y 320 de ancho. Luce así: https://t.co/SQHvLBzkqh', 'RT @DeborahTiempo: El volcán Cumbre Vieja en La Palma', '#ErupciónLaPalma 14 días después de la erupción del volcán de La Palma en Cumbre Vieja, @RTVCes sigue al servicio de la información como el primer día, tanto @laautonomica como la TV. Un orgullo. Impresionante trabajo que merece cualquier premio. https://t.co/dNtMgMTJy2', 'El volcano Cumbre Vieja en Islas de La Palma (Canarias España) continuar erupcion.  El vista es magnifico en la noche.\\n\\n#LaPalmaVolcano\\n#LaPalmaeruption\\n#LaPalma \\n#CumbreViejaVolcano \\n#IslasCanarias https://t.co/rCLvtVbUZc', 'RT @Isavigil2: Cumbre Vieja: La lava del volcán de La Palma se convertirá en vidrio bajo el agua | Ciencia | EL PAÍS\\nLave devient du verre', 'RT @matragrano: @involcan @el_pais EL CAPITÁN IKEA ES DIÁLOGO CON Cumbre Vieja .Antonio Matragrano  ( https://t.co/ckcs7xe73w', 'Spain Canary Islands\\n\\nCumbre Vieja - Cabeza de Vaca (Tajogaite) volcano eruption, La Palma, 03Oct https://t.co/SkLlWqqNtI', 'EXTRAÑO FENOMENO en el cielo del Volcan La Palma \\n\\nAPOCALIPSIS 2021 \\n\\n SE ACERCA EL MEGA TSUNAMI \\n\\nhttps://t.co/T8W81H21jS', 'Pandemia Covid, Filomena, Volcan Cumbre Vieja, inundaciones. Si no teníamos suficiente se rumorea que vuelve El Canto del Loco. Tragedia tras tragedia.', '@involcan @el_pais EL CAPITÁN IKEA ES DIÁLOGO CON Cumbre Vieja .Antonio Matragrano  ( https://t.co/ckcs7xe73w', 'Spain Canary Islands\\n\\nCumbre Vieja - Cabeza de Vaca (Tajogaite) volcano eruption, La Palma, 03Oct\\n\\nNew chimney opens https://t.co/jHREwEzJ5j', 'Los Sistemas de Información Geográfica online y la información casi en tiempo real gracias a @CopernicusEMS nos permiten seguir la evolución del Volcán de Cumbre Vieja en la isla de La Palma. Es información accesible y gratuita al público. https://t.co/xUDuZM92fU https://t.co/94bRDlBNZP', 'Sánchez anuncia un paquete de medidas de más de 206 millones para La Palma https://t.co/s1jq4Mwa4g\\n\\nDIRECTO\\n\"se instalarán dos desaladoras portátiles, y un buque cisterna para aumentar de forma sustancial el caudal de agua para riego\"\\nhttps://t.co/TQLdu8au4E', 'RT @elespanolcom: El volcán Cumbre Vieja sigue en plena actividad y no se descarta la aparición de nuevas bocas https://t.co/gqaAOlkUwx', '@383_787 @EliRobainaTV @CycloforumsPR @adamonzon Y   SO₂ de CUMBRE VIEJA!', 'Este hombre hace más humo que el volcán de Cumbre Vieja #LoDeRedondo', 'ISLA LA PALMA. Un nuevo  fenómeno está enseñando el Volcán Cumbre Vieja, son ondas de gravedad generadas sobre la nube  de ceniza emanada del volcán\\n\\n#volcandefuego #volcano. #LaPalma #volcano #volcan #españa #BreakingNews #notícias\\n#ErupcionLaPalma https://t.co/3yDIDKahJD', 'Cumbre Vieja: La lava del volcán de La Palma se convertirá en vidrio bajo el agua | Ciencia | EL PAÍS\\nLave devient du verre au contact de la mer  https://t.co/fS0HP5pdX3', '@adebayorismo Los castellanos de pro os tomáis vino de Cariñena o Jumilla cada 3 juegos de padel y luego dejáis un rastro en los wc que ni él cumbre vieja', 'El volcán Cumbre Vieja sigue en plena actividad y no se descarta la aparición de nuevas bocas https://t.co/gqaAOlkUwx', 'RT @chicholmf: Últimas noticias del volcán en erupción en La Palma, en directo | Evacuados los científicos y el personal de emergencias de', 'RT @nanduti: #Mundo El volcán Cumbre Vieja es “mucho más agresivo” dos semanas después de su erupción #1020AM\\n\\nhttps://t.co/QVF5GqkKgd', 'Aumenta la actividad explosiva en el volcán Cumbre Vieja y se abre una nueva boca eruptiva https://t.co/iFMOjIb4h5', 'RT @AnonymouSpain21: Añadimos-el-irus-Catástrofes\\n2018-Volcan en haiwai\\n2020 Repiten\\n2021 La Palma \\n-Quieren.provocar.un.megatsunami.En.El.', 'RT @elluchin1: #UltimaHora\\n➡GIGANTE Fumarola ☁️\\ndel #Volcan  #Popocatepetl\\n #3Octubre #UltimoMinuto \\nPuebla Mexico\\n#Volcano #Temblor', 'Inéditas imágenes de la nueva fajana del Volcán Cumbre Vieja en La Palma desde el mar\\n#LaPalma #CumbreVieja #VolcánLaPalma #ErupcionLaPalma \\n\\nhttps://t.co/IlbhUnicjV', 'RT @MundoEConflicto: #⃣ #Mundo | Imagen capturada por la misión Copernicus Sentinel-2, muestra el flujo de lava del volcán Cumbre Vieja en', 'El volcán Cumbre Vieja es “mucho más agresivo” dos semanas después de su\\xa0erupción https://t.co/wL4Qf8h4K8', 'RT @telediario_tve: Aumenta la actividad en el volcán de Cumbre Vieja\\n\\nVolvemos a La Palma con @J_GarciaMartin\\n\\nhttps://t.co/naWgyi5WCX htt', '@Vantillana @MariolaPR Dicen es ceniza del volcán Cumbre Vieja en La Palma', 'DIRECTO  En los últimos minutos el volcán de Cumbre Vieja ha entrado en fase efusiva y ha aumentado el flujo de lava. \\n\\nhttps://t.co/5c3IxQsC1I https://t.co/bYujfInHQ3', 'TIEMPO.\\nUn nube con partículas de dióxido de azufre (SO2) proveniente del volcán Cumbre Vieja, en la Isla de La Palma, en España, llegó hasta el Caribe y se encuentra sobre Puerto Rico, afectando la calidad del aire en la isla. https://t.co/L9CMSNFpn7', 'RT @lapalma_INFO: DIRECTO  Aumenta la actividad en el volcán de Cumbre Vieja Volvemos a La Palma con @J_GarciaMartin\\xa0#lapalma https://t.co', 'DIRECTO  Aumenta la actividad en el volcán de Cumbre Vieja Volvemos a La Palma con @J_GarciaMartin\\xa0#lapalma https://t.co/NBoy8fCcFR', 'MULTIMEDIA | Se cumplen dos semanas del inicio de la erupción volcánica de Cumbre Vieja en La Palma, donde los... https://t.co/2hMTL1RO2d | #leonesp #leonoticias', '4 fenda se abre no Cumbre Vieja... Perigo https://t.co/BVWmIlrPlL', 'En los últimos minutos el volcán de Cumbre Vieja ha entrado en fase efusiva, está saliendo más lava. \\n\\nhttps://t.co/naWgyi5WCX https://t.co/HUEPlkHhep', 'RT @Gork_Saiz: El #volcánCumbreVieja entró en erupción el 19 de septiembre. El viernes pasado se abrieron dos nuevas fisuras en el cono. #L', '#ÚLTIMAHORA sobre el volcán de La Palma: Aumenta la actividad explosiva y no se descarta la aparición de nuevas bocas https://t.co/dpe25Lfomd', 'El volcán de la Cumbre Vieja de #LaPalma ha vuelto todas las miradas a estos colosos de lava y azufre.\\xa0Te mostramos otros\\xa0nueve volcanes con potencial destructivo\\nhttps://t.co/6CQKBR3I5X', 'RT @kokehtz: Parece que acaba de salir un nuevo punto de emisión de lava en el volcán Cumbre Vieja #erupcionlapalma #CumbreVieja #lapalmaer', 'Dos semanas de erupción y el volcán en #CumbreVieja sigue muy activo\\n\\nEl presidente @sanchezcastejon avanza que el próximo Consejo de Ministros aprobará 206M€ para La Palma, que se destinarán a suministro del agua, infraestructuras o empleo, entre otros.\\nhttps://t.co/HQjRTaUevw https://t.co/V5oUts12o5', 'EXTRAÑO FENOMENO en el cielo del Volcan La Palma \\n\\n\\n\\n SE ACERCA EL MEGA TSUNAMI \\n\\nhttps://t.co/T8W81H21jS', 'Aumenta la efusión volcánica, mientras se derrumba parte del cráter de Cumbre Vieja.\\n#LaPalmaeruption \\nImagen: @RTVCes https://t.co/WeNVqNpyYZ', '@ToIkienverse Qué lo recojan con cuidado sin tocarlo y lo tiren al Cumbre Vieja por si acaso.', 'Desde la primera erupción del volcán de Cumbre Vieja muchos fotógrafos, profesionales o aficionados, turistas o palmeros han ido inmortalizando algunos momentos.  \\n\\nEstas son algunas de ellas. \\n\\nhttps://t.co/naWgyi5WCX https://t.co/j08S8ZWgbw', 'DIRECTO | Aumenta “notablemente” el flujo de lava en el volcán de Cumbre Vieja https://t.co/r6KluyPJVO https://t.co/zpi9jN3aT3', 'Últimas noticias del volcán en erupción en La Palma, en directo | Evacuados los científicos y el personal de emergencias de las zonas cercanas a las coladas por la mala calidad del aire https://t.co/anjnLj4K8u vía @el_pais', 'Actividad explosiva del volcán Cumbre Vieja se torna más agresiva dos semanas después de su erupción https://t.co/FSsAGB3DB0', 'RT @A3Noticias: VÍDEO @EspejoPublico | El volcán de Cumbre Vieja (La Palma) ha dejado a centenares de familias sin casa. \\n\\n➡ La gran preocu', 'Ya tardan en sacar el volcan de cumbre vieja.\\nCoño ya lo ha nombrado el cabeza buque\\n#CuartoMilenio', 'RT @el_pais: DIRECTO | La Palma registra una docena de pequeños terremotos en el sur de la isla https://t.co/FX4PREl4Dv https://t.co/dfNH2b', 'RT @A3Noticias:  Las últimas actualizaciones indican que la lava ha arrasado con 946 edificaciones\\n\\n La #últimahora del volcán La Palma e', 'RT @ignaciopozo: Muy empaticos @mediasetcom con los canarios afectados por el volcán Cumbre Vieja, y resto de España,  proyectando en su ca', 'RT @CaraotaDigital: #Internacionales | Volcán Cumbre Vieja en La Palma originó una nueva boca de lava este #2oct +VIDEO     ⭕ https://t.co', 'RT @elluchin1: #UltimaHora\\n➡IMPRESIONANTE Fumarola ☁️☁️☁️\\ndel #Volcan #Popocatepetl\\nMañana #3Octubre #UltimoMinuto \\nPuebla Mexico \\n#', 'A cinza de Cumbre Vieja borra en dúas semanas case 5.000 hectáreas de terra da Palma | CRTVG https://t.co/i29w9hYWAW https://t.co/JqYwWeVKpP', 'Aumenta la actividad efusiva del volcán de Cumbre Vieja. \\n\\nhttps://t.co/GXJEXsaXHM https://t.co/joMuEtbIdB', 'Aumenta la actividad en el volcán de Cumbre Vieja\\n\\nVolvemos a La Palma con @J_GarciaMartin\\n\\nhttps://t.co/naWgyi5WCX https://t.co/tNq18VubEr', 'Añadimos-el-irus-Catástrofes\\n2018-Volcan en haiwai\\n2020 Repiten\\n2021 La Palma \\n-Quieren.provocar.un.megatsunami.En.El.Atlantico. https://t.co/Fb43tmaXAs', 'RT @antena3com:  La última hora sobre el volcán de Cumbre Vieja con Matías Prats y Mónica Carrillo.\\n\\n Especial Informativo: Los 15 días q', 'significativamente hoy, debido, en alta probabilidad, a emisiones que vienen del volcán Cumbre Vieja en la isla de La Palma, de las Islas Canarias. Los datos observados en nuestra estación muestran un alza en las concentraciones de particulado fino (pequeño) y grueso (grande)...', '#ÚLTIMAHORA sobre el volcán de La Palma: Aumenta la actividad explosiva y no se descarta la aparición de nuevas bocas https://t.co/dpe25KXNuF', 'RT @soldejayuya46: Se ha estado corriendo viral la explicación de que la nube de polvo del Sahara de hoy viene con peligrosos gases de dióx', 'In pictures: La Palma volcano — The spectacularly destructive eruption of Cumbre Vieja\\n\\nhttps://t.co/8DxL5gCWqV', 'RT @OnceNoticiasTV:  La erupción del volcán Cumbre Vieja, en #LaPalma, #España, no ha dejado víctimas pero sí grandes daños en esta isla', 'El volcán Cumbre Vieja es \"mucho más agresivo\" dos semanas después de su erupción - https://t.co/iermJy4ZRk https://t.co/r26bJqSOhF', 'El #volcánCumbreVieja entró en erupción el 19 de septiembre. El viernes pasado se abrieron dos nuevas fisuras en el cono. #LaPalmavolcan @OnCuba https://t.co/EEhlBuRYvb', 'Pedro Sánchez anuncia 200 millones en ayudas para afectados del volcán de Cumbre Vieja https://t.co/4fDytTicOj https://t.co/C5eNBEy6Re', '#Mundo | Tras erupción, España destinará 206 mde para reconstruir La Palma https://t.co/WPcjGs8NfL\\n\\nLa actividad del volcán Cumbre Vieja ha destruido 900 edificios y obligó la evacuación de seis mil personas. https://t.co/dxKvQrYW8c', 'RT @deisy_telesur: #España | Ante la actividad del volcán de Cumbre Vieja, en la isla de La Palma, se decretó el confinamiento de unas 3,50', 'RT @AssVidDaily_: EXTRAÑO FENOMENO en el cielo del Volcan La Palma \\n\\nAPOCALIPSIS 2021\\n\\n SE ACERCA EL MEGA TSUNAMI \\n\\nhttps://t.co/T8W81H2', 'El #volcánCumbreVieja entró en erupción el 19 de septiembre. El viernes pasado se abrieron dos nuevas fisuras en el cono. #LaPalmavolcan https://t.co/tJstgwM1f8', '#Internacional | La lava que fluye de los respiraderos del volcán Cumbre Vieja ha destruido más de 900 edificios y provocado el desplazamiento de unas 6.000 personas  #Larsa   https://t.co/lJpa3vUDhY', 'RT @soydanycosmo: Un nuevo fenómeno está enseñando el Volcán Cumbre Vieja, son ondas de gravedad generadas sobre la nube de ceniza emanada', 'RT @euronewses: Nueva boca de erupción en el volcán de La Palma. Se abre una nueva boca de erupción en el volcán de Cumbre Vieja de la isla', 'RT @euronewses: Volcán Cumbre Vieja: Desaparece una prestigiosa zona de sur en la isla de La Palma https://t.co/uf7XmzdEFu', 'El mar de nubes y las nieblas son unos de los activos más bellos que posee #LaPalma. El área Refugio de El Pilar, desde donde parte la Ruta de los Volcanes en el Parque Natural de Cumbre Vieja, posee un precioso pinar donde se agarran las nubes, un magnífico \"bosque animado\". https://t.co/3kY5aLqOXs', 'MULTIMEDIA | El volcán de Cumbre Vieja cumple este domingo dos semanas desde que entró en erupción y la... https://t.co/TqbzPv5fBa | #leonesp #leonoticias', 'El volcán Cumbre Vieja sigue en plena actividad y no se descarta la aparición de nuevas bocas https://t.co/6odnzLuepY', 'Venga Frodo tío, llega ya a tirar el anillo a Cumbre Vieja que van ya 15 días y los canarios están hasta el rabo.', 'RT @rbclouston: Spain Canary Islands\\n\\nCumbre Vieja - Cabeza de Vaca (Tajogaite) volcano eruption, La Palma, 19Sep-03Oct\\n\\nPast volcanic', 'RT @ElperiodicodeC: Se intensifica la actividad en el volcán de Cumbre Vieja https://t.co/sGEFUr1Mxw', 'Se intensifica la actividad en el volcán de Cumbre Vieja https://t.co/sGEFUr1Mxw', ' Se calcula que las pérdidas económicas en el cultivo del plátano superan los 30 millones de euros tras el comienzo de la erupción del volcán de Cumbre Vieja https://t.co/slEaUdSiCw', 'EXTRAÑO FENOMENO en el cielo del Volcan La Palma \\n\\nAPOCALIPSIS 2021\\n\\n SE ACERCA EL MEGA TSUNAMI \\n\\nhttps://t.co/T8W81H21jS', 'RT @AztecaNoticias: #Entérate | Continúa la actividad del #volcán Cumbre Vieja en La Palma, #España, Alberto Fabricio de la Alianza Informa', 'RT @AztecaNoticias: #QueNoSeTePase | El presidente del gobierno de #España Pedro Sánchez anunció un paquete financiero para la isla de La P', \"Thermal camera images of Cumbre Vieja volcano and lava flows on Spain's La Palma - Euronews https://t.co/wm5J9Hj3wj\", 'RT @ultimahsv: #Internacionales | El gobierno de España destinará más de $230 millones adicionales, para la recuperación de la isla La Palm', 'RT @PovedaJB: Varios vecinos se movilizan para reabrir sus casas desocupadas y dar un hogar aunque sea momentáneo, a familias desalojadas p', 'SUBASTA BENEFICA EN FAVOR DE LOS AFECTADOS POR EL VOLCAN CUMBRE VIEJA EN... https://t.co/fvUKdDIOBl a través de @YouTube', 'RT @A3Noticias:  \"Durante la semana que viene se irán iniciando las clases\" \\n\\n Manu Sánchez entrevista a Mariano H. Zapata (@Marianohzapa', '#Internacionales - Volcán Cumbre Vieja es «más agresivo» luego de su erupción https://t.co/lK3mAWSkz7', '#Internacionales | Volcán Cumbre Vieja en La Palma originó una nueva boca de lava este #2oct +VIDEO     ⭕ https://t.co/2BszM5bNqb', 'In pictures: La Palma volcano — The spectacularly destructive eruption of Cumbre Vieja\\n\\nhttps://t.co/a3KN1dzt4Q', 'Es tal la fuerza de la Naturaleza, que parte de los gases de la erupción del Cumbre Vieja han llegado a Puerto Rico.', 'RT @ldejesusreyes: Una nube de dióxido de azufre, proveniente del volcán Cumbre Vieja, en La Palma, cubre los cielos de #PuertoRico\\n\\n¿Pudie', 'El volcán de Cumbre Vieja cumple este domingo dos semanas desde que entró en erupción\\xa0\\nhttps://t.co/Bcgy9aPQbG', 'El #volcán #CumbreVieja en la isla canaria de La Palma continúa en erupción desde hace 20 días y la situación de esa zona se torna cada vez más desoladora.\\n\\n@kitty_894 @CarlosO28859673 @carlosllvc65 @BenetBeca @ChalecosAmarill @AyalaramM @ProfeMatias https://t.co/vEpDT6KGHG', 'El volcán de La Palma aumenta su actividad explosiva y no se descarta la aparición de nuevas bocas. El Vocan de Cumbre Vieja todavia tiene mucho por mostrarnos\\n#erupciondelapalma #information #volcan #socialmedia #siguemeytesigo #socialnetworks #domingodeganarseguidores https://t.co/YPJPOB6tfP', 'RT @NoticieroSLV: Entre el viernes y sábado, nuevas bocas de lava se formaron en el volcán Cumbre Vieja, en la isla española La Palma. \\n\\nEl', 'El volcán Cumbre Vieja es \"mucho más agresivo\" dos semanas después de su erupción - RT https://t.co/eyiP3agjgC', '@A3Noticias Este MEGA TSUNAMI, podría llegar a las costas de EE.UU.,Brasil,Costas d Africa, y Europa,incluido Portugal y España. Pero con este Gobierno,se cree, que dando 3perras gordas,lo tiene solucionado,y PAGANDOLE ATRESMEDIA,PARA CREAR CORTINAS D HUMO,lo solucina', 'RT @elpoliticonews: #02oct |  Así de rápido fluye la lava en el volcán de Cumbre Vieja en la Palma en estos momentos.\\n\\nExpertos aseguran', 'RT @NoticieroSLV: Las autoridades del gobierno de España detallaron que destinarán más de $230 millones adicionales, para la recuperación d', 'RT @A3Noticias:  \"Si hay cambio de estrategia del volcán, tenemos que cambiar la nuestra\" \\n\\n Toñi Galván (@togalvan) entrevista a Federic', 'ABAE\\n\\nAsí se ve, desde el espacio, la erupción del volcán Cumbre Vieja en la isla de La Palma en las Islas Canarias, España.\\n\\nImagen capturada por nuestro Satélite “Sucre” VRSS-2, el día 30 de septiembre de 2021, con una resolución espacial de 1 metro. https://t.co/9o8BRZXvCh', '@A3Noticias Dicho esto, informamos,que en 2005,NATIONAL GEOGRAPHIC,\"ANUNCIÓ ESTA CATASTROFE\",cuando Gobernaba el PSOE. Ahora,han comunicado en los estudios hechos sobre la isla,q si,se desprende parte de esta al mar, PODRÍA ORIGINAR un \"MEGA TSUNAMI\"', 'Se intensifica la actividad explosiva en el volcán de Cumbre Vieja\\n\\nLa imagen, en directo, en @rtveplay\\n\\n https://t.co/DnikAhpo9w\\n\\n  https://t.co/2sdBfFMX9U https://t.co/k0LBa2vDz3', 'Se intensifica la actividad explosiva en el volcán de Cumbre Vieja\\n\\nLa imagen, en directo, en @rtveplay\\n\\n https://t.co/r20SlDiHPn\\n\\n  https://t.co/Suou8k7Xju https://t.co/bYujfInHQ3', 'De los creadores de la película \"El coronavirus se acaba con el verano\", llega a las pantallas la emocionante \"No habrá un mega tsunami el La Palma\" https://t.co/GynS8BAzaw', '¿Y si El VOLCAN de LA PALMA causa un MEGA TSUNAMI? https://t.co/TeQUTgmHPK a través de @YouTube', 'RT @Spaniard2002: No, si al final será verdad la tworia de que el volcán va a erupcionar tan fuerte que va a hacer que la isla explote y se', 'RT @drspirit255: No sabemos si finalmente habrá un mega tsunami, lo que si está claro, es que el documental, o los cientificistas, acertaro', 'Que si @YouTubeEspanol. Que ya sé que en La Palma hay un volcán por eso no me tienes que recomendar 100 videos sobre la teoría del mega tsunami que podría ocurrir.', 'No, si al final será verdad la tworia de que el volcán va a erupcionar tan fuerte que va a hacer que la isla explote y se cree un mega tsunami https://t.co/IC1NzyR9Oc', 'No sabemos si finalmente habrá un mega tsunami, lo que si está claro, es que el documental, o los cientificistas, acertaron en un 50% en este documental. \\n\\nDios quiera que no ocurra ningún desastre natural de esa envergadura.', 'Solo falta el mega tsunami de la palma arrasando toda la costa este de eeuu, sigamos soñando', 'Vídeo explicativo de la teoría del mega-tsunami de La Palma #Volcan \\nhttps://t.co/NB5Sq5DvKE a través de @laprovincia_es', '@AlertaMundial19 La palma tiene una fisura. Si se desprende podría causar un mega tsunami.', 'RT @blackdragon1802: Hoy estuvimos muy cerca d soportar en América un mega Tsunami producto del volcan #CumbreVieja #LaPalma #IslasCanarias', 'Hoy estuvimos muy cerca d soportar en América un mega Tsunami producto del volcan #CumbreVieja #LaPalma #IslasCanarias #España\\n\\n#Nibiru ya está CERCA. \\n\\n#ANCentral #TVPerúNoticias #ATVNoticias #AlEstiloJuliana #90Central #24HorasEC #ExitosaPerú #Willax #RPP #PBO #CanalN https://t.co/J6q05xse5C', '@TartuTV No paro de mirar videos del mega tsunami y el volcán de Palma, para q habré leído tu twit jajajaj', 'RT @VibraMahou: Atentos, que viene tsunami emocional mega potente con #LaLuzDelMartes de @anaguerra ', 'RT @ElFinanciero_Mx: Lo que parece una actividad volcánica en un lejano archipiélago español ha causado temores respecto a un posible despl', 'RT @Cambiomichoacan: #Mundo \\nErupción de volcán en Canarias podría generar un mega tsunami\\n⬇️⬇️⬇️\\nhttps://t.co/rNlA9Hxpib https://t.co/cgR', '@JJRuiz791 Si juntamos esto con la teoría del mega tsunami estamos apañados', 'Natgeo - Mega Tsunami de La Palma https://t.co/I6reTJec7p via @YouTube', '@puntodemira_tv Las gamas .....\\n\\nCon lo que está pasando.. antes ...cae .. un meteorito para provocar ese mega tsunami...\\n\\nYa hay bastantes desgracias para teorías de inventivaa https://t.co/qveerfcJgH', '@pirata_sabio @cuatro @puntodemira_tv Cuando se sucedieron los primeros seísmos, recordé el documental de Mega Tsunami. Lo publiqué y después se produjo la erupción días después. Pero aún así, decían que las viviendas no corrían peligro. Vea el resultado.\\nEso es alarmar, o prevenir? Los sismólogos lo sabían mejor aún', 'Están hablando de un mega tsunami y maduro no me esta pareciendo tan amenazante. ☹', 'RT @URHEBERRECHTURH: Cumbre Vieja Erupts as Predicted by Billy Meier\\n\\nhttps://t.co/8cToX35fEU\\nhttps://t.co/E94zl8q9q8\\n\\nLa Palma Mega https:', '#EnElPuntoDeMira\\nSe me pone mal cuerpo oir lo del mega tsunami. \\n\\nNo exagereis tanto por dios!', '#Mundo \\nErupción de volcán en Canarias podría generar un mega tsunami\\n⬇️⬇️⬇️\\nhttps://t.co/rNlA9Hxpib https://t.co/cgRZEYKvAb', 'RT @rafsviews: La Isla de La Palma, donde está ese volcan  si es el del documental del mega tsunami gente u.u https://t.co/uS57Ae7ye4', '@Segad_TV Real que lo del mega tsunami me está dando miedito.', '@LA18DEMANOLITO No me jodas!! Si te quieres informar con seriedad sigue a @involcan \\n\\nQue son los expertos que están a pie \"del cañón\".\\n\\nYo es que con lo de las bocas... hay mucha información cambiante\\n\\nIncluso lo del mega-tsunami es un bulo!! DE hace años.. pfff y yo me lo tragué!', '@Cebs_ Yo ahora estoy con la teoría del mega-tsunami. Ella fantasiosa.', '@JuanyGar63 ¿A ver si lo del mega tsunami ese no es una idea tan loca?', 'Página 10. Eso es lo que quería hacer con mi hilo hasta que salió el troll de turno. No hay ningún riesgo de mega deslizamiento ni de Tsunami. Pero bueno, se lo dije 3 veces. No supo esperar a que terminara el hilo. De hecho ya ni hice hilo. \\nhttps://t.co/rEAOPkpFs5', 'Angloparlantes y brasileños emparanoiados con un mega tsunami https://t.co/LSMs2hbsio', 'El volcán ha entrado en fase explosiva extrema, no se si sois conscientes de que como haya un gran desprendimiento por reventón del volcán crea un mega tsunami y nos vamos todos a tomar por culo', 'RT @ElFinanciero_Mx: El vulcanólogo Thomas Walter señaló a la agencia alemana DW que, hace 20 años, surgió el pronóstico de un cataclismo e', 'RT @AscenViguri: @blvcom @navedelmisterio @cuatro @carmenporter_ @Diego_FDM @JaviPerezCampos @FPCaballero El único q ha osado informar sobr', 'Lo que parece una actividad volcánica en un lejano archipiélago español ha causado temores respecto a un posible desplazamiento de la la isla lo cual podría generar un mega tsunami.\\nhttps://t.co/t7FeKVzNc8', 'Atentos, que viene tsunami emocional mega potente con #LaLuzDelMartes de @anaguerra  https://t.co/QTG1uwP6QF', '@blvcom @navedelmisterio @cuatro @carmenporter_ @Diego_FDM @JaviPerezCampos @FPCaballero El único q ha osado informar sobre el estudio del mega tsunami q se causaría en caso d desprendimiento d la ladera del Cumbre Vieja. \\nLos demás, mirando xa otro lado.\\nY después dirán \"no se podía saber\"\\nMejor q digan ahora lo q hay q hacer si llega a pasar', '@riddles00 Mega tsunami from the Las Palma Volcano ', 'RT @MonarcaTuerto: @DrGrafeno78 Y que digan categóricamente que no están relacionados, como si supieran qué se cuece ahí abajo, o quisieran', 'El vulcanólogo Thomas Walter señaló a la agencia alemana DW que, hace 20 años, surgió el pronóstico de un cataclismo en la isla española que podría causar un mega maremoto en el Océano Atlántico.\\n\\nhttps://t.co/IUI6ASJ580', 'El vulcanólogo Thomas Walter señaló a la agencia alemana DW que, hace 20 años, surgió el pronóstico de un cataclismo en la isla española que podría causar un mega maremoto en el Océano Atlántico.\\n\\nhttps://t.co/t7FeKVRo3G', '@QRancio @Ismael02741368 @MagnetoDark Desmentidos el mega tsunami no el tsunami', 'La erupción de La Palma resucita la teoría del \"mega-tsunami\": por qué no es posible https://t.co/PnYWrDIYo7 a través de @elespanolcom', 'Pues ayer creo, en espejo público hablaron de teorías conspirativas y mencionaron lo del mega tsunami por la isla de La Palma. Y están terriblemente equivocados. És Tenerife que puede partirse casi por la mitad y caer al mar provocar éso. Según vulcanólogos y geólogos de un', '@TuiteroSismico Será cierto el estudio que este volcán puede provocar un mega tsunami?', 'RT @Luk_Anikos: Yo no descartaría todavía la teoría del mega tsunami por el desprendimiento de Cumbre Vieja.\\n\\nDe momento las predicciones s', 'RT @Luk_Anikos: Los científicos descartaban el colapso de Cumbre Vieja porque la lava acabaría en el mar.\\n\\nAhora que saben que la lava no v', '@SiempreIgual135 Me dicen mis padres que existe cierto documental de los años noventa en el que dos expertos estadounidenses afirman rotundamente que el mega Tsunami ocurriría. Salió también hace unos años en un capítulo del CSI. ', 'Viendo youtube sobre el tema del volcán, en otros países no paran de sacar artículos y vídeos explicando si sería o no posible el mega Tsunami desde La Palma hasta EEUU. Puro Clickbait.\\nPero vamos, que mala imagen nos intentan dar y más en EEUU que ahí se creen cualquier cosa.', '@nochedevolcanes Nadie sabe eso puedo entrar el mar? Y dale un mega tsunami', '@Ebod_Ithi @Pedrodeveras @rodriguezcoello Además de que no ha habido ningún colapso de la ladera ni ningún mega tsunami, y según los estudios más recientes es casi imposible que lo vaya a haber.', 'RT @_VeRoNiKa__1333: El estudio del Hazard Research Centre de la Universidad College de Londres, y que uno de sus pupilos, Simon Day,difund', \"El estudio del Hazard Research Centre de la Universidad College de Londres, y que uno de sus pupilos, Simon Day,difundieron en un documental de National Geographic llamado 'Disaster Earth' en el año 2005.En el documental explica la posibilidad de un mega tsunami\\n#Horizonte https://t.co/6HA1YAubmq\", '@elmundoes ¡AVISO URGENTE! La isla se va a partir y habrá un mega-tsunami,los medios y los gobiernos lo saben y no están avisando.Hubo una reunión en la Casa Blanca y se decidió no avisar para no crear pánico. Que la gente salga de las Canarias y de las costas! #LaPalma #Tsunami', '¡AVISO URGENTE! La isla se va a partir y habrá un mega-tsunami,los medios y los gobiernos lo saben y no están avisando.Hubo una reunión en la Casa Blanca y se decidió no avisar para no crear pánico. Que la gente salga de las Canarias y de las costas! #LaPalma #Tsunami', '@KoralysHidalgo @MrPitwall Otros islotes?si podrían salir como paso hace poco en 2011 con el del hierro , lo del mega tsunami  era un bulo que usaron aseguradoras americanas para estafar ,se dice q si se desprende parte de la colina se podría formar uno xo no de esa magnitud ,pero no en estas condiciones', 'Los científicos descartaban el colapso de Cumbre Vieja porque la lava acabaría en el mar.\\n\\nAhora que saben que la lava no va hacia el mar y se extiende a lo ancho aumentando su peso y la presión en el terrerno... ¿seguirán descartando un posible mega tsunami?. ', '@DrGrafeno78 Y que digan categóricamente que no están relacionados, como si supieran qué se cuece ahí abajo, o quisieran ocultar lo que se cuece arriba. Esperemos que el plan B no sea el mega tsunami.', 'Yo no descartaría todavía la teoría del mega tsunami por el desprendimiento de Cumbre Vieja.\\n\\nDe momento las predicciones se están cumpliendo. \\n\\nNo vaya a ser que de 0 víctimas, pasemos a miles por incrédulos.', '#LoMásLeídoHoy La rocambolesca teoría que alerta de un posible megatsunami tras la erupción del volcán de Cumbre Vieja https://t.co/SVGcXgTKDr', 'RT @ElCanarionaso_: En TVCanaria desmontando el documental que circula por redes sociales sobre el mega tsunami que se podría crear por el', 'A la gente le encanta generar polémicas, verdad? No importa lo que diga la ciencia pero mañana viene un  mega tsunami que acabará con el planeta, relax. No hay que subestimar la fuerza de la naturaleza ', 'RT @valepizzas: Que horror lo que está pasando en #LaPalma si esto pasa a mayores produciría un mega tsunami que pegaría en la costa Atlánt', ' Tsunami de rebajas #Amazon \\n\\nM Bnz Nanas S/S T-Shirt Hombre \\n\\n Mega descuento del 51% \\n\\n Precio desde 15,70 EUR\\n\\n Enlace: https://t.co/GeKfAkh3M1 \\n\\n https://t.co/7fumRobBMk https://t.co/86X8dj1PVy', '@JosMAmado1 @lorzagirl Y el mega tsunami', 'Una ola de 900 metros de altura.\\nNo sé qué es peor, si la gente que publica esto en estas cuentas o quienes lo creen.\\nPuede generarse un mega tsunami, si.\\nPero 900 metros de altura puede alcanzar es la isla  https://t.co/47wrbZctCz', '@Newtral Esta bien que calméis al pueblo desmintiendo parte de las posibles consecuencias de la teoría del mega-tsunami  provocado en la isla de la Palma\\nPero estáis en disposición de negar la teoría en su totalidad', 'Que horror lo que está pasando en #LaPalma si esto pasa a mayores produciría un mega tsunami que pegaría en la costa Atlántica de norte y sur de América !! ⚠️⚠️⚠️⚠️⚠️ https://t.co/UPziTyPne0', 'Como haya un mega tsunami y llegue a Estados Unidos la culpa es del psoe por no cerrar fronteras, ya lo advirtió mi compañero antes @Nuhasl', '@Gato_directo Como están las cosas, es más probable que haya un mega tsunami', '@AdriangonzaIez Me acuerdo cuando ví un documental de National Geographic que decía que este volcán podría producir un mega tsunami y que era cuestión de tiempo, pero no pensé que sería tan rápido.', 'RT @TomasRudich: La teoría de un mega-tsunami tras la erupción del volcán de La Palma y la supuesta alerta de Nueva York es muy clickbait p', 'Volcán cumbre vieja. Canarias.\\n1-linea de falla\\n2-posible desprendimiento de parte de la montaña\\n\\nDe ocurrir ese fenómeno odria generar un mega-tsunami con consecuencias catastróficas. https://t.co/3fxTKy1E9d', 'ahora si, juimos guenos, se viene mega Tsunami  https://t.co/gzqsHH0zlr', 'RT @SIMMSAmex: ¿Es inminente un tsunami producto de la erupción en Cumbre Vieja, o aún es pronto para hablar de él?\\nDescúbrelo en nuestro a', '¿Es inminente un tsunami producto de la erupción en Cumbre Vieja, o aún es pronto para hablar de él?\\nDescúbrelo en nuestro artículo de la semana y dejanos tus comentarios.\\n⬇️\\nhttps://t.co/Z0vBBGiNPH', 'La rocambolesca teoría que lleva años alertando de un posible megatsunami tras la erupción del volcán de Cumbre Vieja https://t.co/zsFkCafXXY', 'RT @quinnannette: Se habla de posible mega #tsunami \\nAmanecerá y veremos.', 'A ver si dejan de meter miedo y mierdas de la isla de La Palma que ya bastante tienen con lo que están pasando como para que sigan acojonados con el mega tsunami de los huevos! https://t.co/DsMfKMUDei', 'RT @Soplox: Espera, esta erupción de #LaPalma podría generar el MEGA-Tsunami que se ha estado pronosticando por años. Aniquilando toda la E', '@Trifon_Ivanof Solo llegará ahí, el muro invisible que existe al rededor impide que llegue al resto 🤣🤣\\n\\nAl nivel del mega tsunami que solo atrasaría Estados Unidos 🤦\\u200d♂️', 'La teoría de un mega-tsunami tras la erupción del volcán de La Palma y la supuesta alerta de Nueva York es muy clickbait pero poco realista. @paula_boira habló con el ayuntamiento y los bomberos de NYK y aclara varias de estas desinformaciones en @Newtral\\n\\nhttps://t.co/LMB2kwDc45', '@ElItalianoFB @robertojirusta Y ayer leí q si se desprende la ladera , y cae al mar, hace mega tsunami \\nNo sé si ocurrirá', 'Están diciendo que cuando la lava entre al mar puede haber un mega-tsunami que puede que afecte tanto como a la costa americana como a Europa jajajajajajajaja ya es lo que me faltaba por ver con los añitos que llevamos ya no me sorprende na', 'En TVCanaria desmontando el documental que circula por redes sociales sobre el mega tsunami que se podría crear por el volcán de La Palma para que dejen de crear bulos porque afectaría a la economía de Canarias. La de estupideces que dicen para crear miedo. #RTVCconLaPalma', 'Parte de un documental de la 2 de hace unos años. Podría producirse un mega tsunami  #lapalma #Volcan #CumbreVieja https://t.co/ajJyt2hwRs', 'RT @emily_habsburg:  Hipótesis de lo que ocurriría con el volcán de La Palma:\\n\\n1º terremotos\\n2º salidas de lava\\n3º terremotos\\n4º nuevas sa', 'Lo más gracioso de todas las ignorantadas que he leído en twitter sobre el volcán de La Palma son los estadounidenses conspiranoicos que todavía se creen lo que salió en un documenta sin base científica sobre un mega tsunami que se va a comer la costa este por culpa de', 'Hoy estoy en Málaga y verás tu que me pilla el puto mega tsunami.', '@SanFadao Mega tsunami DIRECTO A AMÉRICA, dijero que podría ser de unos 600 metros de altura y podría inundar las costas de América y que llegaría hasta la mitad de dicho país osea \"Kansas, Arkansas and CO.\"\\n\\nNo me se los datos, solo se que hierro, TIENE ESE PEÑASCO \"PRECINTADO\" para que', '@LaVanguardia @historiasytinta Peor es el reportaje de la 2 que hablaba de un posible mega tsunami y se emitió.', 'RT @hapinto2: #LaPalma El documental completo sobre #CumbreVieja  y el mega tsunami aquí: https://t.co/oOcA5cDU9U', '@llamargenta Si esto fuese real supongo que usarán a Yae así para \"cerrar\" con ella Inazuma  y si te mola los nenes puedes intentar guardar para ellos :3 aunque de momento sean supuestos xD la de la 2.4 es una humanización de la preservadora de las nubes... o sea que me huele a mega fake🤣', '@julitadehuecar Ah sí, un mega tsunami y vamos a morir todos.', 'No hacen gracia las pérdidas materiales pero todo eso és reemplazable o se puede apelar a las indemnizaciones por \"zona catastrófica\". El día en que otra erupción parta en dos y hunda todo el sur de Tenerife, mucha gente morirá por no tener a dónde huir, y el mega tsunami será', 'No puedo creer que me desvelé viendo un documental del posible mega tsunami si el volcán cumbre vieja de #LaPalma se desprende por la erupción', ' Tsunami de rebajas #Amazon \\n\\nTeamgoal 23 Knit Shorts Jr - Pantalones Cortos Niños \\n\\n Mega descuento del 49% \\n\\n Precio desde 9,13 EUR\\n\\n Enlace: https://t.co/6llJGba96t \\n\\n https://t.co/1MYd75kqGV https://t.co/WXp8fBoqgb', 'La Vanguardia - Erupción del Volcán en La Palma + ngomar200 - La Palma Mega Tsunami (1) + (2) https://t.co/l7PpaUcknd via @rsmuseum', 'RT @nhc1101111: Volcán de Canarias: ¿Podría la erupción causar deslizamientos de tierra y mega-tsunami? [ENG] -  https://t.co/V5WgnCdpHN', 'Mi abuela anda un poco alterada por un vídeo que le han pasado de hace un montón de tiempo hablando del Mega-tsunami. Así que me ha tocado vestirme de Geólogo y explicarle cómo es y funciona una erupción estromboleana y explicarle los diferentes tipos de volcanes y erupciones.', '#LaPalma El documental completo sobre #CumbreVieja  y el mega tsunami aquí: https://t.co/oOcA5cDU9U https://t.co/8WBVlJ6tKd', '@elcocaxo3 Yo el 25 de octubre de 2052 pidiendo piedad a dios para no morir por el mega Tsunami', 'RT @jorgieDLIC: algunos salvan antes la ropa del Primark que sus mascotas\\n\\nojala nos extingamos todos en un mega tsunami\\n\\n #LaPalmaEnNuestr', '@junytoi Y ahora viene el mega tsunami', 'algunos salvan antes la ropa del Primark que sus mascotas\\n\\nojala nos extingamos todos en un mega tsunami\\n\\n #LaPalmaEnNuestrosCorazones', 'RT @girosalut: ERUPCIÓN VOLCÁN CUMBRE VIEJA (LA PALMA).¿ PUEDE PRODUCIRSE UN MEGA TSUNAMI?\\n@girosalut\\n\\nTe recomendamos este interesantísimo', '@general_sak Pues que es una noticia FAKE tan grande como el volcán . Los volcanes no provocan tsunamis o al menos la inmensa mayoría no. Hay muchas personas y algunos medios de comunicación a los que les gusta alarmar sin motivo. No hay peligro de ningún \"mega tsunami\".', '@LaDamadNoche La teoría del tsunami ha sido desestimada por los vulcanologos y geólogos. You know los estadounidenses como pueden ser a veces de hipocondriacos diciendo que lo de canarias va a desatar un mega-tsunami que llegue a Nueva York XD', 'RT @detonarealnews: #DALEPLAY ▶️ Estos científicos nos explican por qué la activación de Cumbre Vieja podría afectar a todo el mundo  #LaP', 'Los colapsos de los volcanes en islas son eventos muy raros.  Si sucediera uno (por cierto, no hay evidencia de que sea inminente), tendría un impacto local importante.  Sin embargo, la idea del \"mega tsunami\" de campo lejano ha sido ampliamente desacreditada https://t.co/6dHgB6GMZv', '#LoMásLeído La erupción de La Palma resucita la teoría del \"mega-tsunami\": por qué no es posible https://t.co/27NYxGrue6', '@mrjohelpadilla @ViviMudd Por ahi hay videos diciendo q eso del mega tsunami es mentira!', '@Birria_71 @caetagno @involcan el rumor aquí en Brasil es que un posible deslizamiento de tierra de parte de la isla podría causar un mega tsunami a lo largo de toda la costa brasileña', '@EltiempoenParla qué opinas del posible mega tsunami que pueda provocar la erupción del volcán? Sé que no es “el tiempo” pero me fio mucho de tu opinión científica jeje. Gracias!', '@LaDamadNoche Las fisuras se han producido mucho más abajo. No se puede producir el desprendimiento del terreno previsto y, de ocurrir, el movimiento de tierras es insuficiente para producir el famosos y catastrófico mega tsunami.', 'el volcán mata británicos y el mega tsunami que va a provocar a los estadounidenses. yo creo que nos tenéis que dar las gracias https://t.co/VoCWcOCcIq', '#DALEPLAY ▶️ Estos científicos nos explican por qué la activación de Cumbre Vieja podría afectar a todo el mundo  #LaPalma #LaPalmaeruption \\n\\nhttps://t.co/r7daNkSDVe', '@AtmosferaSur Al final se quiebra Cumbre Vieja, se cae media isla al mar, mega Tsunami, Armagedon y ríete tú del covid.', '@alexandrato2016 Ello sería anuncio q toda la cadena volcánica en la Palma se activó y alud de 500 kms³ d tierra y rocas caerán al mar.  Mega tsunami ya sería seguro', '@alexandrato2016 Barbados es la x roja y mega tsunami x erupción en Islas Canarias se lo llevaría d encuentro https://t.co/TDFJvkk7iV', '¿Se acuerdan del documental que planteaba que una erupción mayor en La Palma provocaría un mega tsunami que se propagaría por todo el Atlántico?\\n\\nEl maya era disléxico...  https://t.co/lZbX6YmGOR', 'Volcán La Palma. Imagen satelital hoy de situación en Canarias. Observen cráteres d ant erupciones: Ahí está el peligro y acaba d abrirse 9ª fisura en Cumbre Vieja. Son 20 kms d costa q se vendrían abajo y prov mega tsunami. https://t.co/NYlBWiTFpd https://t.co/Uf2TnZHvZy', '@GuateHainstain Todo cabe y pronto se verá, sin que haga falta para que las Canarias y toda la Costa Este d N.America Caribe y Brasil quede bajo las aguas d un \"posible mega tsunami\", pero ya se verá en los próximos días.', 'los yankees conspiranoicos q siguen creyendo que con lo de la palma les puede llegar un mega tsunami que arrasaría el este del país son tontos y en su casa no lo saben, entiendo q quieran ser protagonistas de todo siempre y que ahora no les hagan casito duele pero que se respeten', '¿Mega Tsunami desde la isla de La Palma?\\n(2/2) https://t.co/qt2V2leD5v', 'ERUPCIÓN VOLCÁN CUMBRE VIEJA (LA PALMA).¿ PUEDE PRODUCIRSE UN MEGA TSUNAMI?\\n@girosalut\\n\\nTe recomendamos este interesantísimo documental\\n. https://t.co/7EsXyOUfz4', 'RT @mauromazza01: .. geólogos dicen que es todo humo lo de Canarias. Es imposible un mega-tsunami. Van a poder volver a Nueva York y la Flo', '.. geólogos dicen que es todo humo lo de Canarias. Es imposible un mega-tsunami. Van a poder volver a Nueva York y la Florida. https://t.co/UvNCwamIq6', 'tío me estoy cagando de leer a cada 2 minutos que puede haber un mega tsunami', 'y si las erupciones del teide y el etna provocan un mega tsunami y morimos todos ahogados? ', '@rtve @rtvenoticias Es curioso que RTVE señale esa información como bulo cuando en La2 se ha emitido un documental contemplando la posibilidad del desprendimiento de parte de la ladera del volcán, provocando un mega tsunami que acabaría con todas las Islas Canarias y que llegaría a América y Europa.', 'Llamarme loco pero YO CREO en la teoría del \"mega-tsunami\" de La Palma que han desarrollado hace varios años. \\n\\nAl igual que creo en que debido a la erupción del volcán de La Palma, puede provocar la erupción del Teide.  \\n\\n(vídeo teoría: https://t.co/HjcidR7Wo5)', 'Estoy cagada con lo del mega tsunami ese en', '@CocoSpecialK Es que vamos a ver, que igual he comido chipirón a la plancha sin necesidad y ésta tarde al parque a dar vergüenza ajena corriendo para que mañana haya un mega tsunami', 'RT @MrTonitas_II: Al parecer no nos vamos a morir de un mega tsunami.\\n\\nAlgo menos de que preocuparme \\U0001f972\\nhttps://t.co/bTAJpoejl0', '@agustin_3910 @involcan Mes explico mejor, ¿alguien ha dicho que parte de isla fuera a desprenderse y provocar un mega tsunami?\\nAhora si puedes hecharte la sista tranquilo.', 'Al parecer no nos vamos a morir de un mega tsunami.\\n\\nAlgo menos de que preocuparme \\U0001f972\\nhttps://t.co/bTAJpoejl0', 'Por si no teníamos bastante con el meteorito, ahora un mega tsunami originado en el volcán de La Palma 🤦\\u200d♂️ https://t.co/DC3R9xJJW2', 'He visto un vídeo sobre el volcán de La Palma, erupciones violentas, el desprendimiento de una ladera y un mega tsunami y me he puesto enferma.', 'En vez hablar del odio y las miserias del país, empezar hablar del posible mega tsunami que está previsto desde principios del siglo XX por el #VolcandeLaPalma Huelva y Cádiz deberían de estar siendo avisadas de lo que se les viene encima', '@MarjoCamya @GuerreraMeryMer También puede haber un MEGA terremoto en Los Ángeles que creen un Tsunami que llegue hasta aquí. También lo vi en YouTube', '@ArwenES25 @Musicolorista De que sea provocado es una cosa distinta y se sabe que son capaces de todo pero de que ya uno sabia que el volcan iba a erupsionar ya eso se sabía como también se sabe que si sigue temblando la Palma y se fractura provocará un mega tsunami que destruirá costa este de USA,etc', '@BalbontinCas Yo estoy ya sacando los billetes, a ver si me pilla la lava maravillosa y el mega tsunami que dicen que viene después.. Manda 🥚🥚🤦\\u200d♀️', '@jairogonzalez0 Nos hemos salvado de algo muchísimo más serio y más importante que el COVID-19 y es nada más y nada menos del mega Tsunami que iba a provocar el volcán cumbre vieja en la isla de la palma,España pero ya se ha dicho que no habrá ningún Tsunami por la erupción del volcán', 'RT @Dama_Tarot: SE IRÁ A HACER REALIDAD LO DEL MEGA TSUNAMI PRODUCTO DE LOS POSIBLES DESLIZAMIENTOS DE TERRENO CON LA ERUPCIÓN DE #LaPalma', '@fIashcardona lo siguiente es el Mega Tsunami  pero eso solo seria si se derrumba la isla', 'La erupción de La Palma resucita la teoría del \"mega-tsunami\": por qué no es posible https://t.co/r3vnrSnjIh', 'RT @elespanolcom: La erupción de La Palma resucita la teoría del \"mega-tsunami\": por qué no es posible, en @Ciencia_EE https://t.co/scsDTds', 'Con esto de los volcanes se está viendo lo manipulable, infantil y cagona que es la sociedad. Desde las teorías del mega-Tsunami hasta la erupción ahora del Etna, que sin tener ni idea diría que es un volcán que se activa varias veces al año.', '@Q_delmo Así es y así será, si no para el volcán, según expertos, estará un mes aproximadamente en erupciones continuas y ésas grietas y fisuras en la montaña, son las que podrán originar el desprendimiento de la montaña y posterior mega tsunami.⚠️⚠️\\nSaludos 🧙\\u200d♂️', 'RT @larazon_es: Volcán de La Palma | Expertos marroquíes descartan un mega-tsunami en sus costas por la erupción de La Palma ➡ Algunas pred', 'Se abre una novena boca y desmienten el mega tsunami https://t.co/977sDmOl2l', 'Volcán de La Palma | Expertos marroquíes descartan un mega-tsunami en sus costas por la erupción de La Palma ➡ Algunas predicciones catastrofistas se atribuyen a escenarios más a “hollywoodienses” que a la realidad. Por @jmzuloaga  https://t.co/T1V4ZC94XV', 'Ioana diciéndome ayer de ir a Canarias\\nTiktok hoy: pues el volcán de la Palma puede crear un mega-tsunami que lo destruya todo', 'Esto es un documental de 2012, que ya especulaba con la erupción de Cumbre Vieja en La Palma y la posibilidad de crear un mega tsunami.\\n\\nYa es lo que le faltaba al gobierno social comunista, también cargarse medio mundo.\\n\\n#miedo https://t.co/iaVrfd3R8q', 'estoy leyendo que unos cientificos hace una decada aprox avisaron del peligro del vocan de La Palma, que es capaz de generar un mega-tsunami que destruyese todo Canarias y podria llegar con mucho peligro a USA. LMAOOOO', '@Venusinaa2 La fuerza de la naturaleza no la pueden controlar, hace años he visto vídeos de que los volcanes de Canarias provocarán un mega tsunami que arrasará con la costa de USA', '@mergallego De momento falla en lo de la velocidad. La lava se desliza lentamente provocando que el río de lava se ensanche retrasando su encuentro con el mar. No creo que produzca ningún mega tsunami. \\nY hasta aquí mi aportación como vulcanólogo tuitero pre-fesional, que no pro-fesional. ', 'RT @ElolassoG: Solo nos faltaría un mega tsunami destructor para el 2021', 'Venderé las historias de mis sueños a #Hollywood Que buenas movies pueden sacar\\nEl último fue un mega tsunami en #Honduras   ', '@Fatimaplata_ag Ese volcán representaba peligro para la República Dominicana  debido al Tsunami que iba a causar hasta que se desmintió esa teoria del mega Tsunami que causaría el volcán por derrumbe pues República Dominicana y el resto del caribe están fuera de peligro', '@Akratamondo Que se derrumbe el cerro es muy posible, que llegue un mega-tsunami a América no me cuadra.\\nIgual no soy experto.', 'Tmbn mi vecino el paniqueador de los afligidos cuando hizo terremoto y todos en la manzana estaban afuera de sus casas y el diciendoles que iba a venir un mega tsunami, que nos íbamos a ahogar y que el gobierno lo oculta, asustando viejitas y paniqueando más a gente ya paniqueada https://t.co/SLHM5cAJnQ', 'SE IRÁ A HACER REALIDAD LO DEL MEGA TSUNAMI PRODUCTO DE LOS POSIBLES DESLIZAMIENTOS DE TERRENO CON LA ERUPCIÓN DE #LaPalma QUE TANTO PRONOSTICABAN LOS ESTUDIOS? https://t.co/u4LQrkpiAc', 'Mientras, al otro lado del Atlántico, cerca de donde viene el polvo desértico y nacen los huracanes, no llegará el Mega tsunami pero, ¿nos caerá algo de azufre? https://t.co/nvm70Edc4x', 'La erupción de La Palma resucita la teoría del \"mega-tsunami\": por qué no es posible https://t.co/w0tvt4lZfo a través de @elespanolcom', 'RT @alvi7_VK: La verdad es que me da bastante miedo que hace una semana subiese un vídeo a tiktok hablando de la teoría del mega-tsunami de', 'Al final al 2021 le queda un poquito de performance todavía. Pandemia, filomena, incendios, asalto al Capitolio, erupción volcánica y como traca final... MEGA TSUNAMI!!! https://t.co/zUpPyuWtxM', 'Flipando con lo de que el volcán de La Palma pueda desencadenar en un Mega tsunami que arrase a todas las Islas Canarias  la Atlántida 2', 'Los chinos ya no saben que hacer para que emigremos allí. Ahora le ha dado por tirar la mitad de la isla de La Palma al mar para crear un mega Tsunami.', '@VargasNilka @99999mdkgl11 Tranquila bella da igual y me alegra saber que por lo menos estás bien Acá también estamos pendiente de lo que pasa en la Palma porque muchos no saben que si sigue temblando esto provocaría un mega Tsunami si la isla parte y se hunde que llegaría hasta la costa este de  USA, etc', '@europapress Pues el ilustre colegio de geologos, debería cerrar el chiringuito, porque como volcán provoque desplazamientos de tierra, Nose si un mega tsunami, pero si de un tsunami estaremos hablando. Tiempo al tiempo!', ' Hipótesis de lo que ocurriría con el volcán de La Palma:\\n\\n1º terremotos\\n2º salidas de lava\\n3º terremotos\\n4º nuevas salidas de lava\\n5º ruptura de la isla\\n6º caída al mar del terreno\\n7º mega tsunami\\nhttps://t.co/twfoAoyoab', '@cfariasvega Y tsunami tampoco? Quitando lo de mega...', 'La gente acojonada por lo de Palma y flipando por un mega tsunami. Yo por el grupo de la familia: https://t.co/YbXxya7XZq', 'yo al enterarme de q por la erupción de la Palma puede haber un mega-tsunami. https://t.co/mhn44cwNwR', '¿Y si El VOLCAN de LA PALMA causa un MEGA TSUNAMI? https://t.co/7w4TkMWjyD a través de @YouTube apoyemos al baul sus videos siempre son muy interesantes', 'Recuerdo muy bien que vi un reportaje parecido hace muchos años: la erupción en La Palma puede ocasionar un mega tsunami que barerría con toda la costa atlántica tras caer parte de la isla al océano  https://t.co/GGza0Dcwa7', 'RT @BobbyLeeInTN: La Palma Volcano Tsunami\\n\\nFearing the future - Mega Tsunami - BBC https://t.co/uwgkNZOVp5', 'RT @KaTetmx: Nuevamente les tengo que comentar que el rumor de un mega tsunami para #Brasil  #Caribe y #EstadosUnidos  NO TIENE SUSTENTO AC', 'De 2017... Ya esto me empieza a dar miedo https://t.co/l0Y1Kic8EY', '@UnnaTuitera Lunes del susto del domingo por la erupción del volcán cumbre vieja en la isla de la palma ,España,que el volcán representaba peligro para brasil,islas del caribe y Estados Unidos por un mega Tsunami hasta que se desmintió esa teoria pues ya estamos tranquilos por ahora', 'Nuevamente les tengo que comentar que el rumor de un mega tsunami para #Brasil  #Caribe y #EstadosUnidos  NO TIENE SUSTENTO ACTUALMENTE porfavor vean este video si tienen más dudas! \\nhttps://t.co/LyJoZOjt6Y', '@luisabinader @QuiqueAntun Por suerte se desmintió esa teoria del mega Tsunami que provocaría el volcán cumbre vieja y ahora estamos a salvo del Tsunami similar al de la película 2012 pero si pasara el peligro real ,bueno la isla quedaría desierta tanto RD como Haití quedarían desierta', 'RT @Eurolazaro: Hace tiempo leí estas teorías apocalípticas. Menos mal que se descartan:\\n\\nLa erupción de La Palma resucita la teoría del \"m', 'Hace tiempo leí estas teorías apocalípticas. Menos mal que se descartan:\\n\\nLa erupción de La Palma resucita la teoría del \"mega-tsunami\": por qué no es posible https://t.co/YU6TlWLSgy', '@Cacharrero_M Están en Polideportivos\\nEsta mañana se decía la posibilidad de un mega-tsunami.\\nAfortunadamente es un BULO.', 'RT @elespanolcom: La erupción de La Palma resucita la teoría del \"mega-tsunami\": por qué no es posible, en @Ciencia_EE https://t.co/ssRNFWb', '@Soulfulhouse69 @soyazul1926 Esto es de 2017\\n\\nhttps://t.co/jBPr4mJF6Z', 'La erupción de La Palma resucita la teoría del \"mega-tsunami\": por qué no es posible https://t.co/tO2TnGgW1a', '@condesatv1 @luisabinader Yo estoy más atento a un peligro muy serio que tiene que ver con el volcán cumbre vieja en la isla de la palma que el volcán representaba peligro para la República Dominicana por el desprendimiento de tierra y un mega Tsunami pero esa teoría se ha desmentido pues se salvó el país', 'La erupción de La Palma resucita la teoría del \"mega-tsunami\": por qué no es posible, en @Ciencia_EE https://t.co/ssRNFWbLMr', '@Piazza_Paya2 Primero las damas que esten buenas entran a mexico por favor se viene el mega tsunami de gente', '@agrolastre Venga y visite el Apocalipsis!!\\nEl mes que viene en Canarias disfrute de un tsunami y en noviembre invasión extraterrestre\\nY luego dice la mega hiper plus ultra derecha que el gobierno no sabe llamar al turismo que tanto se necesita en estas tierras...en fin ', 'RT @adamonzon: No, no va a ocurrir un mega-tsunami con las erupciones de fisura del volcán La Palma/Cumbre Vieja  Siga Instituto Volcanoló', '¿Y si El VOLCAN de LA PALMA causa un MEGA TSUNAMI? \\n@RupturaQuantica @Seito_Petit \\nhttps://t.co/kFmEpNi7DG', '@Eurusspain @gari_frias @rosa130955 @EsterRubio2 Yo me arriesgaría si en vez de la momia son estos ilum8nados, los de la manifestación del sábado y amiguitos varios. Ofrendas al Dios volcán. Claro que igual se enfada y acaba explotando más y es cuando viene el mega tsunami después!!! Pero yo asumiría el riesgo, menuda limpieza!', 'RT @vickaelmer: @rimbaudarth Hace ya 21 años, un reportaje especial de la BBC, llamado Mega-tsunami: La ola de la destrucción, y en base a', 'Porque un volcán en España, en específico en la isla de la Palma, le interesa a Guatemala?\\n\\nPues que te diré, por la teoría del Mega Tsunami que tienen los científicos, de despertarse a toda su capacidad, y que afectaría medio mundo. https://t.co/tlU1wT3Q0M', '@DianeCohn68 “Retroceder para avanzar mejor”.\\nCon el levantamiento de restricciones se podría justificar una nueva Ola, quizá mega Ola, hasta tsunami ', 'La erupción de La Palma resucita la teoría del \"mega-tsunami\": por qué no es posible https://t.co/kibknAEhQr', 'RT @toybendecio: @Memes_Historia Isla de Thera: *desaparece del mapa tras una erupción y un mega tsunami*\\n\\nMinoicos: -- ------ -- -----, --', '@quinnannette Dos primos míos bien ahí en Canarias, y están relajados y acá  en Panamá y el mundo preocupándose por un mega tsunami que no va a suceder, porque fue una erupcion volcánica normal. Puro sensacionalismo,. Y allá están relajados. 🤣\\u200d♂️🤦\\u200d♂️🤷\\u200d♂️', 'La erupción de La Palma resucita la teoría del \"mega-tsunami\": por qué no es posible https://t.co/InC6DeIDIN', 'Yo anoche después de haberme visto el documental sensacionalista del mega-tsunami provocado por un posible desprendimiento de la ladera de La Palma tras incipiente actividad volcánica. https://t.co/CmMqw5MPXJ', 'No, la erupción volcánica en La Palma en Islas Canarias NO va a causar ningún tsunami.\\n\\nhttps://t.co/12EgdlSOig', 'RT @CarlosAmicareli: El mega tsunami', 'La erupción de La Palma resucita la teoría del \"mega-tsunami\": por qué no es posible, en @Ciencia_EE https://t.co/scsDTdsrXi', '@iradialberto ¿Qué pasaría si la ciudad de Nueva York fuera golpeada por un mega tsunami de La Palma?\\nhttps://t.co/wk0nPm6fL7', 'RT @2013_caracas: @sunave2014 @dejanirasilveir Es terrible pero lo que hay que rezar es en realidad por algo mucho peor que la erupcion del', '@KaTetmx https://t.co/04k3Y56wAa “La amenaza de generación de mega tsunamis por colapso de estratovolcanes de islas oceánicas ha sido muy exagerada.\\xa0No se pueden esperar mega tsunamis \"', 'Cumbre Vieja Erupts as Predicted by Billy Meier\\n\\nhttps://t.co/8cToX35fEU\\nhttps://t.co/E94zl8q9q8\\n\\nLa Palma Mega https://t.co/fIgkSYR2Bd\\nhttps://t.co/gWiTVOaJY1 https://t.co/LhTdMqV10S', 'La teoría del mega tsunami de La Palma \\u200d♀️\\n\\nhttps://t.co/q4LCVieZCk', 'me hace gracia porque los españoles estamos más o menos tranquilos con el volcán de la palma pero los estadounidenses están cagados porque hay una teoría de un mega tsunami que arrasaría su costa', '#volcánCumbre #Brasil #Tsunami #España #Alerta #Noticias #Dalealplay #LaPalma ALERTA EN BRASIL POR MEGA TSUNAMI TRAS ERUPCIÓN DEL VOLCÁN CUMBRE VIEJA ... https://t.co/hxWcE1T0au a través de @YouTube', '@Tonicanto1 Ya verá el espectáculo cuando se desprenda la cordillera y produzca un mega tsunami.', 'RT @daN1Kah: @RealSeasonNT1 Si te dicen unos años que va a ver una pandemia mundial y que vas a estar meses encerrado en casa, piensas que', '@l_colino Pues cuidado. A ver si va a borrar del mapa a NY y miami.\\n\\nhttps://t.co/WOfWfb9wcV', 'RT @antonio_yague: Nadie relaciona la erupción volcánica en la isla de La Palma y el estudio sobre un posible mega-tsunami atlántico asocia', 'El mega tsunami https://t.co/ImWXpQW1SO', 'Y aquí el desmentido del mega tsunami.\\nhttps://t.co/vzj3OFdq63', 'Nadie relaciona la erupción volcánica en la isla de La Palma y el estudio sobre un posible mega-tsunami atlántico asociado con la 2ª trompeta del Apocalipsis. En este libro lo escribí hace ya 20 años https://t.co/WF8xgPN8Er', 'Ojalá pase los del mega tsunami que inunde los eeuu', 'La verdad es que me da bastante miedo que hace una semana subiese un vídeo a tiktok hablando de la teoría del mega-tsunami de La Palma y al día siguiente empezara el enjambre sísmico que ha terminado provocando la erupción del volcán en La Palma ', '@Memes_Historia Isla de Thera: *desaparece del mapa tras una erupción y un mega tsunami*\\n\\nMinoicos: -- ------ -- -----, -- ------ -- ----- --- --------', 'La Vanguardia - DIRECTO | Erupción del Volcán en La Palma + ngomar200 - La Palma Mega Tsunami (1) + (2) https://t.co/l7PpaUtVLN  via @rsmuseum', '@RealSeasonNT1 Si te dicen unos años que va a ver una pandemia mundial y que vas a estar meses encerrado en casa, piensas que es ciencia ficción, las lluvias torrenciales, los huracanes, el atleti campeon de liga..\\nNo descartes un mega Tsunami acompañado de extraterrestres y un cometa', 'El mega tsunami de Cumbre Vieja. https://t.co/c4Gp38HWvz', 'Madre mía, en EEUU están todo paranoicos con un mega tsunami si se desprende media isla de La Palma, perdonad mi ignorancia pero ..es eso posible?🧐', '@Ultra_Calls Mega-Tsunami-escape-jet?', 'flipo con el tweet la verdad jajajaja es en plan \"pobres que lo están pasando mal pero imagina que mal lo pasaríamos nosotros SI UN MEGA TSUNAMI VINIERA Y NOS MATARA en conclusión pobrecitos nosotros mucho más que los que están sufriendo la erupción\"', 'La Palma https://t.co/bgAOy9WDZU', 'el volcán  a palma puede provocar un mega tsunami y hacer mierda todo\\n\\nel verdadero meme de los domino https://t.co/ftWW1w9c0o', 'RT @carminapher: @tibujose Ay no. Un mega tsunami...\\nNo estoy preparada psicológicamente para un evento así.', '@tibujose Ay no. Un mega tsunami...\\nNo estoy preparada psicológicamente para un evento así.', '@RealSeasonNT1 @dhu84 Pues el vulcanólogo dice que ocurrirá seguro, lo que no saben es cuándo exactamente. Aunque creo que se refería al volcán principal de la isla. Si ese derrumba la mitad occidental de isla, son muchos km^3 de materiales que caerían al mar provocando el mega tsunami.', 'RT @Mamonqueen1: Pero va a haber mega tsunami o no \\n???', 'La Palma Volcano Tsunami\\n\\nFearing the future - Mega Tsunami - BBC https://t.co/uwgkNZOVp5', 'RT @sixtofernando94: @ChaacTlaloc Puede pasar esto o no es la misma isla que puede generar un mega tsunami por deslizamiento de tierra? \\nht', 'Pero va a haber mega tsunami o no \\n??? https://t.co/q6JpEzfQtr', '@RealSeasonNT1 Está desmentida, ni en el peor escenario, moviéndose 80 km cúbicos de agua produciría ese mega  tsunami mencionado.', 'Váyanse alv, hace no mucho vi un video de qué pasaría si el volcán de la Palma hacía erupción, la consecuencia sería un mega tsunami y justamente voy leyendo que hizo erupción.', '@NanPokzyBo Aquí un pequeño video de hace algunos años https://t.co/DCRsOw0B90 también hay un programa/documental de discovery, pero ya no lo encuentro', 'Hay una teoría de un mega tsunami que se formaría por una erupción en cumbre vieja, dicho tsunami afectaría a todas las costas de América justo donde hoy hay una erupción', 'RT @Aladiestra1: @MichaelJohnDDD @Dianasc47344743 @HaroldMontoya1 @bivillamizar @CNarcoestado @Kattybcn @PaolaHolguin @MariaFdaCabal @Marga', 'hola, por qué nadie está hablando de la erupción del volcán de La Palma? Si se desprende la isla habrá un mega tsunami ((::::', 'RT @jjcespedes68: De los creadores de \"el letal virus\", nos llega \"mega tsunami\". 🤨', 'De los creadores de \"el letal virus\", nos llega \"mega tsunami\". 🤨 https://t.co/v2aDecvl24', 'RT @DR_Guerrero20: Alerta ante Erupción del #volcán #CumbreVieja en #LaPalma, #España #VolcanLaPalma #volcanCumbreVieja \\nATENCION: Si se de', '@Carlos_lantigua @JeanSuriel @JohnMoralesNBC6 @Osirisdleon Hasta donde he leído, existe la creencia de que si en algún momento el volcán que se encuentra en las islas Canaria si llegara a explotar  una parte de la isla entraría en el océano y crearía un mega tsunami', 'Pues les recuerdo\\nQue los documentales del próximo mega tsunami  se refieren a la explosión del cumbre vieja \\nY pues hoy hizo erupción \\nVeremos Que dicen geólogos y vulcanologos \\nPróximos días.', 'No, no va a ocurrir un mega-tsunami con las erupciones de fisura del volcán La Palma/Cumbre Vieja  Siga Instituto Volcanológico de Canarias @involcan \\n\\nLea este artículo: https://t.co/VUjP88eRwa', '@Isis_alada Y con el potencial de provocar un mega tsunami en todo el atlántico', '2020: Pandemia mundial por Covid.\\n\\n2021: Erupciona el Volcan Cumbre Vieja en Las Palmas y posible mega Tsunami.\\n\\nYo voy ya comprando cervecitas para los extraterrestes del 2022... https://t.co/3mY5BqROuc', '@quinnannette Solo ocurre un mega tsunami cuando pasa un terremoto 8.5 grados o más mi querida tía annet', 'RT @kristianbob: @Alastxr ESTO NO ES BUENO SUPUESTAMENTE ESO PUEDE CAUSAR UN DERRUMBE QUE CAUSE UN MEGA TSUNAMI EN EL ATLÁNTICO ALA!! https', '@Alastxr ESTO NO ES BUENO SUPUESTAMENTE ESO PUEDE CAUSAR UN DERRUMBE QUE CAUSE UN MEGA TSUNAMI EN EL ATLÁNTICO ALA!! https://t.co/SkquhGCX23', '@OldPeugeot Un documental del 2005 mostraba cuatro posibles eventos catastróficos y un fin de mundo, uno era una Pandemia con origen en China, otro era un mega tsunami por una erupción en la Palma. Nos falta el meteorito en Berlín y el cagazo de un experimento.', '@anmich_fur_z Si se materializa según las predicciones, en la costa asturiana llegarán olas de 30-40 metros en escasas horas...  \\nhttps://t.co/2Nx8Orm6tC', ' Tsunami de rebajas #Amazon \\n\\nESS Logo Leggings - Mallas Deporte Mujer \\n\\n Mega descuento del 31% \\n\\n Precio desde 17,31 EUR\\n\\n Enlace: https://t.co/BJXt2G4NiX \\n\\n https://t.co/hlhMPzAZbu https://t.co/Y60t6eHPeI', '@Yumivigo pero es sobretodo porque ha reventado JUSTO, JUUUUUSSSTOOOOOOO en la zona de la isla que medio planeta lleva controlando por posible derrumbe desde hace más de 20 años porque afectaría a TODO el atlántico, mira el video y alucina si esto llega a ocurrir xD https://t.co/fBFHI1BXP2', 'La Vanguardia - DIRECTO | Erupción del Volcán en La Palma + ngomar200 - La Palma Mega Tsunami (1) + (2) https://t.co/l7PpaUtVLN via @rsmuseum', 'RT @RodRettig: A propósito de La Palma, se estudia hace décadas un posible mega tsunami q se produce por enormes deslizamientos de tierra q', '@CharlyBY2 Una pregunta te enteraste de la erupción del volcán cumbre vieja,el volcán que nos amenaza con un posible desprendimiento de tierra y un mega Tsunami para brasil,el caribe y Estados Unidos,entonces ya estamos en peligro de muerte por el posible futuro cercano mega Tsunami', '@condesatv1 Bueno ya a toda la población Dominicana nos quedan meses de vida porque el volcán que nos amenaza ya acaba de entrar en erupción,el volcán cumbre vieja en la isla de la palma,España que amenaza con un desprendimiento de tierra y mega Tsunami a brasil,el caribe y Estados Unidos', '@ZoraidaRosas2 Pues será varios días, semanas o unos meses Pero rezo para que no tiemble más fuerte qué ese es el peligro si se rompe la isla y se hunde que provocaría un mega tsunami que destrozaria las islas del Caribe, costa de América del Sur, costa este de USA y costa Africana y Península', 'A propósito de La Palma, se estudia hace décadas un posible mega tsunami q se produce por enormes deslizamientos de tierra que caen a océanos o lagos, como el más grande registrado, el de de Bahía Lituya en Alaska (1958) que generó una ola de más de 500 metros. https://t.co/6qoLiFbJgv', 'Una vez vi un documental del súper mega tsunami que se produciría si se partiera una isla en las #Canarias', 'Para los que estáis preguntando qué viene después del COVID, Filomena y la erupción del volcán en La Palma: el mega tsunami.\\nhttps://t.co/2b9OxD0sXF', 'Se habla de posible mega #tsunami \\nAmanecerá y veremos. https://t.co/j7XZQNVKiZ', 'Donde\\n\\nDonde esta el mega tsunami', '@ChaacTlaloc Puede pasar esto o no es la misma isla que puede generar un mega tsunami por deslizamiento de tierra? \\nhttps://t.co/LWb60rcoUg', '@javitrmpt Que vaaaa es super hiper mega improbable, además de que se tiene que caer en la dirección *exacta* para que se produzca tal tsunami, y además los modelos más recientes auguran que la ola se debelitaría mucho más de lo previsto así que ntr', '@navedelmisterio \\n#lapalma  #volcano  \\n\\n    Algunos alarman innecesariamente con un mega tsunami  que arrasaría la ciudades de la costa atlántica. https://t.co/FWPexxYNxr', 'Joder que miedo me ha dado la teoría esa del mega tsunami en Gran Canaria.', '@GiuIianoDMedici Ya huele a mega tsunami', 'RT @Anonymous_24Hrs: URGENTE: hace Erupción volcán en las Palmas. Ante una erupción mayor podría causar un mega tsunami que podría afectar', '@sunave2014 @dejanirasilveir Si han seguido las noticias desde que se han producido el enjambre sísmico desde el 11/9 lo que nos preocupa es que la isla se divida y su hundimiento provoque el mega tsunami que lleva años del la cual ya experto USA han ganado y a lo que le temen', 'RT @elenaedl_: lo que más me toca las narices de lo de la palma son los americanos llorando porque dicen que les va a llegar un mega tsunam', '@sunave2014 @dejanirasilveir Es terrible pero lo que hay que rezar es en realidad por algo mucho peor que la erupcion del volcan que lo grave de la isla bonita es que si tiembla más fuerte provocaría un mega TSUNAMI que destrozaria las islas del caribe, costa este de USA y costa de África y Península Europea', 'RT @pedrojosecama: Volcán La Palma. PEVOLCA descarta q erupción d Cumbre Vieja genere 1 mega tsunami q llegue a EEUU. \"No hay datos q sopor', 'Volcán La Palma. PEVOLCA descarta q erupción d Cumbre Vieja genere 1 mega tsunami q llegue a EEUU. \"No hay datos q soporten esta hipótesis, y carec d base científ contrast\". Base científica: Todo volcán d rápid crecim (como Cumbre Vieja) es candid inminente d aludes d tierra. https://t.co/ukpJo9IBds', 'Reino Unido, Marruecos y EE.UU entre otros, iros despidiendo. Se viene mega tsunami. https://t.co/CLGzCOgaOc', 'Solo nos faltaría un mega tsunami destructor para el 2021 https://t.co/etPfTd9NOo', 'La Isla de La Palma, donde está ese volcan  si es el del documental del mega tsunami gente u.u https://t.co/uS57Ae7ye4', 'lo que más me toca las narices de lo de la palma son los americanos llorando porque dicen que les va a llegar un mega tsunami, mira ojalá, cállense ya pesados no son el centro de atención ahora', 'El mega tsunami de la palma está a 3 días de suceder', '@FranciPortero @niporwifi Esto es una teoría que se está manejando basado en los estudios geológicos sobre el área que formó la Caldera de Taburiente en la que una parte de la ladera occidental de la misma colapsó y cayó al océano y provocó un mega tsunami que arrasó con la Costa Este de EEUU y Canadá.', '29/08/21\\n\\nPREDICCIÓN DE MEGA TSUNAMI CANARIAS NUEVA YORK\\n\\nhttps://t.co/G7RGKd5RNW', 'Directio La Palma erectio. Mega tsunami \\n\\nhttps://t.co/K9rCBItqXv', '@neregp94 Y si se desprende media isla y provoca un mega tsunami que arrace con todo, no lo celebraré, pero sería algo impresionante \\u200d♂️ que lo admire quien pueda iitele', '@navedelmisterio ahora que está pasando lo del volcán de la Palma sería buen momento para hablar del mega tsunami que podría producir un desprendimiento de parte de la Palma, que se está estudiando.', 'Alerta ante Erupción del #volcán #CumbreVieja en #LaPalma, #España #VolcanLaPalma #volcanCumbreVieja \\nATENCION: Si se desprende parte del volcán hacia el mar podría producir un Mega-tsunami \\nhttps://t.co/o1m9YrH5ID', '@rimbaudarth Hace ya 21 años, un reportaje especial de la BBC, llamado Mega-tsunami: La ola de la destrucción, y en base a la última erupción de 1949, predecían que la nueva erupción del Volcán Cumbre Vieja de La Palma iba a ser devastador.\\nhttps://t.co/FOjrBNuoYY', 'He visto las noticias del Estado de alerta en #NY por #Tsunami por el volcán de la Palma y he pensado \"americanos\", luego leo esto y ya lo entiendo todo\\nApocalyptic mile-high MEGA-TSUNAMI ‘to wipe out US THIS WEEK – blind mystic predicts’ https://t.co/yEpao6S32g', '¿Se viene el megatsunami? https://t.co/5CdHPvPKQg', 'Amiguitos, si viven en la costa este de America, Florida, Caribe y golfo de México mantengan atención en el volcan de la palma. Hay una teoría qué dice que un pedazo de la isla potencialmente pudiese desprenderse y crear un mega tsunami.\\nhttps://t.co/BOWt6xKGMY', 'Estaría feo un mega tsunami que se cargue medio mundo así de gratis la verdad', 'El tan temido por por todos, Mega tsunami de La Palma.\\nEsperemos que no sea esta vez.\\n\\nhttps://t.co/a2KlazLXV5', 'Algunos brasileños preocupados por un muy hipotético tsunami de #CumbreVieja cuando covid ha matado en Brasil como 10 mega tsunamis habría hecho. Hipócritas, que dejen a Canarias tranquila.', '@Metalneux Que pete fuerte y cree un mega tsunami que arrase nueva york 🤞', 'El fact de que la erupción de la palma puede provocar un mega tsunami me tiene un poco acojonado la vd', '@SIN24Horas Esta es la isla que dijeron en el documental del 2011 se rompería y provocaría un mega tsunami que afectaría América. Busquenlo, está en YouTube ese documental.', 'Il vulcano Cumbre Vieja e la teoria (smentita) del “mega tsunami” https://t.co/jjdsvV4dTR', '@scarLpezGarca3 Hostias, es el de la Palma el del posible mega tsunami,  nos cargamos a los yanquis al menos a los de la costa este adiós  neoyorquinos ', '@scarLpezGarca3 Bestial ya te dije, creo que no es ese para el mega tsunami,  pero no lo tengo claro en este momento', '@sipr0rdelta_01 Se hace un mega tsunami de proporción bíblica y ahí sí hasta el malecón de Veracruz se lo lleva la chinita hilaria.', '@Wartanera12 Pues hace varios años (más de 15), vi un documental de volcanes (o de tsunamis), que hablaba de un volcán de una isla canaria, que si volviera a entrar en erupción, se desprendería media isla (o un cacho) y se haría un mega Tsunami que arrasaria media costa este de USA', 'Mega tsunami generato dal vulcano Cumbre Vieja? Allarme reale ma esagerato https://t.co/7iCXwVi5Tz', 'O sea creo q es súper poco probable q un mega tsunami afecte a Estados Unidos pero q se jodan q estén ahí tensos un rato', '@sanchezcastejon Yo creo que no vas a EEUU porque sabes que se va producir el mega tsunami ese', '@metmex https://t.co/LWb60rcoUg me recuerda a este vídeo del posible deslizamiento de la parte de la isla hacia el mar y que provocaría un mega tsunami', 'RT @Asturika1: Vídeo explicativo de la teoría del mega-tsunami de La Palma https://t.co/hkrfFsN6CJ a través de @laprovincia_es', 'RT @m4ryc0n4: me meti en un directo estadounidense de lo de la palma y los yankees estan cagados por lo del mega-tsunami', 'me meti en un directo estadounidense de lo de la palma y los yankees estan cagados por lo del mega-tsunami', '@jotta_naate E Fake a noticia de que pode haber mega tsunami', 'RT @Anonymous_24Hrs: Imágenes que circulan en  twitter que desde La Palma se está dando la separación de un bloque gigante de tierra, que s', '@fabriziohno Nos salvamos del mega-tsunami', 'Volcán de Canarias: ¿Podría la erupción causar deslizamientos de tierra y mega-tsunami? [ENG] -  https://t.co/V5WgnCdpHN', 'Imágenes que circulan en  twitter que desde La Palma se está dando la separación de un bloque gigante de tierra, que se dirije a la costa, de ser cierto podría darse un Mega desprendimiento que produciría un Tsunami que afectaría el Atlántico de América. https://t.co/tqIfiPi3ff', 'Que peligro... esta isla, según dicen; hay una gran porción de terreno, que tiene la tendencia a desprenderse hacia el mar y luego darle paso a un mega tsunami.', 'Le volcan Cambre Vieja (Canaries) entré en éruption. Un mega tsunami redouté .\\nhttps://t.co/vC79ntBIbi', 'Teoría de un Mega tsunami que pudiera estar provocado por la erupción volcánica en la isla de la Palma, olas de 1000 pies de altura que hundirían parte de la costa este americana. https://t.co/OliLECjgiO', 'Me ha venido a la cabeza el documental que vi hace unos años sobre una erupción en #LaPalma que provoca el colapso de parte de la isla y un mega tsunami ', 'No me puedo ni imaginar el como se quedarían la Gomera y el Hierro si ocurriera el mega tsunami es que se irían a la mas absoluta mierda', '@Voltair1321 Está por caerse un trozo de la isla, y si eso ocurre pues se haría un mega tsunami que hundiría las demás islas y llegaría a la costa este de usa y a UK también llegaría. Y el volcán erupciono hace horas. Esperando a ver que ocurre', 'La isla de La Palma ha entrado en erupción. ¿habrá un deslizamiento masivo como hace 500.000 años?\\n\\nhttps://t.co/5OQmH696Qz', 'Va a ocurrir un mega tsunami \\u200d♂️\\u200d♂️\\u200d♂️\\u200d♂️\\u200d♂️\\u200d♂️\\u200d♂️ yo no miro a nadie, mar y con el último', 'Si ocurre el mega tsunami que al menos no llegue a la parte oeste de Tenerife que si no la palmo', '@Agenda2030_ 🤣 yo sí lo pillé, solo te faltó añadir que creará un mega-tsunami en el mediterráneo', '@itineratur ¿Peligro de desprenderse y mega tsunami o es muy aventurado todavía?', '@danitomeison @mati_bertolotti @Josebianco10 Todos con miedo por mega tsunami, pero solo va ser show. Parravicini y la biblia hablan del meteorito que cae en el caribe y ese si producira el tsunami.', '-Pero a mí, lo q más expectante me tiene... A pesar de q Involcan desmontara la hipótesis en 2017, es q el enjambre sísmico de La Palma, acabe confirmando los estudios sobre el mega tsunami sobre las costas de EEUU.\\nhttps://t.co/1XcVN9rcGt\\n-Ya hace 3 años https://t.co/e2lSxdbYXf https://t.co/jIFRaJYofh https://t.co/WuBSMj590g', '@WxNB_ Un risque un mega-tsunami ?!?!?', 'Los riesgos del mega volcán Cumbre Vieja\\nhttps://t.co/vrOZnDxb74 https://t.co/SquqAWto4g', 'RT @NatxoMadariaga: ▶️Si cae la ladera del volcán en la Isla de La Palma, hay gran riesgo de un mega Tsunami que podía arrasar la ciudad de', 'Que no me entere yo de que todavía no os ha llegado por WhatsApp el video del mega tsunami que puede venir después de la erupción de la Palma.', 'RT @SebdeCast: Me levanto de la siesta y La Palma está a punto de provocar el mega tsunami que afectará la costa este de EEUU.', 'Me levanto de la siesta y La Palma está a punto de provocar el mega tsunami que afectará la costa este de EEUU.', 'Al ver la noticia de la erupción volcánica en La Palma, me acuerdo de este preocupante artículo \\n\\n\"Canary Islands volcano: Could eruption cause landslide and mega-tsunami?\" , via @nzherald https://t.co/nYLNTbOiHD', 'No sé si ir sacando los manguitos...por si el mega tsunami...', '@Ireneskyworld imagino que no quieren alertar innecesariamente a la población, pero créeme que están super pendiente de eso cientos de países xD y EEUU COMO NO hizo hace años un par de películas sobre el tema y se mencionó en un capítulo del CSI xD si quieres saber más: https://t.co/LNUgUqDwct', 'Espera, esta erupción de #LaPalma podría generar el MEGA-Tsunami que se ha estado pronosticando por años. Aniquilando toda la EAST Coast de EEUU.\\n\\nhttps://t.co/Y0NEexIAK2 https://t.co/MBnZoY4ulr', 'URGENTE: hace Erupción volcán en las Palmas. Ante una erupción mayor podría causar un mega tsunami que podría afectar a toda la costa del atlántica de toda América', '@TutuDominguez Si colapsa una pared de la isla y genera un mega tsunami ya no lo van a disfrutar tanto', 'Que miedo con este volcán. Recordar la ladera inestable de la isla que si se desliza genera un mega tsunami devastador en América https://t.co/nk7Sh1JBCU', 'Vídeo explicativo de la teoría del mega-tsunami de La Palma https://t.co/hkrfFsN6CJ a través de @laprovincia_es', '@OFFTHET4BLE si pero si la cosa se pone grave la erupcion puede generar un mega tsunami que afecte a toda la costa este de todo el continente americano y a mas lugares del mundo', 'En alguna parte leí que si hay derrumbe hacia el mar, provocaría un mega tsunami... https://t.co/vdOdKFqgC1', 'RT @iWSTAR: De la isla española La Palma en el Océano Atlántico. Los científicos calculan que una erupción del volcán Cumbre Vieja podría d', 'Lo que dije puede provocar un mega tsunami y acabar con la paate este de América https://t.co/TCUDQzpL6F', 'De la isla española La Palma en el Océano Atlántico. Los científicos calculan que una erupción del volcán Cumbre Vieja podría derramar unos 500 mil millones de toneladas de tierra y rocas al mar. “Ésa sería la fuente de un mega-tsunami hasta ahora inédito en la nueva era...', 'RT @Dr_Explosions: Ojalà mega-tsunami', 'Ojalà mega-tsunami https://t.co/FZ3BMDR5ZB', 'En un documental te explican el mega tsunami de la Palma ', '@danitomeison Te lei hace tiempo, que si llega a explotar generaria un tsunami que llegaria a america latina? Eso seria una super mega explosion, por la distancia', 'La gente diciendo que si hay una erupción de La Palma habrá un mega tsunami, de verdad cuantas veces tienen que salir a desmentir eso los expertos ? Que pesaditos son', '@Odolhartz I receive: media isla de la palma.\\nYou receive: mega-tsunami devastando la costa este de USA.', 'RT @dxtnpaco: @yolanday_y ¿Has visto este vídeo de una simulación sobre La Palma?\\nhttps://t.co/X6eah77WXv\\nEste es más gore: https://t.co/fu', '@yolanday_y ¿Has visto este vídeo de una simulación sobre La Palma?\\nhttps://t.co/X6eah77WXv\\nEste es más gore: https://t.co/fuS9do3t1g\\nA pasar un buen día.', '@Diego19zgz @Carlapedrianes Si hay erupción se cae la mitad de la isla al mar produciendo un mega tsunami..', 'Respecto a sensacionalismos catastrofistas, ciencia. Porqué es altamente improbable un mega tsunami, aún produciéndose un deslizamiento de tierras en el Cumbre Vieja de #lapalma \\n\\nhttps://t.co/oEIra2Tp8T', '@CNIntel El tema del mega-tsunami es una falacia que nació en un documental de la BBC.\\nHasta el ayuntamiento de NY se dejó inicialmente engañar, hubo un alcalde que encargó un estudio al respecto y descubrió el engaño.\\nAdemás de los numerosos estudios de otros científicos europeos, claro.', '@Kurotoshiroo Wow, la predicción del famoso mega-tsunami de la costa este de USA se vuelve realidad?', 'Mega tsunami \\nVolcán cumbre vieja\\nhttps://t.co/ncHnvgQRCZ', 'Jujuju, como haga erupción fuerte a tomar por culo el trozo izquierda de la isla y mega tsunami que destruye toda la costa este de Estados Unidos https://t.co/3Vnp1xJimC', 'RT @ita_dc: Conclusión importante:\\nEl comité científico se ha pronunciado también respecto a un posible gran derrumbe del flanco oeste de C', '@informativost5 Teniendo en cuenta la fiabilidad de vuestras noticias y lo que os mola meter miedo, creo que la posibilidad de erupción o de mega-tsunami es cercana a 0.', '@GabrielDaedhel BIEEEEEL!!!!!!!! Muchísimas felicidades maldita sea que cerquita tenemos los cumples y nunca me acuerdo AAAAAAA  Pásalo súper mega geniaaal &gt;3&lt; 🥺 un besito corasonnnn https://t.co/TRDwtHArv4', '@LnaThunderstorm Estaba pensando en la teoría del mega tsunami', '@diiegolb No, lo que existen son americanos a los que piensan que les va a llegar un mega-tsunami ', 'RT @ExoPlanetascom: El comité científico de PEVOLCAN sobre el posible gran derrumbe del flanco oeste de Cumbre Vieja y la formación de un m', '@VolcansCanarias @CabLaPalma @112canarias @Marianohzapata Lo del mega tsunami lo leí en un artículo del periódico español ABC, incluso dicen que en 2018 la ciudad de New York asignó recursos y personal para observar  de cerca la evolución del volcán. Victor dice que es un bulo de la BBC 🤷\\u200d♀️', '▶️Si cae la ladera del volcán en la Isla de La Palma, hay gran riesgo de un mega Tsunami que podía arrasar la ciudad de Nueva York, con ello parte de la costa este de USA.  @doctorgaona @laura_madrueno #Tsunami #LaPalma #volcanCumbreVieja \\n\\nhttps://t.co/XDqCblqj5V', 'Que la Palma pete y haya un mega tsunami que arrase florida sería una forma curiosa de acabar 2021 https://t.co/vOQQI4h7ae', 'Pensando en la teoría de hace muchísimos años de que si La Palma entrara en erupción mandaría un mega tsunami a USA', 'RT @duque_chamberi: @iescolar El mega tsunami está por llegar https://t.co/CCvQqCJ5z4', 'El comité científico de PEVOLCAN sobre el posible gran derrumbe del flanco oeste de Cumbre Vieja y la formación de un mega tsunami, resaltando que \"no hay datos que soporten esta hipótesis y que carece de base científica contrastada\" https://t.co/zaQl1riGik', 'Conclusión importante:\\nEl comité científico se ha pronunciado también respecto a un posible gran derrumbe del flanco oeste de Cumbre Vieja y mega tsunami \\nNo hay datos que soporten esta hipótesis y que carece de base científica contrastada.\\nhttps://t.co/Lq5gInKZ2L', 'RT @ExoPlanetascom: Nuevo vídeo:  Enjambre de terremotos en LA PALMA ¿Debemos temer un Mega Tsunami como contó la BBC?  Pues va ser que NO', 'El volcán #CumbreVieja de entrar en erupción podría causar un mega tsunami que viajaría a 800 km/h afectando ciudades en todo el Atlántico. https://t.co/8fALo0OAvN', '@iescolar El mega tsunami está por llegar https://t.co/CCvQqCJ5z4', '@Profeta_Baruc La Palma se está echando una carrera con Yellowstone.\\nhttps://t.co/D0w9fXYK1j', 'RT @jucelinoluz: Cumbre Vieja Volcano – Mega Tsunami may hit Brazil , Caribbean , USA in the near future Urgent\\xa0! https://t.co/0FYxFp9DnA', 'Pensar que hay quienes aplicaron un mega puente desde el miércoles hasta el lunes... #MesPatrio #chale', 'Cumbre Vieja Volcano – Mega Tsunami may hit Brazil , Caribbean , USA in the near future Urgent\\xa0! https://t.co/0FYxFp9DnA', 'Cumbre Vieja Volcano – Mega Tsunami may hit Brazil , Caribbean , USA in the near future Urgent\\xa0! https://t.co/n4oSpJ5fgM', 'Volcán Cumbre Vieja – Mega Tsunami puede golpear Brasil, Caribe, Estados Unidos en un futuro próximo\\xa0¡Urgente! https://t.co/MHdiuO8zsZ', 'RT @GearHauglir: @melaniemirandah Pero para que se liara un mega tsunami la erupción tendría que ser extremadamente violenta...y dudo que e', '@melaniemirandah Pero para que se liara un mega tsunami la erupción tendría que ser extremadamente violenta...y dudo que eso suceda', '@GearHauglir Si el problema es si se inicia actividad volcánica porque lo de el mega tsunami del que hablan los medios americanos es algo bastante improbable porque no sucede o suele como fenómeno único', 'RT @CHERYASMON: #LaPalma Volcano #Mega Tsunami #LatesUpdate -\\n #TheWeatherMan Plus Weathe... https://t.co/k5QCLwV735 via @YouTube', '#LaPalma Volcano #Mega Tsunami #LatesUpdate -\\n #TheWeatherMan Plus Weathe... https://t.co/k5QCLwV735 via @YouTube', '@victorioperezm @unahoramenostv @RTVCes Ahora mi preocupación es la siguiente: y si pasa lo que venden muchos expertos del corrimiento de tierra que provocaría ese mega Tsunami, ¿como afectaría eso a las islas en el caso que fuera cierto?', '¿Un mega Tsunami que destruya la costa este useña?', '@diariodeavisos Madre del amor Hermoso,en la Palma no hay volcanes piroclasticos y la falla que hay no es lo suficientemente profunda para que la isla se parta y genere un mega tsunami!!', 'Yo flipo con los norte americanos y brasileños aprovechando los pequeños sismos y probabilidad de erupción en La Palma para crear noticias falsas sobre ese supuesto mega tsunami que ocurriría si la isla se partiera, cosa que ningún ser leyendo este tuit vivirá para contar🤣🤣', '@eldiarioes Me ha hecho recordar un documental que vi sobre Cumbre Vieja y el mega tsunami que provocaría si se desprendiese parte al mar.', '@Lolimariaus Un mega tsunami que llegaria a NY, la costa este de USA y las islas del caribe y acá también que estamos cerca del mar', '@Lolimariaus Si el Teide es un volcan bella y justo ahora estamos preocupados por lo que está pasando de la isla de la palma que hay en enjambre sísmico y probabilidad de acción volcánica y Rezar para que no se rompa la isla y se hunda porque traería graves consecuencias como un mega tsunami', 'RT @JMGBautista: El mega-tsunami que podría generarse en España y arrasar la costa americana\\nhttps://t.co/bokjHCeGD3', 'RT @FragolinaDivina: Me acaban de mandar un trozo de un documental que pusieron en la 2 hace un tiempo donde hablan de un posible megatsuna', 'Si tu predicción se cumple y pasa el megatsunami te tomará en serio todo el mundo, pues el gobierno de Canarias y un grupo de científicos ha desmentido esa teoría por ser carente de fundamento https://t.co/cJqeJEIJwh', 'RT @Finanzas_Times:  España | #Canarias | #LaPalma | #Volcán | #CumbreVieja\\n\\nEl cono del volcán de La Palma se ha roto produciendo una en', 'Me acaban de mandar un trozo de un documental que pusieron en la 2 hace un tiempo donde hablan de un posible megatsunami que se originaría con la erupción del volcán de La Palma y que arrasaría medio mundo,no he podido subirlo entero,dios quiera que las predicciones no se cumplan https://t.co/bXlwRkTf26', ' España | #Canarias | #LaPalma | #Volcán | #CumbreVieja\\n\\nEl cono del volcán de La Palma se ha roto produciendo una enorme colada que va en dirección al mar.\\n\\nTambién se han desprendido los primeros trozos de la ladera #Tsunami #MegaTsunami factible. https://t.co/St5Ttd5QSl', 'No hay un peligro inminente de derrumbe del volcán #CumbreVieja en #IslaDeLaPalma con posterior megatsunami que inunde el este de norteamérica, la lava sale muy fluida. #DécadaSismoVolcánica\\nhttps://t.co/7dRxCrXiN3', 'RT @FMontecruz: Vamos a ver...veo tuits de algunas personas que hablan de la teoría del megatsunami. La situación ya es bastante terrible c', 'RT @Finanzas_Times: Cuando la ladera del volcán se desprenda y se hunda en el mar, una ola de 900 metros de altura devastará algunas partes', 'Se viene derrumbe del volcán y megatsunami que acabe con el mundo?????', '@delvallerubi Yo desde el 11S en que tiraron mis adoradas torres gemelas, ya solo espero el meteorito y el megatsunami. Eso sí, que caiga en China o Rusia a ser posible. No hay más! ☄️', 'RT @rtve: NO hay riesgo de megatsunami en La Palma por la erupción volcánica. Es un BULO. \\nAutoridades y expertos lo desmienten al equipo d', \"RT @telediario_tve: El bulo viral sobre el 'megatsunami' por la erupción en La Palma https://t.co/cYLgIZTdQQ\", 'RT @dlang57500: #Canaries : le #volcan Cumbre Vieja en #éruption\\nhttps://t.co/M35PimMybt', 'Leí hace un tiempo y está confirmado por la comunidad vulcanologíca...q una explosión muy grande de uno de ellos volcanes de las Islas Canarias..podría desembocar el colapso de una d las paredes al océano..causando un megatsunami en las Costas de América..no es el caso del actual https://t.co/754CqB6gxI https://t.co/s5ARAvMN9u', '@pepraid @LaDamadNoche Exacto  para que preocuparse. Si es cierto lo del megatsunami solo unos pocos se librarán, así que prefiero vivir mi vida sin preocuparme 🤷\\u200d♀️', '@LahitteCarlos Ojo con el megatsunami de las canarias. Cual es la necesidad de estas puestas en escena? Es algo reiterado en todos estos movimientos identitarios. Fascismo 2.0', 'RT @Respuestasveg4n: Sobre la teoría del #megatsunami por ruptura de #CumbreVieja en #LaPalma. Esperemos que no ocurra nunca...\\n\\nSi no es p', 'RT @SharyTorres5: Ese volcán  que esta en la isla la palma está  feo.Hace años leí  que podría pasar un megatsunami si el volcán hacía  eru', 'Parece que lo del #megatsunami en #CumbreVieja de #LaPalma es una teoría demasiado improbable.\\n\\nhttps://t.co/cO0DnkUx74 https://t.co/EVoSQuTojP', 'O también: \\nhttps://t.co/0jE6h8DWOJ\\nO\\nhttps://t.co/9sSGl7YolD', '@anadelliafonte @Matxistometro @Loretoarego Cuidado con esos zascas, no vaya a derrumbarse el volcan de La Palma, y tengamos el megatsunami de los conspiranoicos.', 'RT @fnmoraleda: La Patiño \"seria\":\\n¿Corremos peligro por la lluvia ácida?\\nMeteoróloga: El porcentaje de concentración es muy bajo\\n- ¿y por', 'RT @ECatastroficos: Ninguná hipótesis es descartable. No sería la primera vez que los científicos se equivocan en la valoración de riesgos.', 'RT @ClimamexBC: La isla de la Palma en las Islas Canarias, tiene una gran falla geológica en su centro, esta la recorre de norte a sur, la', '@drpavito1 @AmoalaUD Por esa regla de tres, habría que desalojar Nápoles por si acaso,o todas las islas y nueva York por si se desprende un cacho de isla y produce un megatsunami', 'RT @asalmendez: ¡ No patricio ! \\n\\nActualmente no hay evidencia geológica sustancial para pensar que la cara occidental de la isla de #LaPal', 'RT @255Cpc: #FenomenosTn qué hay de verdad en la posibilidad de un megatsunami en caso de un colapso de la isla sobre el océano Atlántico?', 'La histora del megatsunami de La Palma? Estamos fumando qué?', '@moebius32 @moedetriana Realmente si hay 2 vulcanólogos apoyando esta teoría del megatsunami. No hay un tiempo exacto ni por mucho. Supongo que para no causar pánico no hablan Más de ello. Pero si hay estudios. Y lo han refutado con que es estable. Pero no me he encontrado con uno que diga al 100%.', '#FenomenosTn qué hay de verdad en la posibilidad de un megatsunami en caso de un colapso de la isla sobre el océano Atlántico?', 'Ninguná hipótesis es descartable. No sería la primera vez que los científicos se equivocan en la valoración de riesgos. Por ello, debes garantizar tu propia seguridad y no depender del gran \"papá Estado\". #preparacionismo #megatsunami #volcanCumbreVieja #LaPalma #MochilaDe72horas https://t.co/srgjukdNup', '#LaPalma Bill McGuire, el del artículo del megatsunami ha dado su opinión\\n\\nhttps://t.co/OXlQLgSbFH', '@aleja_mar2 @FernanzIsabel1 @Ll0r3nt3 @kimber24251440 @darkatyz @involcan De megatsunami no, pero expertos ya están diciendo que es probable un deslizamiento de tierra, la falla está muy debil', '@IvaannMGN @ochodiasdeoro Vi el documental entero. Y hay, en el mismo, teorías que suavizan las del megatsunami. Pero tú eres el experto, ilústranos. Que va a pasar?', '@FernanzIsabel1 @Ll0r3nt3 @kimber24251440 @darkatyz @involcan Documentarte un poco: No hay riesgo de megatsunami en La Palma por la erupción, es un bulo https://t.co/VKsfj2Y1gT', '@natpanda4 Me llama la atención que desde el año 2000 se predijera un “colapso de la isla en una futura erupción” lo del megatsunami ya no me meto https://t.co/JbvAKVfAbF', 'RT @eltorotv: No, el volcán de La Palma no va a provocar un megatsunami que arrase Nueva York\\n\\n#eltorotv #lapalma #tsunami #nuevayork https', '¡ No patricio ! \\n\\nActualmente no hay evidencia geológica sustancial para pensar que la cara occidental de la isla de #LaPalma se pueda deslizar al océano y crear un #megatsunami que barrería con todas las costas del Atlántico Norte, creando el peor destre natural de la historia. https://t.co/tj42OjOSu9', 'RT @NonNobis10:  #Megatsunami | #Tsunami ⚠️\\n\\n#Canarias #CumbreVieja #Megatsunami #Volcán #LaPalma #Spain \\n\\n#YoTeAvisé \\n\\nTelegram:\\n@espi', 'La Patiño \"seria\":\\n¿Corremos peligro por la lluvia ácida?\\nMeteoróloga: El porcentaje de concentración es muy bajo\\n- ¿y por la nube tóxica?\\n- es muy leve\\n- ¿y por el megatsunami?\\n- esa teoría es una gilipollez\\n- ¿todavía oyes a los corderos chillar Clarice?', 'RT @_AlbeRMS_: Que hablen del megatsunami como opción mínimamente probable demuestra lo poquito que se han informado sobre el tema #EnElPun', 'Que hablen del megatsunami como opción mínimamente probable demuestra lo poquito que se han informado sobre el tema #EnElPuntoDeMira', 'RT @puntodemira_tv: Elena González, vulcanóloga, sobre la teoría del megatsunami provocado por el volcán: \"Es exagerada\"\\n\\n #PuntoLaPalma h', 'Elena González, vulcanóloga, sobre la teoría del megatsunami provocado por el volcán: \"Es exagerada\"\\n\\n #PuntoLaPalma https://t.co/a3qScJM55U https://t.co/I18YMnzzo3', \"'Otros expertos no son tan optimistas (...) megatsunami que devastaría todo (...) ¿podríamos estar ante una desastre natural de consecuencias inimaginables?'.\", 'RT @Respuestasveg4n: Segunda parte del vídeo.\\n#CumbreVieja #LaPalma #volcan #España #megatsunami https://t.co/gnYF9tXqRu', ' No es exactamente lo del vídeo, pero se le empieza a parecer... \\n#megatsunami #volcan #CumbreVieja #LaPalma https://t.co/m6Cgudfx9X', ' #Megatsunami | #Tsunami ⚠️\\n\\nCuando la ladera del volcán se desprenda y se hunda en el mar, una ola de 900 metros de altura devastará algunas partes del norte de África y Europa, en menos de 24 horas monstruosas olas llegarán a América y el Caribe\\n\\nhttps://t.co/ssippfpkL1', \"Yo me acuerdo de cuando se nos decía que el Covid-19 serían 2 o 3 casos aislados. Con el Volcan de La Palma dicen que es imposible que haya un 'megatsunami'... En los dos casos no se alarma a la población...¿Nos estarán ocultando algo? \", 'Por qué no hay riesgo de que el volcán de La Palma genere un ‘megatsunami’ https://t.co/zwmVeaHnas', '@capitanbolano No pasará nada. https://t.co/2smNLj4sZL', ' #Megatsunami | #Tsunami ⚠️\\n\\n#Canarias #CumbreVieja #Megatsunami #Volcán #LaPalma #Spain \\n\\n#YoTeAvisé \\n\\nTelegram:\\n@espiritutemplario\\n\\n#Dios #Jesucristo #Templario \\n\\n\"Pensaron enterrarnos sin saber que éramos semilla\". https://t.co/KSDf6f3KNK', 'RT @UrretaJorge: Por qué no hay riesgo de que el volcán de La Palma genere un ‘megatsunami’ https://t.co/giJ5DIIG3p vía @maldita', 'Por qué no hay riesgo de que el volcán de La Palma genere un ‘megatsunami’ https://t.co/giJ5DIIG3p vía @maldita', 'Vamos a ver...veo tuits de algunas personas que hablan de la teoría del megatsunami. La situación ya es bastante terrible como para aumentar el nerviosismo en #LaPalma El megatsunami NO VA A SUCEDER, para eso se tiene que desprender media isla. Vale ya de gilipolladas.', 'RT @navedelmisterio: Dos investigadores alertaron en 2001 sobre el riesgo del megatsunami que supondría una erupción volcánica en La Palma', '@beluque60 En la sexta ya están valorando posibles deslizamientos o hundimientos del terreno que es básicamente lo que el estudio del Megatsunami alertaba. Hay que prepararse para lo peor. ', 'RT @ElHuffPost: La mayoría de expertos refutan la investigación de 2001 que habla de olas que destrozarían Canarias y que llegarían a Estad', 'Megatsunami Scenario - La Palma Landslide https://t.co/6vjtqpeM6V a través de @YouTube', '¿Qué pasaría si un megatsunami golpeara la costa este de Estados Unidos? https://t.co/wpESz897Jh a través de @YouTube', '@TokuDeka Yo espero que al volcán no se le ocurra hacer algo que no quiero mencionar por no llamar a la mala suerte, pero que sería lo más devastador que podría hacer (y no, no me refiero al megatsunami).', 'RT @canarias7: El Instituto Volcanológico de Canarias desmonta la teoría lanzada hace años y que ha revivido con el enjambre sísmico de los', 'RT @AlertaCambio: Los expertos son contundentes: la probabilidad de que se genere un megatsunami por las erupciones de #CumbreVieja es «cie', 'RT @Yankas: ¿Se aproxima un devastador megatsunami que arrase las Islas Canarias y parte de la costa española, además de Nueva \\n\\nYork? Por', '¿Se aproxima un devastador megatsunami que arrase las Islas Canarias y parte de la costa española, además de Nueva \\n\\nYork? Por Luys Coleto\\n\\nhttps://t.co/kqi7IW2tBp a través de @CorreodeEspana', 'No, el volcán de La Palma no va a provocar un megatsunami que arrase Nueva York\\n\\n#eltorotv #lapalma #tsunami #nuevayork https://t.co/sFO1oyh0Lj', 'Los expertos descartan un megatsunami provocado por el volcán de La Palma | Público  https://t.co/xdJb4gkAuF', 'Sabían uds que siel cumbre vieja\\n(Laspalmas) se derrumba crearia un megatsunami cspaz de destruir todas las costas del atlantico?\\nQue tengan buen dia...', 'Polémica: ¿Megatsunami SI o\\xa0NO? https://t.co/EB9feNS8EU', 'Polémica: ¿Megatsunami SI o\\xa0NO? https://t.co/ssEgZMT8Ie', 'Polémica: ¿Megatsunami SI o\\xa0NO? https://t.co/GGTmQq4S6n', 'Polémica: ¿Megatsunami SI o\\xa0NO? https://t.co/HlE6M2iJev', 'Polémica: ¿Megatsunami SI o\\xa0NO? https://t.co/A7WT1YhuDc', 'Polémica: ¿Megatsunami SI o\\xa0NO? https://t.co/OsvPVngzge', 'Polémica: ¿Megatsunami SI o\\xa0NO? https://t.co/oud7l8T9dq', 'Polémica: ¿Megatsunami SI o\\xa0NO? https://t.co/gLbPVSQq6j', \"La teoría del 'megatsunami' en La Palma si el volcán llega al mar que se ha hecho viral https://t.co/eJ2v2wzqK7\", 'RT @abc_ciencia: No, el volcán de La Palma no va a provocar un megatsunami que arrase Nueva York https://t.co/2EqIgEG08J #Ciencia', 'RT @epmediterraneo: Los científicos arremeten contra el video viral que pronosticaba un megatsunami por el volcán de La Palma https://t.co/', 'RT @ChemaBlancoL: Cuidado con un vídeo que circula en redes sociales y whatsapp sobre la hipótesis de un posible derrumbamiento de la zona', 'Los científicos arremeten contra el video viral que pronosticaba un megatsunami por el volcán de La Palma https://t.co/Hf29X8W3Ge vía @opiniondemalaga', 'RT @20m: Un documental sobre el volcán de La Palma que teorizaba sobre un posible megatsunami se hace viral en Twitter https://t.co/zhup4Lq', 'En el caso de #LaPama, este artículo revisa la posibilidad de que un #megatsunami afectara amplias zonas del #Atlántico.\\n\\nEl peor escenario implica un tamaño de olas bastante menor que el calculado en un conocido artículo publicado previamente en 2001.\\n\\nhttps://t.co/fBXlR3E5mB', 'Esperemos que luego no sea necesario que digan que no se podía saber\\n\\nhttps://t.co/b7OxvlpWPb', 'RT @publico_es: \"Es una posibilidad remota\", aseguran los expertos sobre el supuesto megatsunami que podría provocar el volcán de La Palma', 'RT @isa_aranjuez: RT @navedelmisterio: Dos investigadores alertaron en 2001 sobre el riesgo del megatsunami que supondría una erupción volc', 'RT @lapalmarss: El enjambre sísmico de La Palma resucita la vieja teoría de un megatsunami sobre EEUU por el colapso de un volcán  https:/', '\"Es una posibilidad remota\", aseguran los expertos sobre el supuesto megatsunami que podría provocar el volcán de La Palma que arrasaría Nueva York. https://t.co/jeTLHUCaWT', 'Los científicos tachan de ‘DISPARATE’ la teoría del megatsunami de Cumbre Vieja https://t.co/DwwRkRRuEn', 'Ese volcán  que esta en la isla la palma está  feo.Hace años leí  que podría pasar un megatsunami si el volcán hacía  erupción. En PR. si uno no lee las noticias internacionales en Internet nunca se sabe lo que pasa fuera de estas cuatro paredes.Gracias a la prensa de PR.', 'Vamos a morir por un megatsunami a q esperas para comerme la boca?', '[Viral 🤳] No, el volcán de La Palma no va a provocar un megatsunami que arrase Nueva York https://t.co/jbHVtUQMWI', 'VOLCÁN de LA PALMA: El BULO del MEGATSUNAMI | RTVE Noticias https://t.co/jRjb20PvDL', 'No, el volcán de La Palma no va a provocar un megatsunami que arrase Nueva\\xa0York https://t.co/PPbkORxzHQ', \"RT @rtve: El bulo viral sobre el 'megatsunami' por la erupción en La Palma  https://t.co/LOOxkNPYLT\", 'La vulcanología no es una ciencia exacta.\\n\\nAsí que no estaría mal prepararse para el peor de los escenarios en Cumbre Vieja. \\n\\nMás vale prevenir que lamentar.\\n#megatsunami', '@Oceanicas_IEO @MG_Bal @IEOoceanografia @AtlanticoDiario He leído la entrevista y saco como conclusión que debe tratarse de un malentendido periodístico.\\n\\nO, en todo caso, que en vez de un #tsunami (cpmpletamente plausible inicialmente) se refería a un hipotético #megatsunami.', '@navedelmisterio Ya la BBC dedicó un documental sobre ello que resultó ser un negocio para las aseguradoras. https://t.co/zvsAfOtIPn', \"El bulo viral sobre el 'megatsunami' por la erupción en La Palma  https://t.co/LOOxkNPYLT\", 'RT @jatirado: #TELEVISIÓN #Noticias VOLCÁN de LA PALMA: El BULO del MEGATSUNAMI | RTVE Noticias https://t.co/rxf3EtWULh https://t.co/zAMxa3', 'En Horizonte están hablando de la hipótesis del megatsunami de La Palma. A ver, es improbable pero también lo era una pandemia y mira como estamos', \"El bulo viral sobre el 'megatsunami' por la erupción en La Palma https://t.co/cYLgIZTdQQ\", 'RT @navedelmisterio: Dos investigadores alertaron en 2001 sobre el riesgo del megatsunami que supondría una erupción volcánica en La Palma #Horizonte https://t.co/rrAF7aGO9b', 'Dos investigadores alertaron en 2001 sobre el riesgo del megatsunami que supondría una erupción volcánica en La Palma #Horizonte https://t.co/cKdpHG5ldl', 'Los científicos arremeten contra el video viral que pronosticaba un megatsunami por el volcán de La Palma https://t.co/WHjE05p8VP', 'RT @NoticieroMAD: VOLCÁN de LA PALMA: El BULO del MEGATSUNAMI | RTVE Noticias https://t.co/jpRwrRti70 #TELEVISIÓN #Noticias', 'RT @laprovincia_es: Los científicos arremeten contra el vídeo viral que pronosticaba un megatsunami por el volcán de La Palma https://t.co/', '#TELEVISIÓN #Noticias VOLCÁN de LA PALMA: El BULO del MEGATSUNAMI | RTVE Noticias https://t.co/rxf3EtWULh https://t.co/zAMxa3FV5e', 'VOLCÁN de LA PALMA: El BULO del MEGATSUNAMI | RTVE Noticias https://t.co/jpRwrRti70 #TELEVISIÓN #Noticias', '@May60145806 @Homerocat1 @AntonioMaestre @fammi_ridere @RaholaOficial Esa hipótesis está más que descartada:\\n\\nhttps://t.co/udpIMJ6rX5', 'Los científicos tranquilizan a la población tras resurgir el vídeo viral que pronosticaba un megatsunami en La Palma https://t.co/yoXavoqW96', 'RT @Finanzas_Times: #España #Spain #Canarias #CanaryIslands #CumbreVieja #Volcán #Volcano #Vulcano #Volcão #Megatsunami #Todoque \\n\\nNuevas b', 'RT @levante_emv: Los científicos arremeten contra el video viral que pronosticaba un megatsunami por el volcán de La Palma https://t.co/jn', '@so_ferrari_CARP Sí, igual que en \"Impacto profundo\", en donde un enano con cara de hobbit logra huir de un megatsunami con olas de mil metros en una moto de Rappi. ', 'RT @Ade_OW: Para evitar alarmismo innecesario y bulos, este documental habla sobre una teoría de 2001 que parte de que \"La Palma tiene una', 'Megatsunami, no. Pero ¿un cráter explosivo en La Palma? #Canarias #Desastresnaturales #Naturaleza #España https://t.co/67WWvz55EP', 'Los científicos tranquilizan a la población tras resurgir el vídeo viral que pronosticaba un megatsunami en La Palma https://t.co/33csj5OgR4', 'RT @abc_es: No, el volcán de La Palma no va provocar un megatsunami que arrase Nueva York https://t.co/AIQWyrVuT4', '@Pedrodeveras @rodriguezcoello Te pongo 3 enlaces. Los demás los buscas tú. Pero esa teoría la han dicho todos los medios.\\n\\nhttps://t.co/aEd4f5TlE2\\n\\nhttps://t.co/FRNBhuSlrj\\n\\nhttps://t.co/2pzE24fh2a\\n\\nTambién fue rebatida por el INVOLCAN en 2017\\n\\nhttps://t.co/4r0obEP6Ea', '@Xifel7 @LaDamadNoche Veras la demagogia ES UNA IGNORANCIA PELIGROSA y respecto al Volcan/megatsunami si se SEÑALÓ LA NACIONALIDAD de unos con respecto a otros fue para señalar la UBICACIÓN GEOGRAFICA. Los estudios científicos no se anulan sin otro estudio que lo refute. La nacionalidad no importa.', 'Segunda parte del vídeo.\\n#CumbreVieja #LaPalma #volcan #España #megatsunami https://t.co/gnYF9tXqRu', 'Sobre la teoría del #megatsunami por ruptura de #CumbreVieja en #LaPalma. Esperemos que no ocurra nunca...\\n\\nSi no es por necesidad, no entiendo cómo alguien vive tranquilo al lado de un volcan, en la costa, al lado de un río, encima de una falla tectónica, etc. https://t.co/yBahXVZocM', '@MVTARDE La demagogia de Newtral es UNA IGNORANCIA PELIGROSA respecto al Volcan /megatsunami. Los estudios científicos no se anulan sin otro estudio que lo refute. Y decir que es un bulo, sólo demuestra  una baja educación y amarillismo periodístico.', 'Los científicos arremeten contra el video viral que pronosticaba un megatsunami por el volcán de La Palma https://t.co/mrENRBqNiJ', 'RT @MVTARDE: \"No se crean el \\'clickbait\\' del \\'megatsunami\\'\": por qué no es posible que una ola arrase América desde La Palma por la erupció', 'Los científicos arremeten contra el vídeo viral que pronosticaba un megatsunami por el volcán de La Palma https://t.co/zhOiVr29yA', '\"No se crean el \\'clickbait\\' del \\'megatsunami\\'\": por qué no es posible que una ola arrase América desde La Palma por la erupción del volcán https://t.co/MzFMuWwTR9', 'Los científicos arremeten contra el vídeo viral que pronosticaba un megatsunami por el volcán de La Palma https://t.co/k5oXbDETgh', 'No, el volcán de La Palma no va a provocar un megatsunami que arrase Nueva York  https://t.co/oaPEWygivZ a través de @ABC_Ciencia', 'No, el volcán de La Palma no va a provocar un megatsunami que arrase Nueva York https://t.co/3SIoQYH1hC a través de @ABC_Ciencia', 'Los científicos arremeten contra el video viral que pronosticaba un megatsunami por el volcán de #LaPalma\\nhttps://t.co/lYVi8cYUVK', 'Los científicos arremeten contra el video viral que pronosticaba un megatsunami por el volcán de La Palma https://t.co/jnijgLfHa6', 'No, el volcán de La Palma no va a provocar un megatsunami que arrase Nueva York https://t.co/2EqIgEG08J #Ciencia', 'RT @elmundoes: Pablo G. Silva: \"La teoría del megatsunami fabricó un escenario catastrofista y sirvió para vender más seguros en EEUU\" http', 'RT @UrretaJorge: Por qué no hay riesgo de que el volcán de La Palma genere un ‘megatsunami’ https://t.co/fTfn2EhyZT vía @maldita', 'No, el volcán de La Palma no va provocar un megatsunami que arrase Nueva York https://t.co/YcD8k0tnTD vía @ABC_Ciencia', 'No, el volcán de La Palma no va provocar un megatsunami que arrase Nueva\\xa0York https://t.co/HNzJ3GoIov', 'RT @Finanzas_Times:  #España | #Spain | #Canarias | #CanaryIslands | #LaPalmaErupción | #LaPalmaEruption | #Volcán | #Vulcano | #LaPalma', '[Volcán] No, el volcán de #LaPalma no va provocar un megatsunami que arrase Nueva York https://t.co/NMRrjqnamv', 'RT @jorgerayapons: Megatsunami, no. Pero ¿un cráter explosivo en La Palma?\\n\\nEscribe el Prieto geólogo, que no el periodista (A.K.A. @ADPrie', 'Megatsunami, no. Pero ¿un cráter explosivo en La Palma?\\n\\nEscribe el Prieto geólogo, que no el periodista (A.K.A. @ADPrietoPYC). \\nhttps://t.co/a2kWweLH8x', 'Vosotros os creéis lo del megatsunami ese?', 'No, el volcán de La Palma no va provocar un megatsunami que arrase Nueva\\xa0York https://t.co/2gfIYrZthi', 'RT @CribeoLV: El documental es de 2005, se emitió en La 2 y teorizaba sobre un megatsunami del Cumbre Vieja\\n\\nVarios expertos ya han refutad', 'No, el volcán de La Palma no va provocar un megatsunami que arrase Nueva York https://t.co/miv6qu6R2D via @ABC_Ciencia', 'RT @76antoniojose: Por favor, respuestas a los que las tienen. \\nPor qué no hay riesgo de que el volcán de La Palma genere un ‘megatsunami', 'Empiezo a estar harto de oir hablar del #Megatsunami en rrss.\\n\\nPara que un, ejem, \"documental\" rule por los whatsapps y demás, tiene que ser un Apocalypse Now de manual, claro. \\n\\nQuedan miles de años para que La Palma pueda colapsar, si es que alguna vez lo hace.', '@Finanzas_Times Te he seguido desde el principio y haz acertado prácticamente todo, incluso lo de cisne negro, el cual ya muchos lo mencionan por el tema de evergrande y por el posible megatsunami causado por el volcán de la palma. Siga siempre así ', 'Megatsunami La Palma: la ola que podría arrasar la ciudad de Nueva York https://t.co/gxkM9Ady2O vía @ABC_Canarias', 'No, el volcán de La Palma no va provocar un megatsunami que arrase Nueva York https://t.co/83PplahzIa vía @ABC_Ciencia', 'RT @elespanolcom: #Análisis | Megatsunami, no. Pero ¿un cráter explosivo en La Palma? Por Carlos Prieto\\nhttps://t.co/9XGZPamv0t https://t.c', 'No, el volcán de La Palma no va provocar un megatsunami que arrase Nueva York https://t.co/AIQWyrVuT4', 'No, el volcán de La Palma no va provocar un megatsunami que arrase Nueva York https://t.co/JdYij3ApTq https://t.co/XN45iyI4cp', 'RT @cjimenezcruz: Por qué no hay riesgo de que el volcán de La Palma genere un ‘megatsunami’ \\n\\nDe lo más viral en las últimas 24 horas\\nhttp', 'Yo es que me descojono ante tantísima estupidez  hoy no salgo a la calle, porque el miedo al megatsunami es atroz \\nhttps://t.co/aZdPx6HbaB', 'No, el volcán de La Palma no va provocar un megatsunami que arrase Nueva York https://t.co/d8tLG0GJxJ via @ABC_Ciencia', 'Un #ABP esperando encontrar dueño.  @eneko_fc @martagutipe @PabloMartinPi \\n No, el volcán de La Palma no va provocar un megatsunami que arrase Nueva York https://t.co/fxtHpfhQpf a través de @ABC_Ciencia', 'Cuidado con un vídeo que circula en redes sociales y whatsapp sobre la hipótesis de un posible derrumbamiento de la zona de Cumbre Vieja en La Palma y un megatsunami\\n\\nEs un bulo con intereses económicos, según Involcan. No lo difundas ni contribuyas al miedo\\n\\n#StopBulos', '#Análisis | Megatsunami, no. Pero ¿un cráter explosivo en La Palma? Por Carlos Prieto\\nhttps://t.co/9XGZPamv0t https://t.co/CVBwAve63F', 'Por favor, respuestas a los que las tienen. \\nPor qué no hay riesgo de que el volcán de La Palma genere un ‘megatsunami’ https://t.co/tUZQ59Lf3l', 'No, el volcán de La Palma no va provocar un megatsunami que arrase Nueva York https://t.co/VHHmKTdU0T vía @ABC_Ciencia', 'RT @Finanzas_Times: Aumenta la intensidad de las explosiones y con ello el riesgo de #Tsunami #Megatsunami', 'RT @elespanolcom: Megatsunami, no. Pero ¿un cráter explosivo en La Palma? https://t.co/ukaAXhsRPi', 'https://t.co/aqvk8agSCr Ciencia No, el volcán de La Palma no va provocar un megatsunami que arrase Nueva York https://t.co/Jl3xqV5EXh Hace tres años, Nueva York incluyó en su agenda de riesgo de fenómenos naturales la posibilidad de la llegada de un megatsunami procedente de l https://t.co/8t3bPkil6r', 'RT @PeterPank_: ¿Qué os viene mejor, meteorito o megatsunami?', 'La posibilidad de un megatsunami por las erupciones de Cumbre Vieja es «científicamente imposible» https://t.co/HsJqDJTTuX via @RTVCes', '\"..como las Canarias son islas y son volcánicas, la imaginación ha llegado a elucubrar incluso con tsunamis y grandes explosiones. ¿Es posible lo primero? ¿Habrá más de las segundas?..\"\\n\\nEl geólogo Carlos Prieto es mi viejo, y hoy escribe en @elespanolcom https://t.co/816tVrCuyr', 'No, el volcán de La Palma no va provocar un megatsunami que arrase Nueva York https://t.co/j94VdEyyOK @abc_es https://t.co/ACP3XuoZQa', 'No, el volcán de La Palma no va provocar un megatsunami que arrase Nueva\\xa0York https://t.co/SkHYlEg145', 'No, el volcán de La Palma no va provocar un megatsunami que arrase Nueva York By Carlos Gill Ramirez https://t.co/2uCHlEeGsU', 'RT @Sefuelix: Una vez que los medios han descubierto la teoría del megatsunami que se originaría por la erupción en Las Palmas (y otras cir', 'Una vez que los medios han descubierto la teoría del megatsunami que se originaría por la erupción en Las Palmas (y otras circunstancias que no han ocurrido), es de esperar un bombardeo de previsiones apocalípticas. Este hilo aborda el asunto con sensatez https://t.co/DhIDyHoEs6', 'Es que los Estadosunidenses son unos dramas.\\n\\nhttps://t.co/lkyqfRXDZD', 'Voces del Misterio ESPECIAL: El peligro de megatsunami del Cumbre Vieja\\nhttps://t.co/hM0OMlSF5I', 'Voces del Misterio ESPECIAL: El peligro de megatsunami del Cumbre Vieja\\nhttps://t.co/PrHKqvDYkO', 'Voces del Misterio ESPECIAL: El peligro de megatsunami del Cumbre Vieja\\nhttps://t.co/GOekQTmjw4', 'Por qué no hay riesgo de que el volcán de La Palma genere un ‘megatsunami’ https://t.co/fTfn2EhyZT vía @maldita', 'Por qué no hay riesgo de que el volcán de La Palma genere un ‘megatsunami’ \\n\\nDe lo más viral en las últimas 24 horas\\nhttps://t.co/6xnsjF65nk', '#España #Spain #Canarias #CanaryIslands #CumbreVieja #Volcán #Volcano #Vulcano #Volcão #Megatsunami #Todoque \\n\\nNuevas bocas eruptivas se están activando posibilitando la teoría del #Tsunami https://t.co/Wari88U7cQ', 'Megatsunami, no. Pero ¿un cráter explosivo en La Palma? https://t.co/ukaAXhsRPi', 'La posibilidad de un megatsunami por las erupciones de Cumbre Vieja es «científicamente imposible»\\n#VolcanLaPalma\\nhttps://t.co/dbF7NVkSxS', 'RT @Finanzas_Times: La Red Sísmica de #Canarias está registrando un fuerte incremento en la amplitud del temblor volcánico en las últimas h', 'Megatsunami, no. Pero ¿un cráter explosivo en La Palma? https://t.co/uwNNu9FpA3', '#Megatsunami \\n#CumbreVieja \\nNostradamus destacó que “veremos el agua subir y a la tierra derrumbarse bajo ella” \\n\\n“El rey cubrirá los bosques, el cielo se abrirá y los campos serán quemados por el calor”\\n\\n🤨', 'Un documental sobre el volcán de La Palma que teorizaba sobre un posible megatsunami se hace viral en Twitter https://t.co/zhup4LqVn1', 'Los expertos son contundentes: la probabilidad de que se genere un megatsunami por las erupciones de #CumbreVieja es «científicamente imposible»\\n\\nVia @RTVCes https://t.co/ENCVJRoSk3', 'RT @aandest: @moedetriana Es muy improbable que ocurra. Esta teoría ha sido desmentida varias veces. \\nhttps://t.co/QuJWOJzA76', 'Y yo canto crazy, sexy, cool mientras viene un mega tsunami https://t.co/kZlG9h0Isd', '@Bracesco2021 bueno estoy a 14mts sobre el nivel del mar en mardel..pregunta  si hay mega tsunami en la costa este de EEUU.. ¿a cuantos metros llega la olita por aca?..digo asi evaluo si subir unos pisos o prepara el coche rumbo a tandil...creo que zafo.. me quedo en planta baja..', 'https://t.co/APQItDqKoi interesante y espeluznante documental de National Geographic del 2005 donde habla de la posibilidad de un mega tsunami si se desplomara la ladera de Cumbre Vieja de La Palma', 'Desde el principio de la pandemia todo es tan irreal que siento que estoy durmiendo y me voy a despertar en cualquier momento. En serio ahora alerta de mega tsunami?', 'RT @Arachnofool: @AugeAabye \\nAsí sería el Mega tsunami causado por el volcán. Puede que la erupción pierda fuerza en estos días, pero el ev', '@AugeAabye \\nAsí sería el Mega tsunami causado por el volcán. Puede que la erupción pierda fuerza en estos días, pero el eventual desenlace parece inevitable \\nhttps://t.co/AVFMB2ykKK', 'RT @Milhaud: Cumbre Vieja no va a fracturarse y crear un mega-tsunami. En @involcan han explicado la situación actual de la investigación s', '@GROOTTV_ Hace muchos años vi un documental que hablaban de cumbre vieja y se podia dar la posibilidad de un mega tsunami,pero que se tenian que dar ciertas circunstancias, documental del Discovery. O incluso en youtube seguro tambn te sale.', 'Cumbre Vieja no va a fracturarse y crear un mega-tsunami. En @involcan han explicado la situación actual de la investigación sobre la hipótesis lanzada más de dos décadas. https://t.co/EJnK2ez734', '\"Toda la verdad sobre el posible mega tsunami que ‘amenaza’ tras la erupción del volcán de La Palma\"\\n\\nhttps://t.co/0b7xJ7lceD\\n\\n.', 'Hoy youtube me recomendó un documental de National Geographic sobre el volcán ese que está haciendo erupción en España y como hay un riesgo de que cause un mega tsunami que mataría a millones de personas\\n\\nE', 'El volcán cumbre Vieja (el que lleva 11 días dejando la grande), Es el mismo cumbre vieja que vi por años en los documentales de TVN, discovery e history que es capaz de causar un mega tsunami por desprendimiento de tierra? ', 'El volcán cumbre Vieja, el que lleva  11 días dejando la grande , Es el mismo cumbre vieja que vi por años en los documentales de TVN, discovery e history que es capaz de causar un mega tsunami por desprendimiento de tierra? ', '@CalderonJosan \"No va a haber mega tsunami...serán 3 ó 4 olas aisladas, como mucho...\"', '@46Ninja Justo eso miraba en la mañana y además un mega tsunami que no saben cómo afectará pero todo por mucha actividad en el mar con sismos de 4 a 7 grados 🥺', '@vitocodk El que hizo esto es el mismo que hizo el documental del mega tsunami', '@PedriCalvo @CuentaMister Si sigue así la zona sur (creo) de la isla podría desprenderse así que no es tan improbable, nose si ha dejado de sacar lava pero si aún sigue hay peligro de un mega tsunami', 'URGENTE \\n\\nVolcan Cumbre Vieja en La Palma podria desatar MEGA TSUNAMI en los proximos días.\\n\\n#CumbreVieja #LaPalma #IslasCanarias #volcan\\n\\nhttps://t.co/VlmG5iycQv', 'URGENTE \\n\\nVolcan Cumbre Vieja en La Palma podria desatar MEGA TSUNAMI en los proximos días.\\n\\n#CumbreVieja #LaPalma #IslasCanarias #volcan\\n\\nhttps://t.co/VlmG5iycQv', '@el_pais Unos científicos en un documental prevén un desprendimiento de una parte de la isla provocando un megá tsunami. ¿Ocurrirá?', 'Documental sobre posible mega tsunami tras la erupción que ya ocurrió.\\nLo importante es qué pasaría en Nueva York. Brasil y otros países del lado Atlántico sudamericano, kesejodan.\\nAcierten, físicos.\\nVolcán La Palma en National Geographic 2005 https://t.co/UOztMW81c5 vía @YouTube', '@1_begoa Más cerca tenemos el mega tsunami, si se desprende 1 roca tocho de La Palma. \\nAunque no sé si se puede decir, porque = alguien se alarma y la liamos. De momento, nos estamos ahorrando la campaña de actuación correcta en caso de tsunami.', 'El mega tsunami https://t.co/Bwve0Ve4bF https://t.co/Kv9F49WNbN', 'RT @SoyMmadrigal: Si algún científico quiere estudiar la vinculación entre primates y humanos solo tiene que leer el hilo de  /LPMTG/ La Pa', 'RT @ClarCatala: A Espejo Público no tenen vergonya. Com ara ja ha arribat la lava al mar, de que parlar? \\nEs posible que la isla se parta', 'A Espejo Público no tenen vergonya. Com ara ja ha arribat la lava al mar, de que parlar? \\nEs posible que la isla se parta y se hunda y provoque un mega tsunami que afectaria a America Central y los Estados Unidos? \\nSensacionalisme pur i cap respecte pels que ho han perdut tot.', '@RTVCes @IEOoceanografia @gemar_ieo Y el MEGA tsunami y maremoto que ocasionaría y que dijeron algunos exagerados ?', 'RT @vicenlujan: Donde está el mega tsunami de La Palma ocasionado por el volcán una vez la lava llegará al mar 🥴', 'Donde está el mega tsunami de La Palma ocasionado por el volcán una vez la lava llegará al mar 🥴', '@gemar_ieo Y donde está el MEGA maremoto y tsunami que dijeron los ALARACOS .?', 'Si algún científico quiere estudiar la vinculación entre primates y humanos solo tiene que leer el hilo de  /LPMTG/ La Palma Mega Tsunami General de 4chan\\n....', '@Chusozap @HemerotecaFilm Obvio que no es un montaje y está pasando lo que ellos dijeron pero no se ha desprendido la ladera. En el caso que se desprenda tendremos que ver si realmente se produce ese mega tsunami', 'Y putes?  Ya juntaron sus bártulos para huir hacia lo alto y salvar el culo del mega tsunami? No digan que no están avisades.', 'RT @1joseluis752: Según los modelos elaborados por los investigadores Steven Ward y Simon Day, la actividad sísmica del Cumbre Vieja; podrí', 'Según los modelos elaborados por los investigadores Steven Ward y Simon Day, la actividad sísmica del Cumbre Vieja; podría provocar el desprendimiento de rocas de hasta 500 kilómetros cúbicos, haciendo que se deslicen y generando un mega tsunami.', 'Si te has preguntado qué tipo de medios han estado propagando el bulo sin fundamento de la amenaza del mega-tsunami en La Palma... pues parece que desde hace tiempo la 2. Bueno, salvo que no sea un bulo totalmente sin fundamento. https://t.co/VTaR9vG2Pe', '@ExpositoCOPE \\n¿y si la isla se parte en dos?\\nhttps://t.co/VZ4SM6TNtx', '@Causa1936 @LOCOCOMIO Parece que el mega tsunami no sería para tanto. Ahora que la isla quedaría hecha una pena, aún más. https://t.co/V1cxdeC8FQ', 'Hola @navedelmisterio te dejo un enlace interesante para #Horizonte sobre el volcán  de #CumbraVieja ¿podemos estar en el preludio de un mega tsunami? https://t.co/VN8ua09At4', 'Mirad qué documental más interesante de National Geographic sobre Cumbre Vieja, La Palma, sus volcanes y el peligro de un mega tsunami: https://t.co/jp64je7dm7', 'RT @ThePresesent: Mega Tsunami Alert, La Palma Volcano Eruption, Full Scientific Analysis ... https://t.co/atpr3aKQ85 via @YouTube', 'Mega Tsunami Alert, La Palma Volcano Eruption, Full Scientific Analysis ... https://t.co/atpr3aKQ85 via @YouTube', 'RT @Radioalfalfa:   EL VOLCÁN CUMBRE VIEJA DE LA PALMA. \\n❓⁉️❓ SERÍA POSIBLE Y QUÉ PASARÍA DE PRODUCIRSE UN MEGA TSUNAMI???\\n🥴🥺\\nhttps:', 'No está previsto aumentar la probabilidad de causar un mega tsunami gracias ramón xD https://t.co/ClmRTdv966', 'RT @Diamondthedave: Mega Tsunami Alert? La Palma Volcano Eruption, Full Scientific Analysis ... https://t.co/nmzOygv1Sk via @YouTube', '@CitizenMeixi Han hablado bastante de ello porque en USA y Brasil se han puesto nerviositos con el tema 🤣🤣 pero han indicado que el mega tsunami es muy improbable. Aunque nunca se sabe', '@pilarc777 @Causa1936 Si tienen que desalojar la Palma... Y tienes mal presagio deberían hacerla con todas las islas... Los más alarmistas dicen que habría un mega tsunami y arrasaria con todo', 'RT @twinmetalhen54: Mega Tsunami Alert, La Palma Volcano Eruption, Full Scientific Analysis ... https://t.co/BPBXe4Pynn via @YouTube', 'Mega Tsunami Alert, La Palma Volcano Eruption, Full Scientific Analysis ... https://t.co/BPBXe4Pynn via @YouTube', 'Tanta construccion ilegal, en la ladera de una de las islas volcánicas del planeta más activa, está haciendo que la colada se  vaya almacenando en una ladera inestable y a punto de colapsar provocando un mega tsunami que se llevara millones de vidas.\\n #ErupcionLaPalma https://t.co/bwhDNF4I4Q', 'RT @Listen4V: Mega Tsunami Alert, La Palma Volcano Eruption, Full Scientific Analysis ... https://t.co/hSFEs9Jcij via @YouTube', ' Tsunami de rebajas #Amazon \\n\\nColdgear Armour - Camisa De Manga Larga Hombre \\n\\n Mega descuento del 37% \\n\\n Precio desde 34,39 EUR\\n\\n Enlace: https://t.co/Vk8xhGLRVk \\n\\n https://t.co/zlWuvoM65H https://t.co/A29oAZqscY', 'RT @MariaOLAB: Parte de un documental de la 2 de hace unos años. Podría producirse un mega tsunami  #lapalma #Volcan #CumbreVieja https://', 'RT @trueblue51: Cientificos descarta que las erupciones del Volcan de Cumbra Vieja baya a causar Mega Tsunami en las costes este de Estados', 'Mega Tsunami Alert, La Palma Volcano Eruption, Full Scientific Analysis ... https://t.co/hSFEs9Jcij via @YouTube', '@SamuraiAstur Exacto, justo estaba leyendo a la del mega tsunami y vi como le contestaste, bravo por ciertopor unos like o llamar la atención la gente es capaz de cualquier cosa, es una vergüenza, yo mejor no le contesto, gracias por hacerlo tú', 'Mega Tsunami Alert? La Palma Volcano Eruption, Full Scientific Analysis ... https://t.co/nmzOygv1Sk via @YouTube', ' Tsunami de rebajas #Amazon \\n\\nShorts para Hombre \\n\\n Mega descuento del 25% \\n\\n Precio desde 27,66 EUR\\n\\n Enlace: https://t.co/Ynt16XUAVy \\n\\n https://t.co/kFZ9yBVd0e https://t.co/T0TA0N1GzE', 'Mega Tsunami Alert? La Palma Volcano Eruption, Full Scientific Analysis ... https://t.co/d8cUxHocCn via @YouTube', 'Pregunta preguntosa : Si hubiese el mega tsunami cuantos kilometros de ola entraria por las costas de  España ? Alguien ha exo el calculo ?', 'Mira que hemos tenido toda la eternidad para nacer y vivir, y nos pilla una pandemia, un posible mega Tsunami y Jorge Javier Vázquez, la madre que me parió.', 'Cientificos descarta que las erupciones del Volcan de Cumbra Vieja baya a causar Mega Tsunami en las costes este de Estados Unidos y el Caribe! https://t.co/MX3jxlFkEQ', '@Alfredo_Bruno @YouTube Mientras que no se produzca el mega tsunami que algún científico calculó...', '@yolanday_y ¿Has visto lo del Mega Tsunami?\\n\\nhttps://t.co/Yd2Xz2ldME', 'RT @twinmetalhen54: Mega Tsunami Alert? La Palma Volcano Eruption, Full Scientific Analysis ... https://t.co/IWghbIUPZk via @YouTube', 'Mega Tsunami Alert? La Palma Volcano Eruption, Full Scientific Analysis ... https://t.co/IWghbIUPZk via @YouTube', 'Mega Tsunami Alert? La Palma Volcano Eruption, Full Scientific Analysis ... https://t.co/lbnAbUC6H0 via @YouTube', '@dis_easer Me refiero al volcan de las palmas,en el 2005,unos cientificos dijieron que el volcan las palmas en cualquier momento erupcionaria y si la lava toca el mar,puede hacer a que las olas se levanten y se venga un mega-tsunami que acabaria con parte de america.', 'Vieron q siempre hay un grupo de científicos q años antes predicen alguna catástrofe natural?\\nEstoy viendo un programa de la Nat Geo de 2005 que no sólo predicen lo del volcán de Canarias sino q dicen que si cediera una ladera del volcán se crearía un mega tsunami.\\nustedes bien?', 'RT @Diegoherreraf1: Esto es lo que más aterra a los expertos, un gran desprendimiento de alguna de las laderas de las Islas que conforman c', '@FDJenSport @sport prepárense para un mega tsunami', '@Valenv36763489 Ayer vi un documental de por allá de 2006 que menciona que esa isla con ese volcán es un peligro ya que podría causar un mega tsunami si al explotar, la falta occidental de este se deslizará hacia el mar. Hay casos documentados de esos deslizamientos durante actividad del volcán', '@josal_garcia @ItsChevi @javiro_ser @rtve2 De hecho estadísticamente es mas probable ver un meteorito caer a la tierra y provocar un mega tsunami que lo de La Palma\\n\\nhttps://t.co/9m2vbXywTP', '@VidalJuanma Bromas aparte, los documentales donde hablan del mega tsunami q se puede producir como consecuencia de la erupción del volcán, a mi me preocupa mucho, no se sabe cuándo puede ser pero el volcán ayuda.', 'Q tal aunque hablan d un mega tsunami ellos explican cual podría ser la causa de la activación dl volcán, viendo el video ellos dicen que en un futuro el agua q cae de superficie ´podría activar el volcán en un futuro, este video es dl año 2005 osea 16 años después 2021 el futuro https://t.co/9yWK5r8RXK', 'RT @Sandrags2012: @elmundoes ¡AVISO URGENTE! La isla se va a partir y habrá un mega-tsunami,los medios y los gobiernos lo saben y no están', 'Esto es lo que más aterra a los expertos, un gran desprendimiento de alguna de las laderas de las Islas que conforman canarias, esto provocaría un mega de Tsunami de olas de +100 metros que barrería con las costas del Atlántico, hoy ocurrió uno pequeño en la Isla La Palma. https://t.co/T2z5pO98Ur', '@TELEPREDICAD0R @Eva_Angelina_79 @VeronicaManjon Llevan décadas diciendo lo de el derrumbamiento de la isla y el mega tsunami', '@DJAA78443071 @involcan @CONTUNDENTEE @INGVvulcani ayer un idiota me discutio eso mismo diciendo que ocurriria, le dije que es un bulo y me dijo que como lo sabia, cite a maldito bulo y a involcan y cuando se quedo sin argumentos por que le pille me bloqueo.\\nNo va  haber ningun mega tsunami.', '@brasinolo @Raqueljoaira Por cierto hace más de una década que estaba pronosticado que podía desgajarse una parte de la isla y caer al mar, provocando un mega tsunami, fruto de la actividad volcánica', 'RT @DJAA78443071: @involcan @CONTUNDENTEE @INGVvulcani Por remota que parezca esta posibilidad, ¿se podría resquebrajar un trozo de esa par', '@involcan @CONTUNDENTEE @INGVvulcani Por remota que parezca esta posibilidad, ¿se podría resquebrajar un trozo de esa parte de la isla y provocar el tan hablado y temido mega tsunami?', '@verdadoslibres @elmundoes Sería mega tsunami.', 'RT @TebesJose: en el 2003 vi un documental sobre las islas canarias y en especial cumbre vieja antes se llamaba cumbre nueva se desmorono c', 'en el 2003 vi un documental sobre las islas canarias y en especial cumbre vieja antes se llamaba cumbre nueva se desmorono como el santa elena provocando un mega tsunami con olas de casi 300 metros de altura que desvasto toda la costa este de eeuu brasil , españa portugal', '@MYBM0218 De acuerdo, solo yo acotaba que esa cuenta no ayuda y es full alarmista, da por hecho el mega tsunami, y nada más.', '@MYBM0218 Para que exista un mega tsunami tiene que ser una mega explosión potente, Krakatoa en 1883 tuvo una explosión tan terrible que dividió a su Isla, oscureció media Europa, y no hubo un mega Tsunami.', '  EL VOLCÁN CUMBRE VIEJA DE LA PALMA. \\n❓⁉️❓ SERÍA POSIBLE Y QUÉ PASARÍA DE PRODUCIRSE UN MEGA TSUNAMI???\\n🥴🥺\\nhttps://t.co/CfrD79lYXB', 'RT @Fuckencio21: Documental del 2005. Un mega #tsunami de 900metros.', '@LoscosYolanda Eso es por el mega tsunami de la palma, todos somos Madrid  ánimo, hermanos de Madrid ', 'Documental del 2005. Un mega #tsunami de 900metros. https://t.co/fXLGZBFvK7', '¿Y si El VOLCAN de LA PALMA causa un MEGA TSUNAMI? https://t.co/SmE7zcN4cH a través de @YouTube', '@ZgzForofo @vanvasten @SSandroales Eso no va a ocurrir, es tan improbable como que el volcán de La Palma genere un mega tsunami que arrase el mundo.\\nEn noviembre creo que si nada raro ocurre y no hay motivaciones políticas podremos hacer de todo.', '@i_sanjose Si un tsunami en Chile causó tanta desgracia (por negligencia) un mega arrasa con parte de Europa, costa de África y Sudamérica como dice en el reportaje.', ' Tsunami de rebajas #Amazon \\n\\nCore18 TR Pnt Y - Pantalones de Deporte Unisex niños \\n\\n Mega descuento del 29% \\n\\n Precio desde 16,40 EUR\\n\\n Enlace: https://t.co/LIB8YeSg22 \\n\\n https://t.co/y4u0efjnP9 https://t.co/qHOpnpsSCX', '@MonedadeCobre Ya estamos acostumbrados, despues del 8.5 con tsunami y todo del 2015 ( 16 Septiembre), nos deja bien poco a la imaginación lo que sería el Mega sismo que se avecina en el Pais.', '@ManzanaDori @Conchi_OA Llevan décadas hablando de un mega tsunami causado por un volcan en las Palmas. Olas de 600 metros, todo el sur de España a tomar por culo. Por cierto hicieron simulacros hace meses en el sur.', '#IquiqueVerguenzaNacional\\n#Iquique el olor a harina de pescado y la pasta base ya les fundió las neuronas\\nMerecen el mega #tsunami para que desaparezca la ciudad basura.', '@Grokyn1 Old study.  Cumbre Vieja Mega Tsunami prediction. https://t.co/KcethGXb8A', 'Natgeo - Mega Tsunami de La Palma\\nhttps://t.co/n0juHQpQXe', '@ManzanaDori eso que ocurre en las palmas es una FF por lo que ocurre en estados unidos las auditorias, el fiscal general, durham el lunes etc.. no existe temor de mega tsunami es mentira. la destrucción de los dumbs y túneles de la cábala q existen allí si es verdad.', 'RT @LaurykachanMC: Las verdades como puñales duelen, esta persona demuestra que yo una vez mas he tenido la razon... estaba hablando de que', 'Las verdades como puñales duelen, esta persona demuestra que yo una vez mas he tenido la razon... estaba hablando de que el volcan provocaria un mega tsunami, le dije que es un bulo me dijo que lo demostrara, lo demostré y seguia en su salsa atacando y sin demostrar nada xD https://t.co/JpqSuvFCft', 'https://t.co/M58H9zwE9W. TERRORÍFICO, expertos alerta de un posible mega tsunami tras la erupción del volcán de la Cumbre vieja', '@alexandrato2016 Lo peor es q posibilidad de 1 alud d kms q caerían al mar provocando mega tsunami es tomada en broma x españoles', '@alexandrato2016 Seguro ves algún país europeo, x la chela debe ser Inglaterra, q en caso d 1 mega tsunami olas de 7 metros le caerán encima y d hecho acabaría c todo sistema d agua y desagüe', 'RT @jeeva_vlc: @rtve @rtvenoticias Es curioso que RTVE señale esa información como bulo cuando en La2 se ha emitido un documental contempla', '@LaTrueVader Supermega tsunami\\nMega terremotos\\nCatastrofes impredecibles\\nSe supone que la falla de la palma entra en contacto los campos flegreos y con la de yellowstone y nos vamos a la mierda.', '@Pink_Furiouss Si se desprende la placa, mega tsunami, como llevan diciendo desde hace décadas', \"RT @rtve: No hay riesgo de 'megatsunami' en La Palma por la erupción\\n\\n#VerificaRTVE se fija en uno de los bulos más compartidos estos días\", 'No hay riesgo de megatsunami en La Palma por la erupción, es un auténtico bulo, las personas deberían entender que detrás de los ordenadores hay todo tipo de loco, generando auténticas barbaridades.\\n\\nhttps://t.co/usMK489wA5 https://t.co/t2zZb7x3ox', \"No hay riesgo de 'megatsunami' en La Palma por la erupción\\n\\n#VerificaRTVE se fija en uno de los bulos más compartidos estos días\\n\\nhttps://t.co/BBYDAqCPHZ\", 'Joan Martí, el sabio de los volcanes: \"La teoría del megatsunami es posible, aunque poco probable\" https://t.co/v2t5C0258e via @elespanolcom', 'Tras 11 días, los pronósticos del estudio en La Palma por parte de  aseguradoras se está cumpliendo paso a paso.\\n\\nHabría que empezar a planificar la hipótesis del Megatsunami antes de que se convierta en tesis.\\n\\n#VolcandeLaPalma\\n#ErupcionLaPalma', 'RT @HemerotecaFilm: Hace unos años La 2 de TVE emitió un documental sobre el megatsunami que podría provocar el volcán de La Palma si entra', 'RT @HemerotecaFilm: Aquí os dejo el trozo de documental que habla sobre la \"gran grieta\", motivo por el que la montaña podría venirse abajo', 'QUE DIOS NOS LIBRE Y FAVOREZCA,DEL INMENSO PELIGRO EN QUE VIVIMOS AHORA,DE PRONTO EL DELTA DE LAVA SE VA A LO PROFUNDO DEL MAR Y LOGICAMENTE PRODUCIRÁ EL MEGATSUNAMI PRONOSTICADO EN LA PALMA ISLAS CANARIAS,NOS ENCOMENDAMOS YA A DIOS DEL CIELO.', 'El posible megatsunami está en Tenerife y no en La Palma: los estudios que lo documentan https://t.co/4U49Lfmyyv', 'RT @kiko_martin69: El megatsunami de la Isla de Palma. Iré sacando la Zodiac.', 'Se viene megatsunami, estoy cagada', 'El megatsunami de la Isla de Palma. Iré sacando la Zodiac. https://t.co/eNviHqysDa', '@Devils_Iawyer Ostia, no había caído. El megatsunami provocado por la Isla de Palma. Se habrá mudado ya @pacodelatorrep de oficina porque el Ayto se lo come sin pestañear. Mejor que la traslade al Parador.', 'Les dije que no se puede descartar un megatsunami,recen porque no sea así', 'El posible megatsunami está en Tenerife y no en La Palma: los estudios que lo documentan https://t.co/o51ickCD7F', 'Por qué no hay riesgo de que el volcán de La Palma genere un ‘megatsunami’ https://t.co/xdpDOqIcLf @Lidia_San_Jose', '@GustavodeDios Creo que se refiere igualmente al proceso de La Palma, que puede causar un megatsunami. Y para que esto sucediera se tendría que derrumbar (entera) toda la cordillera de Cumbre Vieja, lo cual es imposible. Es decir que no, que de tsunami o megatsumani, nada de nada.', 'El riesgo del volcán es que pegue un petardazo y se desprenda la ladera y está llega al mar, ya entonces cagamos, megatsunami', 'RT @FedeGarciaBWN: El posible megatsunami está en Tenerife y no en La Palma: los estudios que lo documentan https://t.co/iEnCK1ufuO vía @el', 'El posible megatsunami está en Tenerife y no en La Palma: los estudios que lo documentan https://t.co/hpYWzcScID', 'El posible megatsunami está en Tenerife y no en La Palma: los estudios que lo documentan https://t.co/iEnCK1ufuO vía @elespanolcom', '@Marluk510 Hasta hace unos días.....\\nNo hay riesgo de megatsunami en La Palma por la erupción, es un bulo https://t.co/Vp6obl7rYJ', 'El posible megatsunami está en Tenerife y no en La Palma: los estudios que lo documentan. Un artículo de @paolo_fabio \\n https://t.co/8nqwfzlBjH', 'RT @DonFlasio: La gente que esta hablando de la teoría del megatsunami que pasara en las palmas que destruirá los Estados Unidos de verdad', '@LessiMarcano No solamente afectará a Canarias, se habla de un megatsunami que afectará a gran parte de Europa, África, costa este de EEUU, América del Sur y el Caribe. El planeta está en manos de esa pequeña islita. \"La isla bonita\"', 'El posible megatsunami está en Tenerife y no en La Palma: los estudios que lo documentan. Un artículo de @paolo_fabio para @Ciencia_EE\\n https://t.co/7JXpEmiI3J', '@Mar_eadastoy Les interesa vender miedo. Ya están otra vez con lo del megatsunami.', 'RT @Mazinguer88: sigan rezando ,porque si la ISLA SE PARTE O SE HACE MÁS ALTA, QUE NO MÁS LARGA ,ESTARÍAMOS HABLANDO DE LA FORMACIÓN DE UN', 'sigan rezando ,porque si la ISLA SE PARTE O SE HACE MÁS ALTA, QUE NO MÁS LARGA ,ESTARÍAMOS HABLANDO DE LA FORMACIÓN DE UN MEGATSUNAMI', '\"Megatsunami- cumbre vieja, la palma. explicación\"\\n\\nhttps://t.co/uEUdiiBUK9\\n\\n.', 'Expertos desmintiendo un posible tsunami/megatsunami\\n\\nA: \"entendidos de volcanes\": ALERTA SUPER TSUNAMI ALERTA\\n\\nB:negacionista: MEGATSUNAMI es lo siguiente pero nos lo están ocultando\\n\\n¿Que cree/comparte la gente para ganar like? MEGATSUNAMI \\n\\n#LaPalma', '@Venusinaa2 Un megatsunami lo puede crear perfectamente una bomba termonuclear con la potencia actual puesta en el sitio adecuado.', 'RT @ramas93twitch: @vernicavene @NatGeoEspana Acabo de ver ese documental del que hablas. Ya se produjeron desprendimientos parciales, espe', '@CarmenS25875202 @EarthquakeChil1 Gracias a Dios cayó en el mar? No, amiga eso trae muchas consecuencias. Puede acabar con California y cambiar la TierraMuy grave si se genera un Megatsunami', '@TonyElMorenazzo Espera un poco, porque si eso sigue creciendo, u por el peso cae al mar, va a haber que hacer un mapa nuevo del mundo después del megatsunami que se produciría.', 'Otra persona de mi familia que me venga a hablar muy seria del megatsunami y juro que mato', '@vernicavene @NatGeoEspana Acabo de ver ese documental del que hablas. Ya se produjeron desprendimientos parciales, espero que no se cumpla lo del megatsunami del que hablan  no hay nada más fuerte e increíble que la naturaleza...', 'RT @RagtimeLibros: MegaTsunami. Ola de destrucción https://t.co/kHj0cGE3XE a través de @YouTube \\nEste documental profético (BBC,2000)  mues', 'Por qué no hay riesgo de que el volcán de La Palma genere un ‘megatsunami’ https://t.co/srlpsviEnD vía @maldita', 'RT @Finanzas_Times:  España | #Canarias | #LaPalma | #Volcán | #CumbreVieja | #Erupción\\n\\nSe están produciendo los primeros derrumbes de l', 'La gente que esta hablando de la teoría del megatsunami que pasara en las palmas que destruirá los Estados Unidos de verdad necesita ir a verse que le ronda por ahi arriba.', '@garotadeFe2 @Wewa18432394 @RTVCes @unahoramenostv No, solo afecta a nivel local por los gases tóxicos y la muerte de los peces por las altas temperaturas al caer la lava al océano. Es imposible que pase lo de ese absurdo reportaje sobre el megatsunami, porque no va a caer una masa de tierra tan grande y Cumbre Vieja es estable.', '@darkatyz @involcan Por poder...puede...ahora, si te refieres al megatsunami ese que iba a acabar con medio EEUU, no lo ven factible.', 'RT @Finanzas_Times: #ÚLTIMAHORA‼️ #URGENTE‼️\\n\\n España | #Canarias | #LaPalma | #Volcán | #CumbreVieja | #Erupción\\n\\nExplosiones cada vez m', '@Fabiana56221612 @RTVCes @unahoramenostv Científicos descartaron a posibilidade de megatsunami, non é realista.', '@Fabiana56221612 @RTVCes @unahoramenostv Estate tranquila que no hay megatsunami y si lo hay más ansiosos estaríamos nosotros que desaparecerían todas nuestras islas imagínate el miedo que podemos tener pero hay expertos que descartan este tsunami tranquila', 'RT @JoelHDYT: #ÚLTIMAHORA ‼️ #URGENTE ‼️\\n\\n España | #Canarias | #LaPalma \\n\\nLa lava del  #Volcán de #LaPalma a punto de llegar al mar; se', '@DavidGray75 @DJAA78443071 @involcan Claro, si se derrumba media isla = megatsunami.\\nSi se desprenden unos metros cúbicos de tierra del acantilado = microstunami.\\nM = mega, m =  mili, \"mu\" = micro. Es mucho más pequeño, pero se puede medir aún.\\n', '#ÚLTIMAHORA ‼️ #URGENTE ‼️\\n\\n España | #Canarias | #LaPalma \\n\\nLa lava del  #Volcán de #LaPalma a punto de llegar al mar; según fuentes de @telecincoes, la isla de La Palma puede partirse en dos. \\n\\n#megatsunami #tsunami #lapalma #erupción https://t.co/PFXbkWnyfQ', '@nelsonmroa @LaDamadNoche Una cosa es que la lava llegue al mar. Otra que llegue todo un bloque de tierra de golpe y produzca un megatsunami, pero no parece que sea el caso.', '@SophiaVivancos  veo el vídeo y me imagino un megatsunami arrancándote el móvil de las manos y que te deje sin tuitear las próximas dos semanas.', '@Serthand Creo que Ramón quiere poner explosivos en el volcán a ver si se quiebra la montaña como dice el reportaje de Disaster Earth de 2005, se provoca un megatsunami que mate a medio mundo y que Abascal le eche la culpa a Pedro Sánchez...', 'RT @HemerotecaFilm: En el documental no aparece pero habla sobre una gran grieta en la montaña, y que la erupción podría provocar que gran', 'RT @pabl80: Ha comenzado la erupción del Cumbre Vieja, y probablemente resucite el mito del megatsunami que podría provocar. \\n\\nBien, es un', '@supernaka58 @Devils_Iawyer Por ahora el de la palma esta siendo el más significativo, por su posible efecto megatsunami si se llega a desprender la pradera.', 'RT @Finanzas_Times: #ÚLTIMAHORA‼️ #URGENTE‼️\\n\\n España | #Canarias | #LaPalma | #Volcán | #CumbreVieja | #Erupción\\n\\nRíos de lava avanzan i', 'RT @UrretaJorge: Por qué no hay riesgo de que el volcán de La Palma genere un ‘megatsunami’ https://t.co/aEh0C4pOBu vía @maldita', 'Por qué no hay riesgo de que el volcán de La Palma genere un ‘megatsunami’ https://t.co/aEh0C4pOBu vía @maldita', 'Mira @AtmosferaSur \\n\\n@Radioalfalfa se nos adelantó con el megaTsunami.🤦\\u200d♂️🤦\\u200d♂️🤦\\u200d♂️ https://t.co/6ocgZ4X2Hs', '@Noe95507753 @Devils_Iawyer @Causa1936 La teoría del deslizamiento + megatsunami salió a la luz en 2001 y fué desarrollada x un geólogo británico, en primera instancia.\\nVeremos. El volcán ha emitido mas m3 de lava en 1 semana q el Teneguía en 2 meses.', 'RT @pjph: Indagando un poco sobre la isla de La Palma donde ocurre el volcán, en 2000 un geologo Simón Day predijo que una erupción de ese', 'RT @vnzlasocial: #CumbreVieja #LaPalma #Guatemala\\n¿VIENE EL MEGATSUNAMI POR REACTIVACIÓN DEL CUMBRE VIEJA? LA PALMA / RAYOS SALEN DEL VOLCÁ', '@vnzlasocial @YouTube Basta ya con la mierda del Megatsunami!', 'https://t.co/Y7ERHdQoAs . VIENE EL MEGATSUNAMI POR REACTIVACIÓN DEL CUMBRE VIEJA ? LA PALMA / RAYOS SALEN DEL VOLCÁN DE FUEGO', '#CumbreVieja #LaPalma #Guatemala\\n¿VIENE EL MEGATSUNAMI POR REACTIVACIÓN DEL CUMBRE VIEJA? LA PALMA / RAYOS SALEN DEL VOLCÁN DE FUEGO... https://t.co/gJvPOqEe4s via @YouTube', '¿VIENE EL MEGATSUNAMI POR REACTIVACIÓN DEL CUMBRE VIEJA? LA PALMA / RAYO... https://t.co/S8VETBl0sj a través de @YouTube', 'RT @LeBone73: Keep an eye on the Cumbre Vieja !Megatsunami Scenario - La Palma Landslide https://t.co/ytPSoMPMmR via @YouTube', '@ricardovlago Esta erupción me recuerda al programa de National Geografic sobre el megatsunami del Atlántico ocasionado por este volcan.\\nhttps://t.co/ihaKSFR7yF', '@MonikaNude @involcan El documental donde sale la teoria del megatsunami por La Palma, muestra otras catastrofes hipoteticas. Tambien es una catastrofe que caiga un meteorito en La Tierra...', '#ÚLTIMAHORA‼️ #URGENTE‼️\\n\\n España | #Canarias | #LaPalma | #Volcán | #CumbreVieja | #Erupción\\n\\nExplosiones cada vez más fuertes, finalmente se desprenderá una enorme masa de rocas que caerán ladera abajo hasta llegar al mar, provocando un #Megatsunami #Tsunami https://t.co/pvi5BQe3r9', '@cabal_a Alguno está jodido porque el volcán lo https://t.co/4d6bjcxLOO hay otra cosa que volcán,ni vacunación,ni olas imaginarias,ni temas políticos.Empezarán con el megatsunami y el Apocalipsis en nada.El volcán está hasta disipando al cafre de Canteli. ', '#ÚLTIMAHORA‼️ #URGENTE‼️\\n\\n España | #Canarias | #LaPalma | #Volcán | #CumbreVieja | #Erupción\\n\\nRíos de lava avanzan imparables hacia el mar.\\n\\nEspero que cuando llegue el momento no estéis a menos de 200 metros de altitud sobre el mar. #Tsunami #Megatsunami https://t.co/8e89THrkAx', '@FrancoEsteban_ La hipótesis de 2001 del gran derrumbe del flanco W de Cumbre Vieja con un megatsunami ha sido rebatida y descartada posteriormente por numerosos investigadores. https://t.co/gDg77oJ1S4', 'Miedo me da .. lo dice Público y habla de expertos . Os fiaríais? Yo no. \\n\\nLos expertos descartan un megatsunami provocado por el volcán de La Palma | Público https://t.co/Mk1wMcf4Ch', 'RT @moebius32: @moedetriana En este docu-ficción especulan con 4 formas de terminar el mundo. Una de ellas una pandemia y otra megatsunami.', '@Anya_Nyr @MidoriYamabuki2 Intentar convertir una posibilidad real, aunque poco probable, en un bulo convierte al difusor en ....\\nDígamelo usted \\nhttps://t.co/pLODyHgu2h', 'RT @lapalma_INFO: DIRECTO  España | #Canarias | #LaPalma | #Volcán | #CumbreVieja El cono del volcán de La Palma se ha roto produciendo un', 'DIRECTO  España | #Canarias | #LaPalma | #Volcán | #CumbreVieja El cono del volcán de La Palma se ha roto produciendo una enorme colada que va en dirección al mar. También se han desprendido los primeros trozos de la ladera #Tsunami #MegaTsunami https://t.co/q7qti29kYt', 'MegaTsunami. Ola de destrucción https://t.co/kHj0cGE3XE a través de @YouTube \\nEste documental profético (BBC,2000)  muestra el peligro de derrumbamiento de la #LaPalmaeruption que ocasionaría un #Megatsunami Basado en las investigaciones de Simón Day, vulcanólogo inglés.', 'RT @KaTetmx: Comienza a caer parte de los acantilados en #LaPalma dando pie a mucha especialización si esto es el inicio del megatsunami..', 'Ya están en mi casa entretenidos acojonándose con lo del megatsunami, pues nada', 'Joan Martí, el sabio de los volcanes: \"La teoría del megatsunami es posible, aunque poco probable\" https://t.co/VYoFeXqJ7b', 'TERRORÍFICO, expertos alerta de un posible megatsunami tras la erupció... https://t.co/IvJ0iWibGl a través de @YouTube', '@josal_garcia @javiro_ser @rtve2 No se contempla porque no se ve plausible que llegue un megatsunami a EEUU debido al volcán. https://t.co/hyqQKaks8q', '@josal_garcia @javiro_ser @rtve2 Es un documental de la 2, si, pero la fuente del documental es la teoría del megatsunami de los americanos', '@josal_garcia @javiro_ser @rtve2 [...] Hace tres años, la ciudad de la Gran Manzana incluyó en su agenda de riesgos de fenómenos naturales la posibilidad de un megatsunami procedente de las Islas Canarias, concretamente de la isla de La Palma.\\nNo todo lo que dicen en la tele es verdad, mejor contrastar los datos', '@josal_garcia @javiro_ser @rtve2 https://t.co/YXGYe0Rwyd\\n Los expertos niegan que la actual erupción del volcán de Cumbre Vieja en isla de La Palma, pueda llegar a provocar un \"megatsunami\" de consecuencias devastadoras. [...]', 'Se esta desplazando la actividad sismica al Sur, nuevo enjambre en Fuencaliente... empieza a ser preocupante...Megatsunami https://t.co/FNfjCo1QiP', 'RT @TheJock70384884: Recordando el documental de la BBC \"End Day\", en el que la costa este de USA era destruida por un Megatsunami provocad', 'No, el volcán de La Palma no va a provocar un megatsunami que arrase Nueva York https://t.co/BMveNCzh5Z', 'Vamos megatsunami sal del armario https://t.co/RdUlP3IzrV', 'Por favor os lo pido, dejad de montaros pelis del megatsunami https://t.co/uHXeDItQPO', 'RT @KaTetmx: Preparando reporte EN VIVO se derrumba el cono de #CumbreVieja y caen al mar deslizamientos reavivando el mito del #megatsunam', 'No, el volcán de La Palma no va a provocar un megatsunami que arrase Nueva York https://t.co/0GULYEwC0K a través de @ABC_Ciencia', 'Por qué no hay riesgo de que el volcán de La Palma genere un ‘megatsunami’ https://t.co/IjnU9hVQ3K vía @maldita', 'RT @ClimamexBC: Comienzan a caer parte de los #acantilados en la isla de #LaPalma dando pie a mucha especulación que si esto es el inicio d', 'Joan Martí, el sabio de los volcanes: \"La teoría del megatsunami es posible, aunque poco probable\" https://t.co/rIYEnvhP02', '@Nunakusi @hector_ri @HemerotecaFilm No te debes preocupar, ya está más que desmentido. https://t.co/4o6mRSOO60', 'Megatsunami Scenario - La Palma Landslide https://t.co/SWFSn3ww2D vía @YouTube', '@Argen_1816 Ya en el 2003 un documental de la tv española muy bien hecho hablaba sobre el potencial desastre de cumbre vieja q hace unos 400 mil años se desplomo al oceano provocando un megatsunami que destrozo toda la costa este de eeuu caribe portugal españa africa y brasil cumbre nueva', '@jesusdelacruzol No quiero ser pajaro de mal agüero, pero a ver si van a ser sintomas de lo que pronosticaron en un documental, que se iba a desmoronar todo el cordal de montes de cumbre vieja , originando un megatsunami. Esperemos que sea por la actividad sismica.', 'RT @franklyn_s: Aclarar la probabilidad de ocurrencia de esta teoría de megatsunami que se podría originar en cadena:1-Erupciones 2-Aperrur', 'Aclarar la probabilidad de ocurrencia de esta teoría de megatsunami que se podría originar en cadena:1-Erupciones 2-Aperrura de más “bocas del volcán 3-Se desprende roca de 24 km y cae al mar 4- El tsunami afecta EEUU, el caribe y Latinoamérica :  https://t.co/dXmKO4YgzE', 'El Documental sobre EL VOLCÁN CUMBRE VIEJA de LA PALMA y del posible MEGATSUNAMI que generaría.\\nhttps://t.co/ic3vTdmrDM\\n#volcanCumbreVieja #volcan #VolcanLaPalmaARV #VolcanoLaPalma #volcano', '@Isabel22754339 @La_SER Pues está es una erupción \"pequeña\", esta zona llevan monitoreandola años porque se temía que una erupción en la Palma podría acabar en un derrumbe del volcán que provocase un megatsunami devastador, dentro de lo malo es lo menos malo posible', 'Comienzan a caer parte de los #acantilados en la isla de #LaPalma dando pie a mucha especulación que si esto es el inicio del #megatsunami. https://t.co/t9vcyHxUPm', 'TERRORÍFICO, expertos alerta de un posible megatsunami tras la erupció... https://t.co/FSZq5ygbhs vía @YouTube', 'El megatsunami es una hipótesis sensacionalista que ha tenido éxito no porque el mar se pudiera tragar a los isleños, sino porque arrasaría con Nueva York, y bueno, con esto a Hollywood le da para peliculón', 'De verdad La Provincia ha sacado un artículo diciendo que el megatsunami de La Palma (desmentido por mil expertos) \"ahora es más posible\" para que la gente acojonada les compre el artículo\\n\\nDa gusto ver este nivelón de responsabilidad periodística in da Canary Ailands :)', 'Joan Martí, el sabio de los volcanes: \"La teoría del megatsunami es posible, aunque poco probable\" https://t.co/8hH7f65ycL', '@SergioComoVas Se va a liar gorda, quizas un megatsunami no sea, pero la ola va a ser grande', '@NOSTRAD2050 ¿Alguien le ha puesto al inútil e incompetente de @sanchezcastejon el dicumental sobre el posible deslizamiento de terreno en La Palma que podría causar además de un desastre en la isla un megatsunami?', '@aflorrick77 Una gran roca que puede caer al mar y puede causar un megatsunami  la ola llegaría a europa y las Islas Canarias desaparecerían ☺️ y olas gigantes llegarían a America 🤭', 'RT @Carl63086045: Que un volcán sea asintomático no significa que no explote y haga un Megatsunami en cualquier momento.\\n\\nCO2Zero\\nCovidZero', 'Aquí os dejo el trozo de documental que habla sobre la \"gran grieta\", motivo por el que la montaña podría venirse abajo y causar el megatsunami. https://t.co/1Lasb9L4HD', 'DIRECTO  Hace unos años La 2 de TVE emitió un documental sobre el megatsunami que podría provocar el volcán de La Palma si entraba en erupción. El megatsunami sería a causa del desprendimiento de la montaña. La montaña se está desprendiendo https://t.co/BPoKAnuK0e', 'RT @elespanolcom: Joan Martí, el sabio de los volcanes: \"La teoría del megatsunami es posible, aunque poco probable\", vía @Ciencia_EE https', 'En el documental no aparece pero habla sobre una gran grieta en la montaña, y que la erupción podría provocar que gran parte de esa montaña se viniera abajo provocando el megatsunami.', 'Hace unos años La 2 de TVE emitió un documental sobre el megatsunami que podría provocar el volcán de La Palma si entraba en erupción. El megatsunami sería a causa del desprendimiento de la montaña. La montaña se está desprendiendo ahora. https://t.co/Kk9JdcYbh0', 'Comienza a caer parte de los acantilados en #LaPalma dando pie a mucha especialización si esto es el inicio del megatsunami.. dentro de unos minutos en esta transmisión en vivo aclararemos todo al respecto! https://t.co/EJKrtYItOl https://t.co/03gCV7FFSA', '@HardwellRomero7 Efectivamente Carlos. Me he documentado sobre el tema para hacer la infografía y el megatsunami es imposible.', '@FMontecruz Aqui en Brasil tienes personas que ya dicen que el megatsunami está cerca porque mostraron un video de greta hablando que es en sul de la isla.', 'Millardos de tuits anunciando el Megatsunami en 3...2...1 https://t.co/FTMqATkhHM', 'Que un volcán sea asintomático no significa que no explote y haga un Megatsunami en cualquier momento.\\n\\nCO2Zero\\nCovidZero\\nCoca-Cola Zero\\nCerveza 0.0\\n\\nHomo Sapiens Zero', 'No, el volcán de La Palma no va provocar un megatsunami que arrase Nueva York: Hace tres años, Nueva York incluyó en su agenda de riesgo de fenómenos naturales la posibilidad de la llegada de un megatsunami procedente de las Islas Canarias, concretamente de Follow me @Predices https://t.co/junuDYHS7V', '@Maribelmg10 @NOELIA31V Es posible, pero no en nuestro tiempo.  Los primeros hominidos pisaron la Península hace 800.000 años. Es posible que no ocurra hasta dentro de varios cientos de miles de años. \\n\\nhttps://t.co/y4SHMi1wYr', 'Preparando reporte EN VIVO se derrumba el cono de #CumbreVieja y caen al mar deslizamientos reavivando el mito del #megatsunami la #AlertaSismica en #Chile Aumenta bastante.. nueva explosión en el #Popocatepetl y el Caribe disminuye su alerta.. PENDIENTES', 'Megatsunami La Palma: la ola que podría arrasar la ciudad de Nueva York https://t.co/600qCf7wV5 vía @ABC_Canarias', ' España | #Canarias | #LaPalma | #Volcán | #CumbreVieja | #Erupción\\n\\nSe están produciendo los primeros derrumbes de la ladera y grandes fragmentos están cayendo al mar.\\n\\nCuando se produzca el gran derrumbe se producirá un #Tsunami #Megatsunami \\n\\nhttps://t.co/JTlPU4jbsM', 'RT @imperatoresp: Desprendimientos del terreno en el flanco oeste de La Palma\\n\\nLas autoridades aseguran que el terreno es estable y la actu', 'Desprendimientos del terreno en el flanco oeste de La Palma\\n\\nLas autoridades aseguran que el terreno es estable y la actual erupción es incapaz de provocar un colapso a gran escala que cause un megatsunami\\n\\n#LaPalma #VolcanLaPalma #ErupcionLaPalma #CumbreVieja #Canarias https://t.co/4yT9cDT4U3', \"RT @Nitakayamanbore: Octubre 1963: Real Madrid y Glasgow Rangers se reúnen con el 'Megatsunami' de la Presa de Vajont.\\nUna historia olvidad\", '@malditobulo hay una cuenta que se llama PentágonoESP que está difundiendo el bulo de que va a haber un megatsunami cuando le demostre que es un bulo adjuntando esta información dijo me llamó inculta y de todo y me bloqueó... esta gente se dedica a difundir bulos y otro tipo de materiales,ojo', 'RT @jose_andresgs: Creo que esta es una de las entrevistas más interesantes que he hecho en los últimos tiempos. https://t.co/UzuTlZT0Sa', '2-  ¿Qué pasa en La Palma? ¿Hay Tsunami o no? @jose_andresgs habla con el director del Instituto Geociencias Barcelona del CSIC Joan Martí.\\n\\nhttps://t.co/nhUPVL2DBR', 'Creo que esta es una de las entrevistas más interesantes que he hecho en los últimos tiempos. https://t.co/UzuTlZT0Sa', 'un saludo a les vulcanólogues que llevan una semana aguantando a Name Bunchofnumbers diciéndoles que va a haber un megatsunami y que si elles lo desmienten es por intereses políticos', 'Joan Martí, el sabio de los volcanes: \"La teoría del megatsunami es posible, aunque poco probable\", vía @Ciencia_EE https://t.co/wM3RFZobCh', 'Los alisios son la vida, la isla de la palma es la que tiene mayor cantidad de agua, en base a esto voy hacer un escrito somero, con modesto conocimiento, sobre el famoso megatsunami, la isla por ser volcánica está llena de caverna,  estás a su vez llenas de agua, especialmente', 'No paran de suceder cosas que no estaban previstas, pero los listos descartan el megatsunami...\\n¿Por queeeeeeeeeee? https://t.co/QKCM2bCwim', 'Joan Martí, el sabio de los volcanes: \"La teoría del megatsunami es posible, aunque poco probable\" https://t.co/CAE98oQTZr a través de @elespanolcom', '️  #Entrevista | Joan Martí, el sabio de los volcanes: \"La teoría del megatsunami es posible, aunque poco probable\" https://t.co/1EMqXgxLRP', 'Hay que escuchar a los expertos, no a los charlatanes de plató.\\nJoan Martí, el sabio de los volcanes: \"La teoría del megatsunami es posible, aunque poco probable\" https://t.co/J9aKQiNI0K vía @elespanolcom', 'Joan Martí es un geólogo que ha dedicado su vida a la investigación de los volcanes. Recuerda que Canarias es una zona volcánica que requiere vigilancia y cuidado más allá de lo sucedido en La Palma\\nhttps://t.co/8kzvQvUk7S', 'RT @elespanolcom: Joan Martí, el sabio de los volcanes: \"La teoría del megatsunami es posible, aunque poco probable\" https://t.co/x36ILSA8Vv', '@ManzanaDori Hace tiempo vi un documental sobre el Cumbre vieja. Que podia provocar un megatsunami que arrase EE.UU.', 'RT @PauGenestra: Miles de surferos conspiranoicos llevan días flotando en La Palma, esperando el megatsunami para viajar gratis a Miami. Pr', \"Octubre 1963: Real Madrid y Glasgow Rangers se reúnen con el 'Megatsunami' de la Presa de Vajont: Entre el 25 de septiembre y el 9 de octubre de 1963, el Real Madrid -todavía de Alfredo Di Stéfano y Ferenc Puskás- y el Glasgow Rangers se midieron en 1/16 https://t.co/N5AP705gxL\", 'Joan Martí, el sabio de los volcanes: \"La teoría del megatsunami es posible, aunque poco probable\" https://t.co/x36ILSA8Vv', 'RT @AlejandroPenles: El volcán de Cumbre Vieja podria generar Un megatsunami en el océano Atlántico\\nhttps://t.co/HJyJqoAi6k', '@rsarille4 @CharlieWings07 Esta teoría del desplome de parte de La Palma se viene barajando tras un estudio hecho en 1999 que generó un contundente negocio en las aseguradoras de EEUU, https://t.co/bxxATebt2c que publico para contrarrestar la alarma que tu twitt puede haber generado entre los canarios.', \"Octubre 1963: Real Madrid y Glasgow Rangers se reúnen con el 'Megatsunami' de la Presa de Vajont.\\nUna historia olvidada.\\nPor Alejandro Delmás Infante\\nhttps://t.co/k8gm60CxGc https://t.co/1vqa0Pf79q\", 'RT @Amor_y_Rabia: (INFOGRAFICO)\\nLa teoría del \"megatsunami\" que podría provocar una erupción en la Isla de Palma (1): El derrumbe de parte', '(INFOGRAFICO)\\nLa teoría del \"megatsunami\" que podría provocar una erupción en la Isla de Palma (3): Evolución de la ola/tsunami al atravesar el Atlántico y llegar a las Américas, teoría cuya validez ha sido cuestionada \\n1) https://t.co/gtMPwn0hfE\\n2) https://t.co/HEEIKzluU4 https://t.co/XPzw71nhZU', '(INFOGRAFICO)\\nLa teoría del \"megatsunami\" que podría provocar una erupción en la Isla de Palma (2): posible evolución de la ola/tsunami en el archipiélago canario y sus alrededores https://t.co/EDNVuFdCiT https://t.co/2fTZ5bZ1Rl', '(INFOGRAFICO)\\nLa teoría del \"megatsunami\" que podría provocar una erupción en la Isla de Palma (1): El derrumbe de parte de la isla en el mar, las olas que provocaría en torno a palma, y altura de las olas en el Atlántico https://t.co/zeKNkce3I0', 'RT @UrretaJorge: Por qué no hay riesgo de que el volcán de La Palma genere un ‘megatsunami’ https://t.co/7G7FHdDgnf vía @maldita', 'Por qué no hay riesgo de que el volcán de La Palma genere un ‘megatsunami’ https://t.co/7G7FHdDgnf vía @maldita', '@Nova153 Megatsunami en perspective?', 'El volcán de Cumbre Vieja podria generar Un megatsunami en el océano Atlántico\\nhttps://t.co/HJyJqoAi6k']\n",
            "Tweets pre-procesing hecho a las  07 Oct 2021 - 06:31:13 ...\n"
          ]
        }
      ]
    },
    {
      "cell_type": "code",
      "metadata": {
        "id": "ScfIEjMqvYtJ",
        "colab": {
          "base_uri": "https://localhost:8080/",
          "height": 375
        },
        "outputId": "40aba4ae-23ea-4270-ddea-3516ad066de2"
      },
      "source": [
        "#################################################\n",
        "# Review Dataframe tweets\n",
        "#################################################\n",
        "show_detailed_feedback = True\n",
        "\n",
        "display('Numero total de tweets: '+str(len(full_tweets_frame)))\n",
        "\n",
        "if show_detailed_feedback:\n",
        "    full_tweets_frame.shape[0]\n",
        "    full_tweets_frame[full_tweets_frame.columns[0]].count()\n",
        "    display(full_tweets_frame.describe())\n",
        "    display(full_tweets_frame.columns)\n",
        "\n",
        "\n",
        "##full_tweets_frame.index.tolist()"
      ],
      "execution_count": null,
      "outputs": [
        {
          "output_type": "display_data",
          "data": {
            "application/vnd.google.colaboratory.intrinsic+json": {
              "type": "string"
            },
            "text/plain": [
              "'Numero total de tweets: 1304'"
            ]
          },
          "metadata": {}
        },
        {
          "output_type": "display_data",
          "data": {
            "text/html": [
              "<div>\n",
              "<style scoped>\n",
              "    .dataframe tbody tr th:only-of-type {\n",
              "        vertical-align: middle;\n",
              "    }\n",
              "\n",
              "    .dataframe tbody tr th {\n",
              "        vertical-align: top;\n",
              "    }\n",
              "\n",
              "    .dataframe thead th {\n",
              "        text-align: right;\n",
              "    }\n",
              "</style>\n",
              "<table border=\"1\" class=\"dataframe\">\n",
              "  <thead>\n",
              "    <tr style=\"text-align: right;\">\n",
              "      <th></th>\n",
              "      <th>tweet_id</th>\n",
              "      <th>retweet_count</th>\n",
              "      <th>favorite_count</th>\n",
              "      <th>cosine_scores</th>\n",
              "    </tr>\n",
              "  </thead>\n",
              "  <tbody>\n",
              "    <tr>\n",
              "      <th>count</th>\n",
              "      <td>1.304000e+03</td>\n",
              "      <td>1304.000000</td>\n",
              "      <td>1304.000000</td>\n",
              "      <td>1304.0</td>\n",
              "    </tr>\n",
              "    <tr>\n",
              "      <th>mean</th>\n",
              "      <td>1.442415e+18</td>\n",
              "      <td>11.500000</td>\n",
              "      <td>4.628067</td>\n",
              "      <td>0.0</td>\n",
              "    </tr>\n",
              "    <tr>\n",
              "      <th>std</th>\n",
              "      <td>2.007173e+15</td>\n",
              "      <td>80.999578</td>\n",
              "      <td>24.864616</td>\n",
              "      <td>0.0</td>\n",
              "    </tr>\n",
              "    <tr>\n",
              "      <th>min</th>\n",
              "      <td>1.438543e+18</td>\n",
              "      <td>0.000000</td>\n",
              "      <td>0.000000</td>\n",
              "      <td>0.0</td>\n",
              "    </tr>\n",
              "    <tr>\n",
              "      <th>25%</th>\n",
              "      <td>1.440743e+18</td>\n",
              "      <td>0.000000</td>\n",
              "      <td>0.000000</td>\n",
              "      <td>0.0</td>\n",
              "    </tr>\n",
              "    <tr>\n",
              "      <th>50%</th>\n",
              "      <td>1.442194e+18</td>\n",
              "      <td>0.000000</td>\n",
              "      <td>0.000000</td>\n",
              "      <td>0.0</td>\n",
              "    </tr>\n",
              "    <tr>\n",
              "      <th>75%</th>\n",
              "      <td>1.444765e+18</td>\n",
              "      <td>3.000000</td>\n",
              "      <td>1.000000</td>\n",
              "      <td>0.0</td>\n",
              "    </tr>\n",
              "    <tr>\n",
              "      <th>max</th>\n",
              "      <td>1.444894e+18</td>\n",
              "      <td>1924.000000</td>\n",
              "      <td>513.000000</td>\n",
              "      <td>0.0</td>\n",
              "    </tr>\n",
              "  </tbody>\n",
              "</table>\n",
              "</div>"
            ],
            "text/plain": [
              "           tweet_id  retweet_count  favorite_count  cosine_scores\n",
              "count  1.304000e+03    1304.000000     1304.000000         1304.0\n",
              "mean   1.442415e+18      11.500000        4.628067            0.0\n",
              "std    2.007173e+15      80.999578       24.864616            0.0\n",
              "min    1.438543e+18       0.000000        0.000000            0.0\n",
              "25%    1.440743e+18       0.000000        0.000000            0.0\n",
              "50%    1.442194e+18       0.000000        0.000000            0.0\n",
              "75%    1.444765e+18       3.000000        1.000000            0.0\n",
              "max    1.444894e+18    1924.000000      513.000000            0.0"
            ]
          },
          "metadata": {}
        },
        {
          "output_type": "display_data",
          "data": {
            "text/plain": [
              "Index(['tweet_id', 'created_at', 'text', 'retweet_count', 'favorite_count',\n",
              "       'cosine_scores'],\n",
              "      dtype='object')"
            ]
          },
          "metadata": {}
        }
      ]
    },
    {
      "cell_type": "code",
      "metadata": {
        "colab": {
          "base_uri": "https://localhost:8080/",
          "height": 520
        },
        "id": "K_MmgZe8JsOz",
        "outputId": "3158c698-e825-4e15-9b6f-4f12f035cc54"
      },
      "source": [
        "#################################################\n",
        "# Review Dataframe tweets\n",
        "#################################################\n",
        "# Show first N rows\n",
        "full_tweets_frame.head(15)"
      ],
      "execution_count": null,
      "outputs": [
        {
          "output_type": "execute_result",
          "data": {
            "text/html": [
              "<div>\n",
              "<style scoped>\n",
              "    .dataframe tbody tr th:only-of-type {\n",
              "        vertical-align: middle;\n",
              "    }\n",
              "\n",
              "    .dataframe tbody tr th {\n",
              "        vertical-align: top;\n",
              "    }\n",
              "\n",
              "    .dataframe thead th {\n",
              "        text-align: right;\n",
              "    }\n",
              "</style>\n",
              "<table border=\"1\" class=\"dataframe\">\n",
              "  <thead>\n",
              "    <tr style=\"text-align: right;\">\n",
              "      <th></th>\n",
              "      <th>tweet_id</th>\n",
              "      <th>created_at</th>\n",
              "      <th>text</th>\n",
              "      <th>retweet_count</th>\n",
              "      <th>favorite_count</th>\n",
              "      <th>cosine_scores</th>\n",
              "    </tr>\n",
              "  </thead>\n",
              "  <tbody>\n",
              "    <tr>\n",
              "      <th>0</th>\n",
              "      <td>1444893940746964995</td>\n",
              "      <td>Mon Oct 04 05:15:34 +0000 2021</td>\n",
              "      <td>este flujo incandescente ya ha arrasado con va...</td>\n",
              "      <td>0</td>\n",
              "      <td>0</td>\n",
              "      <td>0.0</td>\n",
              "    </tr>\n",
              "    <tr>\n",
              "      <th>1</th>\n",
              "      <td>1444893859591462913</td>\n",
              "      <td>Mon Oct 04 05:15:15 +0000 2021</td>\n",
              "      <td>RT @EarthquakeChil1: ATENCION CARIBE | Las par...</td>\n",
              "      <td>691</td>\n",
              "      <td>0</td>\n",
              "      <td>0.0</td>\n",
              "    </tr>\n",
              "    <tr>\n",
              "      <th>2</th>\n",
              "      <td>1444893689667538945</td>\n",
              "      <td>Mon Oct 04 05:14:35 +0000 2021</td>\n",
              "      <td>RT @apoyoasanchez: ÚLTIMA HORA\\n\\nEl president...</td>\n",
              "      <td>70</td>\n",
              "      <td>0</td>\n",
              "      <td>0.0</td>\n",
              "    </tr>\n",
              "    <tr>\n",
              "      <th>3</th>\n",
              "      <td>1444892981258039299</td>\n",
              "      <td>Mon Oct 04 05:11:46 +0000 2021</td>\n",
              "      <td>RT @HoyPorHoy: ⭕ Así se ve la isla de lava que...</td>\n",
              "      <td>11</td>\n",
              "      <td>0</td>\n",
              "      <td>0.0</td>\n",
              "    </tr>\n",
              "    <tr>\n",
              "      <th>4</th>\n",
              "      <td>1444892449374101508</td>\n",
              "      <td>Mon Oct 04 05:09:39 +0000 2021</td>\n",
              "      <td>RT @A3Noticias: ▶  El volcán de Cumbre Vieja h...</td>\n",
              "      <td>1</td>\n",
              "      <td>0</td>\n",
              "      <td>0.0</td>\n",
              "    </tr>\n",
              "    <tr>\n",
              "      <th>5</th>\n",
              "      <td>1444892395443720193</td>\n",
              "      <td>Mon Oct 04 05:09:26 +0000 2021</td>\n",
              "      <td>RT @NonNobis10:  ÚLTIMA HORA |  | SE DERRUMBA ...</td>\n",
              "      <td>2</td>\n",
              "      <td>0</td>\n",
              "      <td>0.0</td>\n",
              "    </tr>\n",
              "    <tr>\n",
              "      <th>6</th>\n",
              "      <td>1444892285049606146</td>\n",
              "      <td>Mon Oct 04 05:09:00 +0000 2021</td>\n",
              "      <td>Últimas noticias en directo sobre el volcán de...</td>\n",
              "      <td>0</td>\n",
              "      <td>3</td>\n",
              "      <td>0.0</td>\n",
              "    </tr>\n",
              "    <tr>\n",
              "      <th>7</th>\n",
              "      <td>1444891777614426112</td>\n",
              "      <td>Mon Oct 04 05:06:59 +0000 2021</td>\n",
              "      <td>RT @lilianaf523: ISLA LA PALMA. Un nuevo  fenó...</td>\n",
              "      <td>1292</td>\n",
              "      <td>0</td>\n",
              "      <td>0.0</td>\n",
              "    </tr>\n",
              "    <tr>\n",
              "      <th>8</th>\n",
              "      <td>1444891595711602691</td>\n",
              "      <td>Mon Oct 04 05:06:15 +0000 2021</td>\n",
              "      <td>RT @AlertaCambio: Actualización - Volcán Cumbr...</td>\n",
              "      <td>28</td>\n",
              "      <td>0</td>\n",
              "      <td>0.0</td>\n",
              "    </tr>\n",
              "    <tr>\n",
              "      <th>9</th>\n",
              "      <td>1444891137756512257</td>\n",
              "      <td>Mon Oct 04 05:04:26 +0000 2021</td>\n",
              "      <td>RT @kokehtz: 8 minutos de la erupción del volc...</td>\n",
              "      <td>53</td>\n",
              "      <td>0</td>\n",
              "      <td>0.0</td>\n",
              "    </tr>\n",
              "    <tr>\n",
              "      <th>10</th>\n",
              "      <td>1444891131913940992</td>\n",
              "      <td>Mon Oct 04 05:04:25 +0000 2021</td>\n",
              "      <td>RT @JoseAQuirantes: El mar de nubes y las nieb...</td>\n",
              "      <td>5</td>\n",
              "      <td>0</td>\n",
              "      <td>0.0</td>\n",
              "    </tr>\n",
              "    <tr>\n",
              "      <th>11</th>\n",
              "      <td>1444891102306263040</td>\n",
              "      <td>Mon Oct 04 05:04:18 +0000 2021</td>\n",
              "      <td>RT @Finanzas_Times: #ÚLTIMAHORA‼️ #URGENTE‼️\\n...</td>\n",
              "      <td>69</td>\n",
              "      <td>0</td>\n",
              "      <td>0.0</td>\n",
              "    </tr>\n",
              "    <tr>\n",
              "      <th>12</th>\n",
              "      <td>1444891078814019584</td>\n",
              "      <td>Mon Oct 04 05:04:12 +0000 2021</td>\n",
              "      <td>RT @Finanzas_Times: #ÚLTIMAHORA‼️ #URGENTE‼️\\n...</td>\n",
              "      <td>34</td>\n",
              "      <td>0</td>\n",
              "      <td>0.0</td>\n",
              "    </tr>\n",
              "    <tr>\n",
              "      <th>13</th>\n",
              "      <td>1444890823791886338</td>\n",
              "      <td>Mon Oct 04 05:03:11 +0000 2021</td>\n",
              "      <td>Vulcao Cumbre Vieja ao vivo.  https://t.co/zeA...</td>\n",
              "      <td>0</td>\n",
              "      <td>1</td>\n",
              "      <td>0.0</td>\n",
              "    </tr>\n",
              "    <tr>\n",
              "      <th>14</th>\n",
              "      <td>1444890112685400065</td>\n",
              "      <td>Mon Oct 04 05:00:22 +0000 2021</td>\n",
              "      <td>RT @CaraotaDigital: #Internacionales | Volcán ...</td>\n",
              "      <td>5</td>\n",
              "      <td>0</td>\n",
              "      <td>0.0</td>\n",
              "    </tr>\n",
              "  </tbody>\n",
              "</table>\n",
              "</div>"
            ],
            "text/plain": [
              "               tweet_id  ... cosine_scores\n",
              "0   1444893940746964995  ...           0.0\n",
              "1   1444893859591462913  ...           0.0\n",
              "2   1444893689667538945  ...           0.0\n",
              "3   1444892981258039299  ...           0.0\n",
              "4   1444892449374101508  ...           0.0\n",
              "5   1444892395443720193  ...           0.0\n",
              "6   1444892285049606146  ...           0.0\n",
              "7   1444891777614426112  ...           0.0\n",
              "8   1444891595711602691  ...           0.0\n",
              "9   1444891137756512257  ...           0.0\n",
              "10  1444891131913940992  ...           0.0\n",
              "11  1444891102306263040  ...           0.0\n",
              "12  1444891078814019584  ...           0.0\n",
              "13  1444890823791886338  ...           0.0\n",
              "14  1444890112685400065  ...           0.0\n",
              "\n",
              "[15 rows x 6 columns]"
            ]
          },
          "metadata": {},
          "execution_count": 38
        }
      ]
    },
    {
      "cell_type": "code",
      "metadata": {
        "colab": {
          "base_uri": "https://localhost:8080/",
          "height": 520
        },
        "id": "uUW7E1-nJOrN",
        "outputId": "c2dba2b1-c699-43af-ae2f-c7042ef135af"
      },
      "source": [
        "#################################################\n",
        "# Review Dataframe tweets\n",
        "#################################################\n",
        "# Show last N rows\n",
        "full_tweets_frame.iloc[-15:]\n"
      ],
      "execution_count": null,
      "outputs": [
        {
          "output_type": "execute_result",
          "data": {
            "text/html": [
              "<div>\n",
              "<style scoped>\n",
              "    .dataframe tbody tr th:only-of-type {\n",
              "        vertical-align: middle;\n",
              "    }\n",
              "\n",
              "    .dataframe tbody tr th {\n",
              "        vertical-align: top;\n",
              "    }\n",
              "\n",
              "    .dataframe thead th {\n",
              "        text-align: right;\n",
              "    }\n",
              "</style>\n",
              "<table border=\"1\" class=\"dataframe\">\n",
              "  <thead>\n",
              "    <tr style=\"text-align: right;\">\n",
              "      <th></th>\n",
              "      <th>tweet_id</th>\n",
              "      <th>created_at</th>\n",
              "      <th>text</th>\n",
              "      <th>retweet_count</th>\n",
              "      <th>favorite_count</th>\n",
              "      <th>cosine_scores</th>\n",
              "    </tr>\n",
              "  </thead>\n",
              "  <tbody>\n",
              "    <tr>\n",
              "      <th>1289</th>\n",
              "      <td>1442025271217979395</td>\n",
              "      <td>Sun Sep 26 07:16:30 +0000 2021</td>\n",
              "      <td>@ManzanaDori Hace tiempo vi un documental sobr...</td>\n",
              "      <td>1</td>\n",
              "      <td>1</td>\n",
              "      <td>0.0</td>\n",
              "    </tr>\n",
              "    <tr>\n",
              "      <th>1290</th>\n",
              "      <td>1442005465286823937</td>\n",
              "      <td>Sun Sep 26 05:57:48 +0000 2021</td>\n",
              "      <td>RT @PauGenestra: Miles de surferos conspiranoi...</td>\n",
              "      <td>13</td>\n",
              "      <td>0</td>\n",
              "      <td>0.0</td>\n",
              "    </tr>\n",
              "    <tr>\n",
              "      <th>1291</th>\n",
              "      <td>1441923104595341314</td>\n",
              "      <td>Sun Sep 26 00:30:32 +0000 2021</td>\n",
              "      <td>Octubre 1963: Real Madrid y Glasgow Rangers se...</td>\n",
              "      <td>0</td>\n",
              "      <td>0</td>\n",
              "      <td>0.0</td>\n",
              "    </tr>\n",
              "    <tr>\n",
              "      <th>1292</th>\n",
              "      <td>1441911719261966342</td>\n",
              "      <td>Sat Sep 25 23:45:17 +0000 2021</td>\n",
              "      <td>Joan Martí, el sabio de los volcanes: \"La teor...</td>\n",
              "      <td>6</td>\n",
              "      <td>6</td>\n",
              "      <td>0.0</td>\n",
              "    </tr>\n",
              "    <tr>\n",
              "      <th>1293</th>\n",
              "      <td>1441903749719474178</td>\n",
              "      <td>Sat Sep 25 23:13:37 +0000 2021</td>\n",
              "      <td>RT @AlejandroPenles: El volcán de Cumbre Vieja...</td>\n",
              "      <td>1</td>\n",
              "      <td>0</td>\n",
              "      <td>0.0</td>\n",
              "    </tr>\n",
              "    <tr>\n",
              "      <th>1294</th>\n",
              "      <td>1441895927883698183</td>\n",
              "      <td>Sat Sep 25 22:42:32 +0000 2021</td>\n",
              "      <td>@rsarille4 @CharlieWings07 Esta teoría del des...</td>\n",
              "      <td>0</td>\n",
              "      <td>2</td>\n",
              "      <td>0.0</td>\n",
              "    </tr>\n",
              "    <tr>\n",
              "      <th>1295</th>\n",
              "      <td>1441872832330358784</td>\n",
              "      <td>Sat Sep 25 21:10:46 +0000 2021</td>\n",
              "      <td>Octubre 1963: Real Madrid y Glasgow Rangers se...</td>\n",
              "      <td>26</td>\n",
              "      <td>26</td>\n",
              "      <td>0.0</td>\n",
              "    </tr>\n",
              "    <tr>\n",
              "      <th>1296</th>\n",
              "      <td>1441861718087376899</td>\n",
              "      <td>Sat Sep 25 20:26:36 +0000 2021</td>\n",
              "      <td>RT @Amor_y_Rabia: (INFOGRAFICO)\\nLa teoría del...</td>\n",
              "      <td>1</td>\n",
              "      <td>0</td>\n",
              "      <td>0.0</td>\n",
              "    </tr>\n",
              "    <tr>\n",
              "      <th>1297</th>\n",
              "      <td>1441849300367994890</td>\n",
              "      <td>Sat Sep 25 19:37:16 +0000 2021</td>\n",
              "      <td>(INFOGRAFICO)\\nLa teoría del \"megatsunami\" que...</td>\n",
              "      <td>0</td>\n",
              "      <td>0</td>\n",
              "      <td>0.0</td>\n",
              "    </tr>\n",
              "    <tr>\n",
              "      <th>1298</th>\n",
              "      <td>1441848236768067586</td>\n",
              "      <td>Sat Sep 25 19:33:02 +0000 2021</td>\n",
              "      <td>(INFOGRAFICO)\\nLa teoría del \"megatsunami\" que...</td>\n",
              "      <td>0</td>\n",
              "      <td>1</td>\n",
              "      <td>0.0</td>\n",
              "    </tr>\n",
              "    <tr>\n",
              "      <th>1299</th>\n",
              "      <td>1441847642384912387</td>\n",
              "      <td>Sat Sep 25 19:30:40 +0000 2021</td>\n",
              "      <td>(INFOGRAFICO)\\nLa teoría del \"megatsunami\" que...</td>\n",
              "      <td>1</td>\n",
              "      <td>0</td>\n",
              "      <td>0.0</td>\n",
              "    </tr>\n",
              "    <tr>\n",
              "      <th>1300</th>\n",
              "      <td>1441834929046704140</td>\n",
              "      <td>Sat Sep 25 18:40:09 +0000 2021</td>\n",
              "      <td>RT @UrretaJorge: Por qué no hay riesgo de que ...</td>\n",
              "      <td>1</td>\n",
              "      <td>0</td>\n",
              "      <td>0.0</td>\n",
              "    </tr>\n",
              "    <tr>\n",
              "      <th>1301</th>\n",
              "      <td>1441834652197527553</td>\n",
              "      <td>Sat Sep 25 18:39:03 +0000 2021</td>\n",
              "      <td>Por qué no hay riesgo de que el volcán de La P...</td>\n",
              "      <td>1</td>\n",
              "      <td>1</td>\n",
              "      <td>0.0</td>\n",
              "    </tr>\n",
              "    <tr>\n",
              "      <th>1302</th>\n",
              "      <td>1441821449107480581</td>\n",
              "      <td>Sat Sep 25 17:46:35 +0000 2021</td>\n",
              "      <td>@Nova153 Megatsunami en perspective?</td>\n",
              "      <td>0</td>\n",
              "      <td>0</td>\n",
              "      <td>0.0</td>\n",
              "    </tr>\n",
              "    <tr>\n",
              "      <th>1303</th>\n",
              "      <td>1441816691982229513</td>\n",
              "      <td>Sat Sep 25 17:27:41 +0000 2021</td>\n",
              "      <td>El volcán de Cumbre Vieja podria generar Un me...</td>\n",
              "      <td>1</td>\n",
              "      <td>0</td>\n",
              "      <td>0.0</td>\n",
              "    </tr>\n",
              "  </tbody>\n",
              "</table>\n",
              "</div>"
            ],
            "text/plain": [
              "                 tweet_id  ... cosine_scores\n",
              "1289  1442025271217979395  ...           0.0\n",
              "1290  1442005465286823937  ...           0.0\n",
              "1291  1441923104595341314  ...           0.0\n",
              "1292  1441911719261966342  ...           0.0\n",
              "1293  1441903749719474178  ...           0.0\n",
              "1294  1441895927883698183  ...           0.0\n",
              "1295  1441872832330358784  ...           0.0\n",
              "1296  1441861718087376899  ...           0.0\n",
              "1297  1441849300367994890  ...           0.0\n",
              "1298  1441848236768067586  ...           0.0\n",
              "1299  1441847642384912387  ...           0.0\n",
              "1300  1441834929046704140  ...           0.0\n",
              "1301  1441834652197527553  ...           0.0\n",
              "1302  1441821449107480581  ...           0.0\n",
              "1303  1441816691982229513  ...           0.0\n",
              "\n",
              "[15 rows x 6 columns]"
            ]
          },
          "metadata": {},
          "execution_count": 39
        }
      ]
    },
    {
      "cell_type": "code",
      "metadata": {
        "id": "S3pCDWvyJg8H",
        "colab": {
          "base_uri": "https://localhost:8080/",
          "height": 419,
          "referenced_widgets": [
            "064da837813e4b39b693aaffacdd2470",
            "061e8e5f820549d2b68a0ea68e112930",
            "60bb080f70e44467a85ee47cfa76a673",
            "5c75246442f143dc9a28312da95649f7",
            "86804f5d46604d57847ce356191602f0",
            "68133238b90a4d68a49d6631342e31a3",
            "4942048f467a4185b2000471131ead03",
            "1dbbd0e3064f49b79966612f52fba07b",
            "eddb892d3a5a4af2a18ee1694c452d66",
            "7ff94a3d5f134f21af0b7fae2a72f843",
            "e93f515f1fdc4232991ad78680eaf2f4",
            "2a6d12de0f5747d4a996f8f9106c3166",
            "98e3d2e91fd845fe9cd28ce5420c3f1b",
            "f1cd2fd8b88a44648e48645287e370a2",
            "a82aa66ff6b247e28eb5b3c13e0c31f8",
            "015f22fbc2c6484db11e6258886ced78",
            "5e7c3dcb2a284cd6a514200851fae97b",
            "b69d977dad884879bf0d73348fc49aa9",
            "3f8b6f953b9e41beafb07792e84f0aa7",
            "7f5c370b5bea422f8a20cf66eb69c109",
            "d0f9889e8a654a38a4e76a8a3d1b71d2",
            "283e0f089fad47a288019ceddcb1eb66"
          ]
        },
        "outputId": "777c694b-3618-4ae3-8be2-1d405fe99b8f"
      },
      "source": [
        "#################################################\n",
        "# Using Sentence Transformers\n",
        "#################################################\n",
        "\n",
        "# TODO: try to use BETO \n",
        "# https://medium.com/dair-ai/beto-spanish-bert-420e4860d2c6\n",
        "# https://github.com/dccuchile/beto\n",
        "\n",
        "#load model\n",
        "##model = SentenceTransformer('paraphrase-distilroberta-base-v1')\n",
        "##model = SentenceTransformer('all-MiniLM-L6-v2')\n",
        "model = SentenceTransformer('paraphrase-multilingual-mpnet-base-v2')\n",
        "\n",
        "#Change the length to 400\n",
        "model.max_seq_length = 400\n",
        "\n",
        "print('Model cargado a las ', datetime.datetime.now().strftime(\"%d %b %Y - %H:%M:%S\"),'...')    \n"
      ],
      "execution_count": null,
      "outputs": [
        {
          "output_type": "display_data",
          "data": {
            "application/vnd.jupyter.widget-view+json": {
              "model_id": "064da837813e4b39b693aaffacdd2470",
              "version_minor": 0,
              "version_major": 2
            },
            "text/plain": [
              "Downloading:   0%|          | 0.00/690 [00:00<?, ?B/s]"
            ]
          },
          "metadata": {}
        },
        {
          "output_type": "display_data",
          "data": {
            "application/vnd.jupyter.widget-view+json": {
              "model_id": "2a6d12de0f5747d4a996f8f9106c3166",
              "version_minor": 0,
              "version_major": 2
            },
            "text/plain": [
              "Downloading:   0%|          | 0.00/3.77k [00:00<?, ?B/s]"
            ]
          },
          "metadata": {}
        },
        {
          "output_type": "display_data",
          "data": {
            "application/vnd.jupyter.widget-view+json": {
              "model_id": "98e3d2e91fd845fe9cd28ce5420c3f1b",
              "version_minor": 0,
              "version_major": 2
            },
            "text/plain": [
              "Downloading:   0%|          | 0.00/723 [00:00<?, ?B/s]"
            ]
          },
          "metadata": {}
        },
        {
          "output_type": "display_data",
          "data": {
            "application/vnd.jupyter.widget-view+json": {
              "model_id": "f1cd2fd8b88a44648e48645287e370a2",
              "version_minor": 0,
              "version_major": 2
            },
            "text/plain": [
              "Downloading:   0%|          | 0.00/122 [00:00<?, ?B/s]"
            ]
          },
          "metadata": {}
        },
        {
          "output_type": "display_data",
          "data": {
            "application/vnd.jupyter.widget-view+json": {
              "model_id": "a82aa66ff6b247e28eb5b3c13e0c31f8",
              "version_minor": 0,
              "version_major": 2
            },
            "text/plain": [
              "Downloading:   0%|          | 0.00/229 [00:00<?, ?B/s]"
            ]
          },
          "metadata": {}
        },
        {
          "output_type": "display_data",
          "data": {
            "application/vnd.jupyter.widget-view+json": {
              "model_id": "015f22fbc2c6484db11e6258886ced78",
              "version_minor": 0,
              "version_major": 2
            },
            "text/plain": [
              "Downloading:   0%|          | 0.00/1.11G [00:00<?, ?B/s]"
            ]
          },
          "metadata": {}
        },
        {
          "output_type": "display_data",
          "data": {
            "application/vnd.jupyter.widget-view+json": {
              "model_id": "5e7c3dcb2a284cd6a514200851fae97b",
              "version_minor": 0,
              "version_major": 2
            },
            "text/plain": [
              "Downloading:   0%|          | 0.00/53.0 [00:00<?, ?B/s]"
            ]
          },
          "metadata": {}
        },
        {
          "output_type": "display_data",
          "data": {
            "application/vnd.jupyter.widget-view+json": {
              "model_id": "b69d977dad884879bf0d73348fc49aa9",
              "version_minor": 0,
              "version_major": 2
            },
            "text/plain": [
              "Downloading:   0%|          | 0.00/5.07M [00:00<?, ?B/s]"
            ]
          },
          "metadata": {}
        },
        {
          "output_type": "display_data",
          "data": {
            "application/vnd.jupyter.widget-view+json": {
              "model_id": "3f8b6f953b9e41beafb07792e84f0aa7",
              "version_minor": 0,
              "version_major": 2
            },
            "text/plain": [
              "Downloading:   0%|          | 0.00/239 [00:00<?, ?B/s]"
            ]
          },
          "metadata": {}
        },
        {
          "output_type": "display_data",
          "data": {
            "application/vnd.jupyter.widget-view+json": {
              "model_id": "7f5c370b5bea422f8a20cf66eb69c109",
              "version_minor": 0,
              "version_major": 2
            },
            "text/plain": [
              "Downloading:   0%|          | 0.00/9.08M [00:00<?, ?B/s]"
            ]
          },
          "metadata": {}
        },
        {
          "output_type": "display_data",
          "data": {
            "application/vnd.jupyter.widget-view+json": {
              "model_id": "d0f9889e8a654a38a4e76a8a3d1b71d2",
              "version_minor": 0,
              "version_major": 2
            },
            "text/plain": [
              "Downloading:   0%|          | 0.00/402 [00:00<?, ?B/s]"
            ]
          },
          "metadata": {}
        },
        {
          "output_type": "display_data",
          "data": {
            "application/vnd.jupyter.widget-view+json": {
              "model_id": "283e0f089fad47a288019ceddcb1eb66",
              "version_minor": 0,
              "version_major": 2
            },
            "text/plain": [
              "Downloading:   0%|          | 0.00/190 [00:00<?, ?B/s]"
            ]
          },
          "metadata": {}
        },
        {
          "output_type": "stream",
          "name": "stdout",
          "text": [
            "Model cargado a las  07 Oct 2021 - 06:32:28 ...\n"
          ]
        }
      ]
    },
    {
      "cell_type": "code",
      "metadata": {
        "id": "nBpdHlz7aw3i",
        "colab": {
          "base_uri": "https://localhost:8080/"
        },
        "outputId": "06176787-b73f-472e-df38-3a830e7b80c5"
      },
      "source": [
        "#################################################\n",
        "# Using BERT Sentence to process all stored tweets\n",
        "#################################################\n",
        "\n",
        "#DEBUG code\n",
        "##sentences_test = ['This framework generates embeddings for each input sentence',\n",
        "##    'Sentences are passed as a list of string.', \n",
        "##    'The quick brown fox jumps over the lazy dog.']\n",
        "##print(type(sentences_test))\n",
        "##print(type(sentences_test) == type(preproc_txt))\n",
        "\n",
        "#Compute embeddings\n",
        "# Provide twits to the model\n",
        "sentence_embeddings = model.encode(preproc_txt)\n",
        "\n",
        "print('\\nCodificación de embeddings de todos los tweets a las ', datetime.datetime.now().strftime(\"%d %b %Y - %H:%M:%S\"),'...')"
      ],
      "execution_count": null,
      "outputs": [
        {
          "output_type": "stream",
          "name": "stdout",
          "text": [
            "\n",
            "Codificación de embeddings de todos los tweets a las  07 Oct 2021 - 06:34:31 ...\n"
          ]
        }
      ]
    },
    {
      "cell_type": "code",
      "metadata": {
        "colab": {
          "base_uri": "https://localhost:8080/"
        },
        "id": "PR9J0MDJGv11",
        "outputId": "7c888677-1a96-4c43-b7dc-969820a18ea1"
      },
      "source": [
        "#################################################\n",
        "# Get by hand my selected fake news tweet\n",
        "#################################################\n",
        "# Fake news target:\n",
        "##jose luis araque\n",
        "##@1joseluis752\n",
        "##Sep 29\n",
        "my_selected_tweet0 = 'Según los modelos elaborados por los investigadores Steven Ward y Simon Day, la actividad sísmica del Cumbre Vieja; podría provocar el desprendimiento de rocas de hasta 500 kilómetros cúbicos, haciendo que se deslicen y generando un mega tsunami'\n",
        "\n",
        "my_selected_tweet_full = my_selected_tweet3\n",
        "###print(my_selected_tweet_full)\n",
        "\n",
        "\n",
        "# Find the selected fake news between all tweet sand get \n",
        "# index of the selected tweet in the dataframe\n",
        "##full_tweets_frame.iloc[2,0]\n",
        "the_index = full_tweets_frame.loc[full_tweets_frame[:]['text'].str.contains(my_selected_tweet_full, case=False)].index.values[0]\n",
        "print('Index of tweet: '+str(the_index))\n",
        "rowData = full_tweets_frame.loc[the_index,:]\n",
        "print(rowData)\n",
        "\n",
        "#Compute embeddings\n",
        "# Provide twits to the model\n",
        "my_selected_tweet_embedding = model.encode(my_selected_tweet_full)\n",
        "##print(my_selected_tweet_embedding)\n",
        "\n",
        "print('Codificación de embeddings del tweet seleccionado a las ', datetime.datetime.now().strftime(\"%d %b %Y - %H:%M:%S\"),'...')"
      ],
      "execution_count": null,
      "outputs": [
        {
          "output_type": "stream",
          "name": "stdout",
          "text": [
            "Index of tweet: 1069\n",
            "tweet_id                                        1443007736195817481\n",
            "created_at                           Wed Sep 29 00:20:28 +0000 2021\n",
            "text              Según los modelos elaborados por los investiga...\n",
            "retweet_count                                                     1\n",
            "favorite_count                                                    0\n",
            "cosine_scores                                              0.542736\n",
            "Name: 1069, dtype: object\n",
            "Codificación de embeddings del tweet seleccionado a las  07 Oct 2021 - 07:09:12 ...\n"
          ]
        }
      ]
    },
    {
      "cell_type": "markdown",
      "metadata": {
        "id": "LQBp1m_kwvbX"
      },
      "source": [
        "##Fase 03 - Cálculo de distancias\n",
        "\n",
        "En esta fase trataremos de utilizar los embeddings almacenados para calcular las similitud entre los textos de los tweets utilizando la distancia por coseno.\n",
        "\n",
        "\n",
        "###Distancia Coseno\n",
        "\n",
        "Un enfoque comúnmente utilizado para hacer coincidir documentos similares se basa en contar el número máximo de palabras comunes entre los documentos, enfoque a todas luces defectuoso, ya que a medida que aumenta el tamaño del documento, la cantidad de palabras comunes tiende a aumentar incluso si los documentos hablan de diferentes temas."
      ]
    },
    {
      "cell_type": "code",
      "metadata": {
        "id": "tIJPbIKh0_6e",
        "colab": {
          "base_uri": "https://localhost:8080/"
        },
        "outputId": "7e2efd11-cc15-4cdf-998f-918b89f7bfb4"
      },
      "source": [
        "#################################################\n",
        "# COSEIN distances for 1 to n\n",
        "# Our objective is to quantitatively estimate the \n",
        "# similarity between selected tweets and all each \n",
        "# others\n",
        "#################################################\n",
        "\n",
        "#Compute cosine-similarities for each sentence with each other sentence\n",
        "cosine_scores = util.pytorch_cos_sim(my_selected_tweet_embedding, sentence_embeddings)\n",
        "##print(cosine_scores)\n",
        "\n",
        "#################################################\n",
        "# Write output in file, in order to see data better\n",
        "write_on_file = True\n",
        "\n",
        "if write_on_file:\n",
        "  with open(BASE_FOLDER+'20211007_tweets_with_scores.txt', 'a') as the_file:\n",
        "\n",
        "    #Output the pairs with their score\n",
        "    for i in range(len(preproc_txt)):\n",
        "        print('\\n --- Tweet ',i,' ---', file=the_file)\n",
        "        print(\"Tweet Seleccionado: {} \\nTweet Comparado: {} \\n    Similitud: {:.4f}\".format(my_selected_tweet_full, preproc_txt[i], cosine_scores[0][i]), file=the_file)\n",
        "    #end_for\n",
        "\n",
        "  the_file.close()   \n",
        "\n",
        "  print('Fichero de similitudes creado a las ', datetime.datetime.now().strftime(\"%d %b %Y - %H:%M:%S\"),'...')  \n",
        "else:\n",
        "  print('!ATENCIÓN¡ Fichero no escrito...', datetime.datetime.now().strftime(\"%d %b %Y - %H:%M:%S\"),'...')   \n",
        "#end_if\n"
      ],
      "execution_count": null,
      "outputs": [
        {
          "output_type": "stream",
          "name": "stdout",
          "text": [
            "Fichero de similitudes creado a las  07 Oct 2021 - 07:10:00 ...\n"
          ]
        }
      ]
    },
    {
      "cell_type": "code",
      "metadata": {
        "id": "VJi--7CocCLc",
        "colab": {
          "base_uri": "https://localhost:8080/"
        },
        "outputId": "c1e20047-419b-4dd6-9c26-66abc89fbd62"
      },
      "source": [
        "#################################################\n",
        "# Add distance score to the dataframe for next using\n",
        "#################################################\n",
        "\n",
        "for i in range(len(preproc_txt)):\n",
        "\n",
        "    try:\n",
        "      found_index = full_tweets_frame.loc[full_tweets_frame[:]['text'].str.contains(preproc_txt[i], case=False)].index.values[0]\n",
        "      #print(found_index)    \n",
        "    except Exception as e:\n",
        "      msg = e\n",
        "      #print(msg)  \n",
        "\n",
        "    if found_index in full_tweets_frame.index:\n",
        "      try:\n",
        "        ##print('Tweet: ' + full_tweets_frame.iloc[found_index][5])\n",
        "        full_tweets_frame.loc[found_index,'cosine_scores'] = float(cosine_scores[0][i])\n",
        "        ##print('Stored distance: ' + str(full_tweets_frame.loc[found_index,'cosine_scores']))\n",
        "      except Exception as e2:\n",
        "        msg = e2\n",
        "        #print(msg)       \n",
        "    else:\n",
        "      print('No index found')\n",
        "    #end_if\n",
        "#end_for\n",
        "\n",
        "# avoid NaNs\n",
        "full_tweets_frame['cosine_scores'] = full_tweets_frame['cosine_scores'].replace(np.nan, 0)\n",
        "\n",
        "print('Dataset reestructurado a las ', datetime.datetime.now().strftime(\"%d %b %Y - %H:%M:%S\"),'...') "
      ],
      "execution_count": null,
      "outputs": [
        {
          "output_type": "stream",
          "name": "stderr",
          "text": [
            "/usr/local/lib/python3.7/dist-packages/pandas/core/strings.py:2001: UserWarning: This pattern has match groups. To actually get the groups, use str.extract.\n",
            "  return func(self, *args, **kwargs)\n"
          ]
        },
        {
          "output_type": "stream",
          "name": "stdout",
          "text": [
            "Dataset reestructurado a las  07 Oct 2021 - 07:10:09 ...\n"
          ]
        }
      ]
    },
    {
      "cell_type": "code",
      "metadata": {
        "colab": {
          "base_uri": "https://localhost:8080/",
          "height": 520
        },
        "id": "ubVq4TtOgNiA",
        "outputId": "75d80e4a-9c87-46a8-e393-2521f58d53a6"
      },
      "source": [
        "#################################################\n",
        "# Review Dataframe tweets\n",
        "#################################################\n",
        "\n",
        "# Show first N rows\n",
        "full_tweets_frame.head(15)"
      ],
      "execution_count": null,
      "outputs": [
        {
          "output_type": "execute_result",
          "data": {
            "text/html": [
              "<div>\n",
              "<style scoped>\n",
              "    .dataframe tbody tr th:only-of-type {\n",
              "        vertical-align: middle;\n",
              "    }\n",
              "\n",
              "    .dataframe tbody tr th {\n",
              "        vertical-align: top;\n",
              "    }\n",
              "\n",
              "    .dataframe thead th {\n",
              "        text-align: right;\n",
              "    }\n",
              "</style>\n",
              "<table border=\"1\" class=\"dataframe\">\n",
              "  <thead>\n",
              "    <tr style=\"text-align: right;\">\n",
              "      <th></th>\n",
              "      <th>tweet_id</th>\n",
              "      <th>created_at</th>\n",
              "      <th>text</th>\n",
              "      <th>retweet_count</th>\n",
              "      <th>favorite_count</th>\n",
              "      <th>cosine_scores</th>\n",
              "    </tr>\n",
              "  </thead>\n",
              "  <tbody>\n",
              "    <tr>\n",
              "      <th>0</th>\n",
              "      <td>1444893940746964995</td>\n",
              "      <td>Mon Oct 04 05:15:34 +0000 2021</td>\n",
              "      <td>este flujo incandescente ya ha arrasado con va...</td>\n",
              "      <td>0</td>\n",
              "      <td>0</td>\n",
              "      <td>0.452147</td>\n",
              "    </tr>\n",
              "    <tr>\n",
              "      <th>1</th>\n",
              "      <td>1444893859591462913</td>\n",
              "      <td>Mon Oct 04 05:15:15 +0000 2021</td>\n",
              "      <td>RT @EarthquakeChil1: ATENCION CARIBE | Las par...</td>\n",
              "      <td>691</td>\n",
              "      <td>0</td>\n",
              "      <td>0.420222</td>\n",
              "    </tr>\n",
              "    <tr>\n",
              "      <th>2</th>\n",
              "      <td>1444893689667538945</td>\n",
              "      <td>Mon Oct 04 05:14:35 +0000 2021</td>\n",
              "      <td>RT @apoyoasanchez: ÚLTIMA HORA\\n\\nEl president...</td>\n",
              "      <td>70</td>\n",
              "      <td>0</td>\n",
              "      <td>0.461877</td>\n",
              "    </tr>\n",
              "    <tr>\n",
              "      <th>3</th>\n",
              "      <td>1444892981258039299</td>\n",
              "      <td>Mon Oct 04 05:11:46 +0000 2021</td>\n",
              "      <td>RT @HoyPorHoy: ⭕ Así se ve la isla de lava que...</td>\n",
              "      <td>11</td>\n",
              "      <td>0</td>\n",
              "      <td>0.501631</td>\n",
              "    </tr>\n",
              "    <tr>\n",
              "      <th>4</th>\n",
              "      <td>1444892449374101508</td>\n",
              "      <td>Mon Oct 04 05:09:39 +0000 2021</td>\n",
              "      <td>RT @A3Noticias: ▶  El volcán de Cumbre Vieja h...</td>\n",
              "      <td>1</td>\n",
              "      <td>0</td>\n",
              "      <td>0.436091</td>\n",
              "    </tr>\n",
              "    <tr>\n",
              "      <th>5</th>\n",
              "      <td>1444892395443720193</td>\n",
              "      <td>Mon Oct 04 05:09:26 +0000 2021</td>\n",
              "      <td>RT @NonNobis10:  ÚLTIMA HORA |  | SE DERRUMBA ...</td>\n",
              "      <td>2</td>\n",
              "      <td>0</td>\n",
              "      <td>0.000000</td>\n",
              "    </tr>\n",
              "    <tr>\n",
              "      <th>6</th>\n",
              "      <td>1444892285049606146</td>\n",
              "      <td>Mon Oct 04 05:09:00 +0000 2021</td>\n",
              "      <td>Últimas noticias en directo sobre el volcán de...</td>\n",
              "      <td>0</td>\n",
              "      <td>3</td>\n",
              "      <td>0.429386</td>\n",
              "    </tr>\n",
              "    <tr>\n",
              "      <th>7</th>\n",
              "      <td>1444891777614426112</td>\n",
              "      <td>Mon Oct 04 05:06:59 +0000 2021</td>\n",
              "      <td>RT @lilianaf523: ISLA LA PALMA. Un nuevo  fenó...</td>\n",
              "      <td>1292</td>\n",
              "      <td>0</td>\n",
              "      <td>0.513310</td>\n",
              "    </tr>\n",
              "    <tr>\n",
              "      <th>8</th>\n",
              "      <td>1444891595711602691</td>\n",
              "      <td>Mon Oct 04 05:06:15 +0000 2021</td>\n",
              "      <td>RT @AlertaCambio: Actualización - Volcán Cumbr...</td>\n",
              "      <td>28</td>\n",
              "      <td>0</td>\n",
              "      <td>0.389860</td>\n",
              "    </tr>\n",
              "    <tr>\n",
              "      <th>9</th>\n",
              "      <td>1444891137756512257</td>\n",
              "      <td>Mon Oct 04 05:04:26 +0000 2021</td>\n",
              "      <td>RT @kokehtz: 8 minutos de la erupción del volc...</td>\n",
              "      <td>53</td>\n",
              "      <td>0</td>\n",
              "      <td>0.441965</td>\n",
              "    </tr>\n",
              "    <tr>\n",
              "      <th>10</th>\n",
              "      <td>1444891131913940992</td>\n",
              "      <td>Mon Oct 04 05:04:25 +0000 2021</td>\n",
              "      <td>RT @JoseAQuirantes: El mar de nubes y las nieb...</td>\n",
              "      <td>5</td>\n",
              "      <td>0</td>\n",
              "      <td>0.532725</td>\n",
              "    </tr>\n",
              "    <tr>\n",
              "      <th>11</th>\n",
              "      <td>1444891102306263040</td>\n",
              "      <td>Mon Oct 04 05:04:18 +0000 2021</td>\n",
              "      <td>RT @Finanzas_Times: #ÚLTIMAHORA‼️ #URGENTE‼️\\n...</td>\n",
              "      <td>69</td>\n",
              "      <td>0</td>\n",
              "      <td>0.614712</td>\n",
              "    </tr>\n",
              "    <tr>\n",
              "      <th>12</th>\n",
              "      <td>1444891078814019584</td>\n",
              "      <td>Mon Oct 04 05:04:12 +0000 2021</td>\n",
              "      <td>RT @Finanzas_Times: #ÚLTIMAHORA‼️ #URGENTE‼️\\n...</td>\n",
              "      <td>34</td>\n",
              "      <td>0</td>\n",
              "      <td>0.537597</td>\n",
              "    </tr>\n",
              "    <tr>\n",
              "      <th>13</th>\n",
              "      <td>1444890823791886338</td>\n",
              "      <td>Mon Oct 04 05:03:11 +0000 2021</td>\n",
              "      <td>Vulcao Cumbre Vieja ao vivo.  https://t.co/zeA...</td>\n",
              "      <td>0</td>\n",
              "      <td>1</td>\n",
              "      <td>0.143642</td>\n",
              "    </tr>\n",
              "    <tr>\n",
              "      <th>14</th>\n",
              "      <td>1444890112685400065</td>\n",
              "      <td>Mon Oct 04 05:00:22 +0000 2021</td>\n",
              "      <td>RT @CaraotaDigital: #Internacionales | Volcán ...</td>\n",
              "      <td>5</td>\n",
              "      <td>0</td>\n",
              "      <td>0.422319</td>\n",
              "    </tr>\n",
              "  </tbody>\n",
              "</table>\n",
              "</div>"
            ],
            "text/plain": [
              "               tweet_id  ... cosine_scores\n",
              "0   1444893940746964995  ...      0.452147\n",
              "1   1444893859591462913  ...      0.420222\n",
              "2   1444893689667538945  ...      0.461877\n",
              "3   1444892981258039299  ...      0.501631\n",
              "4   1444892449374101508  ...      0.436091\n",
              "5   1444892395443720193  ...      0.000000\n",
              "6   1444892285049606146  ...      0.429386\n",
              "7   1444891777614426112  ...      0.513310\n",
              "8   1444891595711602691  ...      0.389860\n",
              "9   1444891137756512257  ...      0.441965\n",
              "10  1444891131913940992  ...      0.532725\n",
              "11  1444891102306263040  ...      0.614712\n",
              "12  1444891078814019584  ...      0.537597\n",
              "13  1444890823791886338  ...      0.143642\n",
              "14  1444890112685400065  ...      0.422319\n",
              "\n",
              "[15 rows x 6 columns]"
            ]
          },
          "metadata": {},
          "execution_count": 59
        }
      ]
    },
    {
      "cell_type": "code",
      "metadata": {
        "colab": {
          "base_uri": "https://localhost:8080/"
        },
        "id": "Uq_3Pe3q4gy6",
        "outputId": "23aba6ae-48c8-4868-e0b5-0d7a253aa990"
      },
      "source": [
        "######################################################\n",
        "# Write output in file, in order to see data better\n",
        "######################################################\n",
        "\n",
        "write_on_file = True\n",
        "\n",
        "only_fakes_threshold = 0.7\n",
        "\n",
        "if write_on_file:\n",
        "  with open(BASE_FOLDER+'20211007_tweets_fakes.txt', 'a') as the_file:\n",
        "      for i in range(len(preproc_txt)):\n",
        "          try:\n",
        "            found_index = full_tweets_frame.loc[full_tweets_frame[:]['text'].str.contains(preproc_txt[i], case=False)].index.values[0]\n",
        "            #print(found_index)    \n",
        "          except Exception as e:\n",
        "            #print(e)  \n",
        "            msg = 'Nothing to do'\n",
        "          #end_try\n",
        "\n",
        "          if found_index in full_tweets_frame.index:\n",
        "            try:\n",
        "              if cosine_scores[0][i] > only_fakes_threshold:\n",
        "                  print('\\n --- Tweet ',i,' ---', file=the_file)\n",
        "                  print(\"Tweet Seleccionado: {} \\nTweet Comparado: {} \\n    Cuando: {} \\n    Similitud: {:.4f}\"\n",
        "                          .format(my_selected_tweet_full, full_tweets_frame.loc[found_index,'text'], full_tweets_frame.loc[found_index,'created_at'], cosine_scores[0][i])\n",
        "                          , file=the_file)\n",
        "\n",
        "            except Exception as e2:\n",
        "              #print(e2)       \n",
        "              msg = 'Nothing to do'\n",
        "            #end_try\n",
        "          else:\n",
        "            print('No index found')\n",
        "          #end_if\n",
        "      #end_for\n",
        "\n",
        "  the_file.close()   \n",
        "\n",
        "  print('Fichero de noticias falsas creado a las ', datetime.datetime.now().strftime(\"%d %b %Y - %H:%M:%S\"),'...')  \n",
        "else:\n",
        "  print('!ATENCIÓN¡ Fichero no escrito...', datetime.datetime.now().strftime(\"%d %b %Y - %H:%M:%S\"),'...')   \n",
        "#end_if      "
      ],
      "execution_count": null,
      "outputs": [
        {
          "output_type": "stream",
          "name": "stderr",
          "text": [
            "/usr/local/lib/python3.7/dist-packages/pandas/core/strings.py:2001: UserWarning: This pattern has match groups. To actually get the groups, use str.extract.\n",
            "  return func(self, *args, **kwargs)\n"
          ]
        },
        {
          "output_type": "stream",
          "name": "stdout",
          "text": [
            "Fichero de noticias falsas creado a las  07 Oct 2021 - 07:10:19 ...\n"
          ]
        }
      ]
    },
    {
      "cell_type": "code",
      "metadata": {
        "id": "mnenrkz8z09j",
        "colab": {
          "base_uri": "https://localhost:8080/"
        },
        "outputId": "f86ee219-ff38-4e79-e98d-860a5eec7d3b"
      },
      "source": [
        "# https://stackoverflow.com/questions/7670280/tree-plotting-in-python\n",
        "# https://pypi.org/project/treelib/\n",
        "##!pip install treelib\n",
        "\n",
        "from datetime import datetime\n",
        "\n",
        "from treelib import Node, Tree\n",
        "\n",
        "tree = Tree()\n",
        "the_parent = 'root'\n",
        "root_txt = 'Notica Falsa de origen: ' + my_selected_tweet_full.replace('\\n','')\n",
        "tree.create_node(root_txt, the_parent)  # No parent means its the root node\n",
        "\n",
        "for i in range(len(preproc_txt)):\n",
        "\n",
        "    try:\n",
        "      found_index = full_tweets_frame.loc[full_tweets_frame[:]['text'].str.contains(preproc_txt[i], case=False)].index.values[0]\n",
        "      #print(found_index)    \n",
        "    except Exception as e:\n",
        "      #print(e)  \n",
        "      msg = 'Nothing to do'\n",
        "    #end_try\n",
        "\n",
        "    if found_index in full_tweets_frame.index:\n",
        "      try:\n",
        "        if cosine_scores[0][i] > only_fakes_threshold:\n",
        "            #print('\\n --- Tweet ',i,' ---') #, file=the_file)\n",
        "\n",
        "            txt = full_tweets_frame.loc[found_index,'text']\n",
        "\n",
        "            #Avoid insert the own selected fake news\n",
        "            if (txt != my_selected_tweet_full) and (my_selected_tweet_full not in txt):\n",
        "                txt = txt.replace('\\n','')\n",
        "                #print(txt)\n",
        "\n",
        "                t_id = full_tweets_frame.loc[found_index,'tweet_id']\n",
        "                #print(t_id)\n",
        "\n",
        "                when = full_tweets_frame.loc[found_index,'created_at']\n",
        "                #print(when)\n",
        "\n",
        "                score = full_tweets_frame.loc[found_index,'cosine_scores']\n",
        "                #print(score)\n",
        "\n",
        "                ##Mon Oct 04 00:34:33 +0000 2021\n",
        "                when2 = datetime.strptime(when,'%a %b %d %H:%M:%S %z %Y')\n",
        "                #full_txt = str(t_id) +' - '+ when2.strftime(\"%Y-%m-%d %H:%M:%S\") + ' - ' + str(round(score,5)) + ' - ' + txt ##txt[0:120] + '...'\n",
        "                full_txt = when2.strftime(\"%Y-%m-%d %H:%M:%S\") + ' - ' + str(round(score,5)) + ' - ' + txt ##txt[0:120] + '...'\n",
        "\n",
        "                #tree branch\n",
        "                tree.create_node(full_txt, t_id, parent=the_parent)\n",
        "                the_parent = t_id\n",
        "            #end_if\n",
        "      except Exception as e2:\n",
        "        print(e2)       \n",
        "        msg = 'Nothing to do'\n",
        "      #end_try\n",
        "    else:\n",
        "      print('No index found')\n",
        "    #end_if\n",
        "#end_for\n",
        "\n",
        "\n",
        "tree.show()"
      ],
      "execution_count": null,
      "outputs": [
        {
          "output_type": "stream",
          "name": "stderr",
          "text": [
            "/usr/local/lib/python3.7/dist-packages/pandas/core/strings.py:2001: UserWarning: This pattern has match groups. To actually get the groups, use str.extract.\n",
            "  return func(self, *args, **kwargs)\n"
          ]
        },
        {
          "output_type": "stream",
          "name": "stdout",
          "text": [
            "Can't create node with ID '1443406598240624643'\n",
            "Notica Falsa de origen: Según los modelos elaborados por los investigadores Steven Ward y Simon Day, la actividad sísmica del Cumbre Vieja; podría provocar el desprendimiento de rocas de hasta 500 kilómetros cúbicos, haciendo que se deslicen y generando un mega tsunami\n",
            "└── 2021-09-24 07:17:38 - 0.71859 - El vulcanólogo Thomas Walter señaló a la agencia alemana DW que, hace 20 años, surgió el pronóstico de un cataclismo en la isla española que podría causar un mega maremoto en el Océano Atlántico.https://t.co/IUI6ASJ580\n",
            "    └── 2021-09-24 06:32:43 - 0.70868 - El vulcanólogo Thomas Walter señaló a la agencia alemana DW que, hace 20 años, surgió el pronóstico de un cataclismo en la isla española que podría causar un mega maremoto en el Océano Atlántico.https://t.co/t7FeKVRo3G\n",
            "        └── 2021-09-24 03:28:11 - 0.72582 - @TuiteroSismico Será cierto el estudio que este volcán puede provocar un mega tsunami?\n",
            "            └── 2021-09-23 21:18:14 - 0.71896 - El estudio del Hazard Research Centre de la Universidad College de Londres, y que uno de sus pupilos, Simon Day,difundieron en un documental de National Geographic llamado 'Disaster Earth' en el año 2005.En el documental explica la posibilidad de un mega tsunami#Horizonte https://t.co/6HA1YAubmq\n",
            "                └── 2021-09-23 21:07:58 - 0.7494 - @elmundoes ¡AVISO URGENTE! La isla se va a partir y habrá un mega-tsunami,los medios y los gobiernos lo saben y no están avisando.Hubo una reunión en la Casa Blanca y se decidió no avisar para no crear pánico. Que la gente salga de las Canarias y de las costas! #LaPalma #Tsunami\n",
            "                    └── 2021-09-23 20:15:10 - 0.71687 - Yo no descartaría todavía la teoría del mega tsunami por el desprendimiento de Cumbre Vieja.De momento las predicciones se están cumpliendo. No vaya a ser que de 0 víctimas, pasemos a miles por incrédulos.\n",
            "                        └── 2021-09-22 18:55:13 - 0.74789 - Volcán cumbre vieja. Canarias.1-linea de falla2-posible desprendimiento de parte de la montañaDe ocurrir ese fenómeno odria generar un mega-tsunami con consecuencias catastróficas. https://t.co/3fxTKy1E9d\n",
            "                            └── 2021-09-21 19:01:53 - 0.70452 - @LaDamadNoche Las fisuras se han producido mucho más abajo. No se puede producir el desprendimiento del terreno previsto y, de ocurrir, el movimiento de tierras es insuficiente para producir el famosos y catastrófico mega tsunami.\n",
            "                                └── 2021-09-20 18:11:41 - 0.70524 - La erupción de La Palma resucita la teoría del \"mega-tsunami\": por qué no es posible, en @Ciencia_EE https://t.co/ssRNFWbLMr\n",
            "                                    └── 2021-09-20 14:53:40 - 0.70932 - La erupción de La Palma resucita la teoría del \"mega-tsunami\": por qué no es posible https://t.co/InC6DeIDIN\n",
            "                                        └── 2021-09-20 13:47:10 - 0.56664 - La erupción de La Palma resucita la teoría del \"mega-tsunami\": por qué no es posible, en @Ciencia_EE https://t.co/scsDTdsrXi\n",
            "                                            └── 2021-09-20 05:35:52 - 0.60128 - RT @carminapher: @tibujose Ay no. Un mega tsunami...No estoy preparada psicológicamente para un evento así.\n",
            "                                                └── 2021-09-20 02:57:04 - 0.78302 - Hay una teoría de un mega tsunami que se formaría por una erupción en cumbre vieja, dicho tsunami afectaría a todas las costas de América justo donde hoy hay una erupción\n",
            "                                                    └── 2021-09-20 00:15:54 - 0.75662 - RT @RodRettig: A propósito de La Palma, se estudia hace décadas un posible mega tsunami q se produce por enormes deslizamientos de tierra q\n",
            "                                                        └── 2021-09-19 23:51:27 - 0.75081 - @ZoraidaRosas2 Pues será varios días, semanas o unos meses Pero rezo para que no tiemble más fuerte qué ese es el peligro si se rompe la isla y se hunde que provocaría un mega tsunami que destrozaria las islas del Caribe, costa de América del Sur, costa este de USA y costa Africana y Península\n",
            "                                                            └── 2021-09-19 18:36:48 - 0.71003 - @sipr0rdelta_01 Se hace un mega tsunami de proporción bíblica y ahí sí hasta el malecón de Veracruz se lo lleva la chinita hilaria.\n",
            "                                                                └── 2021-09-19 16:38:29 - 0.76184 - Teoría de un Mega tsunami que pudiera estar provocado por la erupción volcánica en la isla de la Palma, olas de 1000 pies de altura que hundirían parte de la costa este americana. https://t.co/OliLECjgiO\n",
            "                                                                    └── 2021-09-19 15:00:07 - 0.7 - URGENTE: hace Erupción volcán en las Palmas. Ante una erupción mayor podría causar un mega tsunami que podría afectar a toda la costa del atlántica de toda América\n",
            "                                                                        └── 2021-09-19 14:40:31 - 0.71201 - @OFFTHET4BLE si pero si la cosa se pone grave la erupcion puede generar un mega tsunami que afecte a toda la costa este de todo el continente americano y a mas lugares del mundo\n",
            "                                                                            └── 2021-09-19 14:37:36 - 0.71836 - En alguna parte leí que si hay derrumbe hacia el mar, provocaría un mega tsunami... https://t.co/vdOdKFqgC1\n",
            "                                                                                └── 2021-09-19 13:38:29 - 0.77176 - De la isla española La Palma en el Océano Atlántico. Los científicos calculan que una erupción del volcán Cumbre Vieja podría derramar unos 500 mil millones de toneladas de tierra y rocas al mar. “Ésa sería la fuente de un mega-tsunami hasta ahora inédito en la nueva era...\n",
            "                                                                                    └── 2021-09-18 13:31:57 - 0.70189 - Mega tsunami Volcán cumbre viejahttps://t.co/ncHnvgQRCZ\n",
            "                                                                                        └── 2021-09-17 22:15:34 - 0.70439 - @LnaThunderstorm Estaba pensando en la teoría del mega tsunami\n",
            "                                                                                            └── 2021-09-17 11:25:06 - 0.73436 - El volcán #CumbreVieja de entrar en erupción podría causar un mega tsunami que viajaría a 800 km/h afectando ciudades en todo el Atlántico. https://t.co/8fALo0OAvN\n",
            "                                                                                                └── 2021-09-16 22:04:40 - 0.70166 - ¿Un mega Tsunami que destruya la costa este useña?\n",
            "                                                                                                    └── 2021-09-25 13:54:09 - 0.65048 - RT @Finanzas_Times: Cuando la ladera del volcán se desprenda y se hunda en el mar, una ola de 900 metros de altura devastará algunas partes\n",
            "                                                                                                        └── 2021-09-30 14:27:05 - 0.72693 - RT @Arachnofool: @AugeAabye Así sería el Mega tsunami causado por el volcán. Puede que la erupción pierda fuerza en estos días, pero el ev\n",
            "                                                                                                            └── 2021-09-30 11:14:38 - 0.74452 - @AugeAabye Así sería el Mega tsunami causado por el volcán. Puede que la erupción pierda fuerza en estos días, pero el eventual desenlace parece inevitable https://t.co/AVFMB2ykKK\n",
            "                                                                                                                └── 2021-09-30 02:45:24 - 0.74941 - Hoy youtube me recomendó un documental de National Geographic sobre el volcán ese que está haciendo erupción en España y como hay un riesgo de que cause un mega tsunami que mataría a millones de personasE\n",
            "                                                                                                                    └── 2021-09-29 17:55:08 - 0.72961 - @el_pais Unos científicos en un documental prevén un desprendimiento de una parte de la isla provocando un megá tsunami. ¿Ocurrirá?\n",
            "                                                                                                                        └── 2021-09-29 00:23:33 - 0.8038 - RT @1joseluis752: Según los modelos elaborados por los investigadores Steven Ward y Simon Day, la actividad sísmica del Cumbre Vieja; podrí\n",
            "                                                                                                                            └── 2021-09-27 22:56:02 - 0.70398 - Cientificos descarta que las erupciones del Volcan de Cumbra Vieja baya a causar Mega Tsunami en las costes este de Estados Unidos y el Caribe! https://t.co/MX3jxlFkEQ\n",
            "                                                                                                                                └── 2021-09-26 20:05:06 - 0.70751 - @brasinolo @Raqueljoaira Por cierto hace más de una década que estaba pronosticado que podía desgajarse una parte de la isla y caer al mar, provocando un mega tsunami, fruto de la actividad volcánica\n",
            "                                                                                                                                    └── 2021-09-25 22:07:48 - 0.75529 - https://t.co/M58H9zwE9W. TERRORÍFICO, expertos alerta de un posible mega tsunami tras la erupción del volcán de la Cumbre vieja\n",
            "                                                                                                                                        └── 2021-09-25 18:31:28 - 0.70203 - @LaTrueVader Supermega tsunamiMega terremotosCatastrofes impredeciblesSe supone que la falla de la palma entra en contacto los campos flegreos y con la de yellowstone y nos vamos a la mierda.\n",
            "                                                                                                                                            └── 2021-09-30 15:20:44 - 0.70001 - Por qué no hay riesgo de que el volcán de La Palma genere un ‘megatsunami’ https://t.co/xdpDOqIcLf @Lidia_San_Jose\n",
            "                                                                                                                                                └── 2021-09-30 13:20:12 - 0.70693 - El riesgo del volcán es que pegue un petardazo y se desprenda la ladera y está llega al mar, ya entonces cagamos, megatsunami\n",
            "                                                                                                                                                    └── 2021-09-27 02:41:35 - 0.73515 - Aclarar la probabilidad de ocurrencia de esta teoría de megatsunami que se podría originar en cadena:1-Erupciones 2-Aperrura de más “bocas del volcán 3-Se desprende roca de 24 km y cae al mar 4- El tsunami afecta EEUU, el caribe y Latinoamérica :  https://t.co/dXmKO4YgzE\n",
            "                                                                                                                                                        └── 2021-09-25 21:10:46 - 0.68201 - Octubre 1963: Real Madrid y Glasgow Rangers se reúnen con el 'Megatsunami' de la Presa de Vajont.Una historia olvidada.Por Alejandro Delmás Infantehttps://t.co/k8gm60CxGc https://t.co/1vqa0Pf79q\n",
            "\n"
          ]
        }
      ]
    },
    {
      "cell_type": "code",
      "metadata": {
        "id": "PGBDQQo-dAaE"
      },
      "source": [
        ""
      ],
      "execution_count": null,
      "outputs": []
    },
    {
      "cell_type": "code",
      "metadata": {
        "id": "aHxu8E-Mc6_C"
      },
      "source": [
        ""
      ],
      "execution_count": null,
      "outputs": []
    }
  ]
}